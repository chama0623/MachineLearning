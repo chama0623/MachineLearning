{
 "cells": [
  {
   "cell_type": "code",
   "execution_count": 2,
   "metadata": {},
   "outputs": [],
   "source": [
    "import pulp"
   ]
  },
  {
   "cell_type": "markdown",
   "metadata": {},
   "source": [
    "# 例1\n",
    "\n",
    "maximize : $z=2x_1+3x_2$\n",
    "\n",
    "subject to :   \n",
    "$x_1+2x_2 \\leq 10$  \n",
    "$2x_1+x_2 \\leq 8$  \n",
    "$x_1,x_2 \\geq 0$  "
   ]
  },
  {
   "cell_type": "code",
   "execution_count": 3,
   "metadata": {},
   "outputs": [
    {
     "name": "stdout",
     "output_type": "stream",
     "text": [
      "Optimal\n",
      "Result\n",
      "x1: 2.0\n",
      "x2: 4.0\n"
     ]
    }
   ],
   "source": [
    "problem = pulp.LpProblem('Problem', pulp.LpMaximize)\n",
    "# 変数定義\n",
    "x1 = pulp.LpVariable('X1', 0, 10, 'Integer') \n",
    "x2 = pulp.LpVariable('X2', 0, 10, 'Integer') \n",
    "# 目的関数\n",
    "problem += 2*x1 + 3*x2\n",
    "# 制約条件\n",
    "problem += x1 + 2*x2 <= 10\n",
    "problem += 2*x1 + x2 <= 8\n",
    "\n",
    "# 実行\n",
    "status = problem.solve()\n",
    "print(pulp.LpStatus[status])\n",
    "print(\"Result\")\n",
    "print(\"x1:\",x1.value())\n",
    "print(\"x2:\",x2.value())"
   ]
  },
  {
   "cell_type": "markdown",
   "metadata": {},
   "source": [
    "# 例2\n",
    "\n",
    "**主問題**  \n",
    "maximize : $16x_1+24x_2$\n",
    "\n",
    "subject to :  \n",
    "$4x_1+2x_2 \\leq4$  \n",
    "$3x_1+7x_2 \\leq5$  \n",
    "$x_1,x_2 \\geq 0$\n",
    "\n",
    "**双対問題**  \n",
    "minimize : $4y_1+5y_2$\n",
    "\n",
    "subject to :  \n",
    "$4y_1+3y_2 \\leq16$  \n",
    "$2y_1+7y_2 \\leq24$  \n",
    "$y_1,y_2 \\geq 0$"
   ]
  },
  {
   "cell_type": "code",
   "execution_count": 9,
   "metadata": {},
   "outputs": [
    {
     "name": "stdout",
     "output_type": "stream",
     "text": [
      "Optimal\n",
      "主問題 : Result\n",
      "x1: 0.81818182\n",
      "x2: 0.36363636\n",
      "最適値: 21.818181759999998\n",
      "\n",
      "Optimal\n",
      "双対問題 : Result\n",
      "y1: 1.8181818\n",
      "y2: 2.9090909\n",
      "最適値: 21.818181699999997\n"
     ]
    }
   ],
   "source": [
    "# 主問題\n",
    "P_problem = pulp.LpProblem('Problem', pulp.LpMaximize)\n",
    "# 変数定義\n",
    "x1 = pulp.LpVariable('X1', 0, 10, 'Float') \n",
    "x2 = pulp.LpVariable('X2', 0, 10, 'Float') \n",
    "# 目的関数\n",
    "P_problem += 16*x1 + 24*x2\n",
    "# 制約条件\n",
    "P_problem += 4*x1 + 2*x2 <= 4\n",
    "P_problem += 3*x1 + 7*x2 <= 5\n",
    "\n",
    "# 実行\n",
    "status = P_problem.solve()\n",
    "print(pulp.LpStatus[status])\n",
    "print(\"主問題 : Result\")\n",
    "print(\"x1:\",x1.value())\n",
    "print(\"x2:\",x2.value())\n",
    "print(\"最適値:\",16*x1.value() + 24*x2.value())\n",
    "\n",
    "print()\n",
    "\n",
    "# 双対問題\n",
    "D_problem = pulp.LpProblem('Problem', pulp.LpMaximize)\n",
    "# 変数定義\n",
    "y1 = pulp.LpVariable('Y1', 0, 10, 'Float') \n",
    "y2 = pulp.LpVariable('Y2', 0, 10, 'Float') \n",
    "# 目的関数\n",
    "D_problem += 4*y1 + 5*y2\n",
    "# 制約条件\n",
    "D_problem += 4*y1 + 3*y2 <= 16\n",
    "D_problem += 2*y1 + 7*y2 <= 24\n",
    "\n",
    "# 実行\n",
    "status = D_problem.solve()\n",
    "print(pulp.LpStatus[status])\n",
    "print(\"双対問題 : Result\")\n",
    "print(\"y1:\",y1.value())\n",
    "print(\"y2:\",y2.value())\n",
    "print(\"最適値:\",4*y1.value() + 5*y2.value())"
   ]
  },
  {
   "cell_type": "code",
   "execution_count": null,
   "metadata": {},
   "outputs": [],
   "source": []
  }
 ],
 "metadata": {
  "kernelspec": {
   "display_name": "Python 3",
   "language": "python",
   "name": "python3"
  },
  "language_info": {
   "codemirror_mode": {
    "name": "ipython",
    "version": 3
   },
   "file_extension": ".py",
   "mimetype": "text/x-python",
   "name": "python",
   "nbconvert_exporter": "python",
   "pygments_lexer": "ipython3",
   "version": "3.8.5"
  },
  "toc": {
   "base_numbering": 1,
   "nav_menu": {},
   "number_sections": true,
   "sideBar": true,
   "skip_h1_title": false,
   "title_cell": "Table of Contents",
   "title_sidebar": "Contents",
   "toc_cell": false,
   "toc_position": {},
   "toc_section_display": true,
   "toc_window_display": false
  }
 },
 "nbformat": 4,
 "nbformat_minor": 4
}
