{
 "cells": [
  {
   "cell_type": "code",
   "execution_count": 1,
   "metadata": {},
   "outputs": [],
   "source": [
    "import numpy as np\n",
    "import pandas as pd\n",
    "import matplotlib.pyplot as plt\n",
    "import seaborn as sns"
   ]
  },
  {
   "cell_type": "markdown",
   "metadata": {},
   "source": [
    "## PCA\n",
    "PCAは主成分分析を用いて次元削減するアルゴリズムである. 主成分(行列)Vは訓練セット行列Xを特異値分解することで得られる. 低次のd次元への写像は主成分行列Vからd列抽出した行列Wを用いて次のように表される. Xproは次元削減後の訓練セット行列である.\n",
    "$$X_{pro} = XW$$"
   ]
  },
  {
   "cell_type": "code",
   "execution_count": 20,
   "metadata": {},
   "outputs": [
    {
     "data": {
      "image/png": "[encoded data removed]",
      "text/plain": [
       "<Figure size 432x288 with 1 Axes>"
      ]
     },
     "metadata": {},
     "output_type": "display_data"
    }
   ],
   "source": [
    "# データ生成\n",
    "angle = np.pi / 5\n",
    "stretch = 5\n",
    "m = 200\n",
    "\n",
    "np.random.seed(3)\n",
    "X = np.random.randn(m, 2) / 10\n",
    "X = X.dot(np.array([[stretch, 0],[0, 1]])) # stretch\n",
    "X = X.dot([[np.cos(angle), np.sin(angle)], [-np.sin(angle), np.cos(angle)]]) # rotate\n",
    "\n",
    "plt.figure(facecolor=\"white\")\n",
    "plt.scatter(X[:,0],X[:,1])\n",
    "plt.title(\"original data\")\n",
    "plt.show()"
   ]
  },
  {
   "cell_type": "code",
   "execution_count": 22,
   "metadata": {},
   "outputs": [
    {
     "data": {
      "image/png": "[encoded data removed]",
      "text/plain": [
       "<Figure size 432x288 with 1 Axes>"
      ]
     },
     "metadata": {},
     "output_type": "display_data"
    }
   ],
   "source": [
    "# PCA実行\n",
    "from sklearn.decomposition import PCA\n",
    "\n",
    "# n_compomemts : 射影する次元\n",
    "pca = PCA(n_components=1)\n",
    "X1D = pca.fit_transform(X)\n",
    "\n",
    "plt.figure(facecolor=\"white\")\n",
    "plt.scatter(X1D,np.zeros(X1D.shape))\n",
    "plt.title(\"decomposed data\")\n",
    "plt.show()"
   ]
  },
  {
   "cell_type": "code",
   "execution_count": 23,
   "metadata": {},
   "outputs": [
    {
     "data": {
      "text/plain": [
       "array([0.95369864])"
      ]
     },
     "execution_count": 23,
     "metadata": {},
     "output_type": "execute_result"
    }
   ],
   "source": [
    "# 因子寄与率\n",
    "pca.explained_variance_ratio_"
   ]
  },
  {
   "cell_type": "code",
   "execution_count": 24,
   "metadata": {},
   "outputs": [
    {
     "name": "stdout",
     "output_type": "stream",
     "text": [
      "best dimension :  1\n"
     ]
    }
   ],
   "source": [
    "# 適切な次元の選択\n",
    "cri = 0.95 # 累積寄与率基準\n",
    "pca = PCA(n_components=1)\n",
    "X1D = pca.fit_transform(X)\n",
    "cumsum = np.cumsum(pca.explained_variance_ratio_)\n",
    "d = np.argmax(cumsum>=0.95)+1\n",
    "print(\"best dimension : \",d)"
   ]
  },
  {
   "cell_type": "code",
   "execution_count": 26,
   "metadata": {},
   "outputs": [
    {
     "data": {
      "text/plain": [
       "array([[-0.79644131, -0.60471583],\n",
       "       [-0.60471583,  0.79644131]])"
      ]
     },
     "execution_count": 26,
     "metadata": {},
     "output_type": "execute_result"
    }
   ],
   "source": [
    "# numpyによる特異値分解(SVD)\n",
    "X_centered = X -X.mean(axis=0) # センタリング\n",
    "U,s,Vt = np.linalg.svd(X_centered) # SVD実行\n",
    "Vt"
   ]
  },
  {
   "cell_type": "code",
   "execution_count": 29,
   "metadata": {},
   "outputs": [
    {
     "data": {
      "text/plain": [
       "array([[-0.89608814],\n",
       "       [-0.04536034],\n",
       "       [ 0.13835917],\n",
       "       [ 0.04163158],\n",
       "       [ 0.02185837]])"
      ]
     },
     "execution_count": 29,
     "metadata": {},
     "output_type": "execute_result"
    }
   ],
   "source": [
    "# 低次元への写像\n",
    "W1 = Vt.T[:,:1] # 主成分の選択\n",
    "X2D = X_centered.dot(W1) # 行列積の計算\n",
    "X2D[:5]"
   ]
  },
  {
   "cell_type": "markdown",
   "metadata": {},
   "source": [
    "## PCA逆変換\n",
    "特異値分解で求めたPCAで次元削減したデータを再構築することができる. 次元削減後の訓練セット行列Xpro,逆変換後の訓練セット行列Xrecとすると次の式で逆変換が行える.\n",
    "$$X_{rec} = X_{pro}W^T $$\n",
    "ただし,射影によってある程度情報が失われているためオリジナルのデータに再構築することはできない. オリジナルデータと再構築されたデータの平均二乗誤差を再構築誤差という."
   ]
  },
  {
   "cell_type": "code",
   "execution_count": 35,
   "metadata": {},
   "outputs": [
    {
     "name": "stdout",
     "output_type": "stream",
     "text": [
      "オリジナルデータ\n",
      "[[ 0.69785801  0.56097911]\n",
      " [ 0.1485674  -0.12239983]\n",
      " [-0.09135368 -0.11022295]\n",
      " [ 0.00338454 -0.07504253]\n",
      " [ 0.01032535 -0.05148559]]\n",
      "\n",
      "再構築されたデータ\n",
      "[[ 0.71367594  0.54014609]\n",
      " [ 0.03612118  0.02569752]\n",
      " [-0.11020062 -0.08540057]\n",
      " [-0.03316278 -0.02690787]\n",
      " [-0.01741458 -0.0149507 ]]\n"
     ]
    }
   ],
   "source": [
    "pca = PCA(n_components=1)\n",
    "X1D = pca.fit_transform(X)\n",
    "X_recoverd = pca.inverse_transform(X1D) # 逆変換\n",
    "print(\"オリジナルデータ\")\n",
    "print(X[:5])\n",
    "print(\"\\n再構築されたデータ\")\n",
    "print(X_recoverd[:5])"
   ]
  },
  {
   "cell_type": "code",
   "execution_count": 42,
   "metadata": {},
   "outputs": [
    {
     "name": "stdout",
     "output_type": "stream",
     "text": [
      "[ 0.00250754 -0.01782557 -0.00298772 -0.00579367 -0.00439748]\n",
      "mean :  -2.8449465006019635e-18\n",
      "std :  0.010399416487988098\n"
     ]
    }
   ],
   "source": [
    "# 再構築誤差\n",
    "mse = (X-X_recoverd).mean(axis=1)\n",
    "print(mse[:5])\n",
    "print(\"mean : \",mse.mean())\n",
    "print(\"std : \",mse.std())"
   ]
  },
  {
   "cell_type": "code",
   "execution_count": null,
   "metadata": {},
   "outputs": [],
   "source": []
  }
 ],
 "metadata": {
  "kernelspec": {
   "display_name": "Python 3",
   "language": "python",
   "name": "python3"
  },
  "language_info": {
   "codemirror_mode": {
    "name": "ipython",
    "version": 3
   },
   "file_extension": ".py",
   "mimetype": "text/x-python",
   "name": "python",
   "nbconvert_exporter": "python",
   "pygments_lexer": "ipython3",
   "version": "3.8.5"
  },
  "toc": {
   "base_numbering": 1,
   "nav_menu": {},
   "number_sections": true,
   "sideBar": true,
   "skip_h1_title": false,
   "title_cell": "Table of Contents",
   "title_sidebar": "Contents",
   "toc_cell": false,
   "toc_position": {},
   "toc_section_display": true,
   "toc_window_display": true
  }
 },
 "nbformat": 4,
 "nbformat_minor": 4
}
