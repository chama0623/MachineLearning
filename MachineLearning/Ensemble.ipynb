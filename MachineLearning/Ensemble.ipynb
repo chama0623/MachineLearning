{
 "cells": [
  {
   "cell_type": "code",
   "execution_count": 1,
   "metadata": {},
   "outputs": [],
   "source": [
    "import numpy as np\n",
    "import pandas as pd\n",
    "import matplotlib.pyplot as plt\n",
    "import seaborn as sns"
   ]
  },
  {
   "cell_type": "markdown",
   "metadata": {},
   "source": [
    "## ハード投票分類器\n",
    "個別の分類器の多数決を全体の予測にする分類器をハード投票分類器とよぶ. データはmake_moonsデータセットを用いる."
   ]
  },
  {
   "cell_type": "code",
   "execution_count": 2,
   "metadata": {},
   "outputs": [
    {
     "data": {
      "image/png": "[encoded data removed]",
      "text/plain": [
       "<Figure size 432x288 with 1 Axes>"
      ]
     },
     "metadata": {},
     "output_type": "display_data"
    }
   ],
   "source": [
    "from sklearn.datasets import make_moons\n",
    "X, y = make_moons(n_samples=100, noise=0.15, random_state=42)\n",
    "\n",
    "plt.figure(facecolor=\"white\")\n",
    "plt.plot(X[:, 0][y==0], X[:, 1][y==0], \"bs\")\n",
    "plt.plot(X[:, 0][y==1], X[:, 1][y==1], \"g^\")\n",
    "plt.xlabel(\"$x_1$\",fontsize=20)\n",
    "plt.ylabel(\"$x_2$\",fontsize=20)\n",
    "plt.show()"
   ]
  },
  {
   "cell_type": "code",
   "execution_count": 3,
   "metadata": {},
   "outputs": [
    {
     "data": {
      "text/plain": [
       "VotingClassifier(estimators=[('lr', LogisticRegression()),\n",
       "                             ('rf', RandomForestClassifier()), ('svc', SVC())])"
      ]
     },
     "execution_count": 3,
     "metadata": {},
     "output_type": "execute_result"
    }
   ],
   "source": [
    "from sklearn.ensemble import RandomForestClassifier # ランダムフォレスト\n",
    "from sklearn.ensemble import VotingClassifier # 投票分類器\n",
    "from sklearn.linear_model import LogisticRegression\n",
    "from sklearn.svm import SVC\n",
    "from sklearn.model_selection import train_test_split\n",
    "\n",
    "# train,test生成\n",
    "X_train,X_test,y_train,y_test = train_test_split(X,y,random_state=1)\n",
    "\n",
    "log_clf = LogisticRegression() # ロジスティック回帰\n",
    "rnd_clf = RandomForestClassifier() # ランダムフォレスト\n",
    "svm_clf = SVC() # SVM\n",
    "\n",
    "# 投票分類器を定義\n",
    "voting_clf = VotingClassifier([('lr',log_clf),('rf',rnd_clf),('svc',svm_clf)],\n",
    "                              voting = 'hard' # ハード投票分類器に設定\n",
    "                             )\n",
    "\n",
    "voting_clf.fit(X_train,y_train)"
   ]
  },
  {
   "cell_type": "code",
   "execution_count": 6,
   "metadata": {},
   "outputs": [
    {
     "name": "stdout",
     "output_type": "stream",
     "text": [
      "LogisticRegression 0.84\n",
      "RandomForestClassifier 0.96\n",
      "SVC 0.92\n",
      "VotingClassifier 0.92\n"
     ]
    }
   ],
   "source": [
    "from sklearn.metrics import accuracy_score\n",
    "\n",
    "for clf in (log_clf,rnd_clf,svm_clf,voting_clf):\n",
    "    clf.fit(X_train,y_train) # 学習\n",
    "    y_pred = clf.predict(X_test) # 予測\n",
    "    # 訓練アルゴリズムと正解率を表示\n",
    "    print(clf.__class__.__name__,accuracy_score(y_test,y_pred))"
   ]
  },
  {
   "cell_type": "markdown",
   "metadata": {},
   "source": [
    "## ソフト投票分類器\n",
    "各投票器が,インスタンスが各クラスに属する確率を推計できるとき,その確率の平均を全体の予測にする投票器をソフト投票分類器とよぶ."
   ]
  },
  {
   "cell_type": "code",
   "execution_count": 7,
   "metadata": {},
   "outputs": [
    {
     "data": {
      "text/plain": [
       "VotingClassifier(estimators=[('lr', LogisticRegression()),\n",
       "                             ('rf', RandomForestClassifier()),\n",
       "                             ('svc', SVC(probability=True))],\n",
       "                 voting='soft')"
      ]
     },
     "execution_count": 7,
     "metadata": {},
     "output_type": "execute_result"
    }
   ],
   "source": [
    "log_clf = LogisticRegression() # ロジスティック回帰\n",
    "rnd_clf = RandomForestClassifier() # ランダムフォレスト\n",
    "svm_clf = SVC(probability=True) # ソフト投票分類器のときはprobability=Trueにする\n",
    "\n",
    "# 投票分類器を定義\n",
    "voting_clf = VotingClassifier([('lr',log_clf),('rf',rnd_clf),('svc',svm_clf)],\n",
    "                              voting = 'soft' # ソフト投票分類器に設定\n",
    "                             )\n",
    "\n",
    "voting_clf.fit(X_train,y_train)"
   ]
  },
  {
   "cell_type": "code",
   "execution_count": 8,
   "metadata": {},
   "outputs": [
    {
     "name": "stdout",
     "output_type": "stream",
     "text": [
      "LogisticRegression 0.84\n",
      "RandomForestClassifier 0.96\n",
      "SVC 0.92\n",
      "VotingClassifier 0.88\n"
     ]
    }
   ],
   "source": [
    "for clf in (log_clf,rnd_clf,svm_clf,voting_clf):\n",
    "    clf.fit(X_train,y_train) # 学習\n",
    "    y_pred = clf.predict(X_test) # 予測\n",
    "    # 訓練アルゴリズムと正解率を表示\n",
    "    print(clf.__class__.__name__,accuracy_score(y_test,y_pred))"
   ]
  },
  {
   "cell_type": "markdown",
   "metadata": {},
   "source": [
    "## バギング\n",
    "バギングはすべての分類器で同じ訓練アルゴリズムを用いて,訓練セットから無作為重複ありでサンプリングを行う手法である."
   ]
  },
  {
   "cell_type": "code",
   "execution_count": 11,
   "metadata": {},
   "outputs": [
    {
     "data": {
      "text/plain": [
       "array([1, 1, 0, 1, 1, 1, 1, 0, 1, 1, 1, 0, 0, 0, 1, 1, 0, 0, 1, 0, 1, 0,\n",
       "       0, 0, 0], dtype=int64)"
      ]
     },
     "execution_count": 11,
     "metadata": {},
     "output_type": "execute_result"
    }
   ],
   "source": [
    "from sklearn.ensemble import BaggingClassifier\n",
    "from sklearn.tree import DecisionTreeClassifier # 決定木\n",
    "\n",
    "# train,test生成\n",
    "X_train,X_test,y_train,y_test = train_test_split(X,y,random_state=1)\n",
    "\n",
    "# n_estimators : 分類器の数\n",
    "# max_samples : 無作為抽出する訓練インスタンスの数\n",
    "# bootstrap : Trueのときバギング,Falseのときぺースティング\n",
    "# n_jobs : 使用するCPUのコア数\n",
    "bag_clf = BaggingClassifier(\n",
    "                DecisionTreeClassifier(),n_estimators=500,\n",
    "                max_samples=40,bootstrap=True,n_jobs=-1)\n",
    "bag_clf.fit(X_train,y_train)\n",
    "y_pred = bag_clf.predict(X_test)\n",
    "y_pred"
   ]
  },
  {
   "cell_type": "markdown",
   "metadata": {},
   "source": [
    "## ぺースティング\n",
    "ペースティングは,バギング同様にすべての分類器で同じ訓練アルゴリズムを用いる.ペースティングでは訓練セットから無作為重複なしでサンプリングを行う."
   ]
  },
  {
   "cell_type": "code",
   "execution_count": 13,
   "metadata": {},
   "outputs": [
    {
     "data": {
      "text/plain": [
       "array([1, 1, 0, 1, 1, 1, 1, 0, 1, 1, 1, 0, 0, 0, 0, 1, 0, 0, 0, 0, 1, 0,\n",
       "       0, 0, 0], dtype=int64)"
      ]
     },
     "execution_count": 13,
     "metadata": {},
     "output_type": "execute_result"
    }
   ],
   "source": [
    "bag_clf = BaggingClassifier(\n",
    "                DecisionTreeClassifier(),n_estimators=500,\n",
    "                max_samples=len(X_train),bootstrap=False,n_jobs=-1) # bootstrapの真偽でバギング,ぺースティングを切り替え\n",
    "bag_clf.fit(X_train,y_train)\n",
    "y_pred = bag_clf.predict(X_test)\n",
    "y_pred"
   ]
  },
  {
   "cell_type": "markdown",
   "metadata": {},
   "source": [
    "## OOB検証\n",
    "OOB(out of bag)とは,訓練セットとしてサンプリングされなかったインスタンスのことである.このインスタンスを検証に用いることで検証セットの作成や交差検証の手間を省略することができる."
   ]
  },
  {
   "cell_type": "code",
   "execution_count": 15,
   "metadata": {},
   "outputs": [
    {
     "data": {
      "text/plain": [
       "0.9333333333333333"
      ]
     },
     "execution_count": 15,
     "metadata": {},
     "output_type": "execute_result"
    }
   ],
   "source": [
    "bag_clf = BaggingClassifier(\n",
    "                DecisionTreeClassifier(),n_estimators=500,\n",
    "                max_samples=len(X_train),bootstrap=True,n_jobs=-1,oob_score=True) # oob_score=TrueでOOB検証を設定\n",
    "bag_clf.fit(X_train,y_train)\n",
    "bag_clf.oob_score_"
   ]
  },
  {
   "cell_type": "code",
   "execution_count": 16,
   "metadata": {},
   "outputs": [
    {
     "data": {
      "text/plain": [
       "0.92"
      ]
     },
     "execution_count": 16,
     "metadata": {},
     "output_type": "execute_result"
    }
   ],
   "source": [
    "y_pred = bag_clf.predict(X_test)\n",
    "accuracy_score(y_test,y_pred)"
   ]
  },
  {
   "cell_type": "markdown",
   "metadata": {},
   "source": [
    "OOB検証でのテストデータに対する正解率は約0.93で,テストデータに対する正解率は0.92であり非常に近い値である."
   ]
  },
  {
   "cell_type": "markdown",
   "metadata": {},
   "source": [
    "## ランダムフォレスト\n",
    "ランダムフォレストは決定木のアンサンブルで一般にバギングメソッドで訓練される. また特徴量の重要度を測定できる訓練アルゴリズムである."
   ]
  },
  {
   "cell_type": "code",
   "execution_count": 4,
   "metadata": {},
   "outputs": [
    {
     "data": {
      "text/plain": [
       "array([1, 0, 0, 1, 1, 1, 1, 0, 1, 1, 1, 0, 0, 0, 0, 1, 0, 0, 1, 0, 1, 0,\n",
       "       0, 0, 0], dtype=int64)"
      ]
     },
     "execution_count": 4,
     "metadata": {},
     "output_type": "execute_result"
    }
   ],
   "source": [
    "from sklearn.ensemble import RandomForestClassifier\n",
    "\n",
    "# n_estimators : 分類器の数\n",
    "# max_leaf_nodes : ノードの最大数\n",
    "# n_jobs : CPUのコア数\n",
    "rnd_clf = RandomForestClassifier(n_estimators=500,max_leaf_nodes=16,n_jobs=-1)\n",
    "rnd_clf.fit(X_train,y_train)\n",
    "\n",
    "y_pred_rf = rnd_clf.predict(X_test)\n",
    "y_pred_rf"
   ]
  },
  {
   "cell_type": "markdown",
   "metadata": {},
   "source": [
    "## ランダムフォレストによる特徴量の重要度測定\n",
    "ランダムフォレストを用いることで特徴量の重要度を測定することができる.ここではirisデータを用いて特徴量の重要度を測定してみる."
   ]
  },
  {
   "cell_type": "code",
   "execution_count": 5,
   "metadata": {},
   "outputs": [
    {
     "name": "stdout",
     "output_type": "stream",
     "text": [
      "sepal length (cm) 0.09912873926789002\n",
      "sepal width (cm) 0.024544501785273926\n",
      "petal length (cm) 0.43022913393158196\n",
      "petal width (cm) 0.4460976250152542\n"
     ]
    }
   ],
   "source": [
    "# iris-dataのロード\n",
    "from sklearn.datasets import load_iris\n",
    "iris = load_iris()\n",
    "\n",
    "# ランダムフォレストのインスタンス化と学習\n",
    "rnd_clf = RandomForestClassifier(n_estimators=500,n_jobs=-1)\n",
    "rnd_clf.fit(iris[\"data\"],iris[\"target\"])\n",
    "\n",
    "# 特徴量の重要度の標準出力\n",
    "# zip() : 引数として与えたリストからそれぞれ一つずつ抽出\n",
    "for name,score in zip(iris[\"feature_names\"],rnd_clf.feature_importances_):\n",
    "    print(name,score)"
   ]
  },
  {
   "cell_type": "markdown",
   "metadata": {},
   "source": [
    "`petal width`(花弁の幅)が44%,`petal length`(花弁の長さ)が43%で最も重要であり,がく片の長さや幅はそれほど重要な特徴量ではないことがわかる."
   ]
  },
  {
   "cell_type": "markdown",
   "metadata": {},
   "source": [
    "## AdaBoost\n",
    "AdaBoostは逐次的に予測器を訓練するブースティングと呼ばれるアルゴリズムのひとつである. AdaBoostは逐次的に予測器の訓練を行い,前の予測器が過少適合したインスタンスに注意を払う(重みを大きくする)ことで,難しい条件についてよく学習した予測器を作成するという考え方である.  \n",
    "\n",
    "Documents : https://scikit-learn.org/stable/modules/generated/sklearn.ensemble.AdaBoostClassifier.html?highlight=adaboost#sklearn.ensemble.AdaBoostClassifier"
   ]
  },
  {
   "cell_type": "code",
   "execution_count": 7,
   "metadata": {},
   "outputs": [
    {
     "data": {
      "text/plain": [
       "array([1, 0, 0, 1, 1, 1, 1, 0, 1, 1, 1, 0, 0, 0, 0, 1, 0, 0, 1, 0, 1, 0,\n",
       "       0, 0, 0], dtype=int64)"
      ]
     },
     "execution_count": 7,
     "metadata": {},
     "output_type": "execute_result"
    }
   ],
   "source": [
    "from sklearn.tree import DecisionTreeClassifier\n",
    "from sklearn.ensemble import AdaBoostClassifier\n",
    "\n",
    "# AdaBoostをインスタンス化\n",
    "# n_estimators : 学習の繰り返し回数,早期打ち切りあり\n",
    "# learning_rate : 各学習器が寄与する割合,n_estimatorsとlearning_rateはトレードオフ\n",
    "# algorithm : ブースティングに用いるアルゴリズム(Documents,sklearnとtensorflowによる実践機械学習P194を参照)\n",
    "ada_clf = AdaBoostClassifier(\n",
    "            DecisionTreeClassifier(max_depth=1),n_estimators=200,\n",
    "            algorithm=\"SAMME.R\",learning_rate=0.5)\n",
    "ada_clf.fit(X_train,y_train)\n",
    "ada_clf.predict(X_test)"
   ]
  },
  {
   "cell_type": "markdown",
   "metadata": {},
   "source": [
    "## 勾配ブースティング\n",
    "勾配ブースティングも予測器を訓練するときにブースティングを行うアルゴリズムのひとつである. 勾配ブースティグは前の予測器の残差に適合することでより良い学習器を作成するこという考え方である."
   ]
  },
  {
   "cell_type": "code",
   "execution_count": 8,
   "metadata": {},
   "outputs": [
    {
     "data": {
      "text/plain": [
       "array([ 1.        ,  0.82939189,  0.        ,  1.        ,  1.        ,\n",
       "        1.        ,  1.        ,  0.        ,  1.        ,  1.        ,\n",
       "        1.        ,  0.        ,  0.        ,  0.        ,  0.        ,\n",
       "        1.        , -0.10810811,  0.        ,  1.        ,  0.        ,\n",
       "        1.        ,  0.        ,  0.        ,  0.        ,  0.        ])"
      ]
     },
     "execution_count": 8,
     "metadata": {},
     "output_type": "execute_result"
    }
   ],
   "source": [
    "from sklearn.tree import DecisionTreeRegressor\n",
    "\n",
    "tree_reg1 = DecisionTreeRegressor(max_depth=2)\n",
    "tree_reg1.fit(X_train,y_train)\n",
    "\n",
    "y2 = y_train - tree_reg1.predict(X_train)\n",
    "tree_reg2 = DecisionTreeRegressor()\n",
    "tree_reg2.fit(X_train,y2)\n",
    "\n",
    "y3 = y2 - tree_reg2.predict(X_train)\n",
    "tree_reg3 = DecisionTreeRegressor()\n",
    "tree_reg3.fit(X_train,y3)\n",
    "\n",
    "y_pred = sum(tree.predict(X_test) for tree in (tree_reg1,tree_reg2,tree_reg3))\n",
    "y_pred"
   ]
  },
  {
   "cell_type": "code",
   "execution_count": null,
   "metadata": {},
   "outputs": [],
   "source": []
  }
 ],
 "metadata": {
  "kernelspec": {
   "display_name": "Python 3",
   "language": "python",
   "name": "python3"
  },
  "language_info": {
   "codemirror_mode": {
    "name": "ipython",
    "version": 3
   },
   "file_extension": ".py",
   "mimetype": "text/x-python",
   "name": "python",
   "nbconvert_exporter": "python",
   "pygments_lexer": "ipython3",
   "version": "3.8.5"
  },
  "toc": {
   "base_numbering": 1,
   "nav_menu": {},
   "number_sections": true,
   "sideBar": true,
   "skip_h1_title": false,
   "title_cell": "Table of Contents",
   "title_sidebar": "Contents",
   "toc_cell": false,
   "toc_position": {},
   "toc_section_display": true,
   "toc_window_display": true
  }
 },
 "nbformat": 4,
 "nbformat_minor": 4
}
