{
 "cells": [
  {
   "cell_type": "code",
   "execution_count": 2,
   "metadata": {},
   "outputs": [],
   "source": [
    "import numpy as np\n",
    "import pandas as pd\n",
    "import matplotlib.pyplot as plt\n",
    "import seaborn as sns"
   ]
  },
  {
   "cell_type": "markdown",
   "metadata": {},
   "source": [
    "## 単回帰分析\n",
    "\n",
    "### データの仕様\n",
    "data1はランダムに生成したxの値からy=4+3x+$\\epsilon$($\\epsilon$はノイズ)なるyを計算したデータである."
   ]
  },
  {
   "cell_type": "code",
   "execution_count": 2,
   "metadata": {},
   "outputs": [
    {
     "data": {
      "text/html": [
       "<div>\n",
       "<style scoped>\n",
       "    .dataframe tbody tr th:only-of-type {\n",
       "        vertical-align: middle;\n",
       "    }\n",
       "\n",
       "    .dataframe tbody tr th {\n",
       "        vertical-align: top;\n",
       "    }\n",
       "\n",
       "    .dataframe thead th {\n",
       "        text-align: right;\n",
       "    }\n",
       "</style>\n",
       "<table border=\"1\" class=\"dataframe\">\n",
       "  <thead>\n",
       "    <tr style=\"text-align: right;\">\n",
       "      <th></th>\n",
       "      <th>x</th>\n",
       "      <th>y</th>\n",
       "    </tr>\n",
       "  </thead>\n",
       "  <tbody>\n",
       "    <tr>\n",
       "      <th>0</th>\n",
       "      <td>1.337552</td>\n",
       "      <td>7.673493</td>\n",
       "    </tr>\n",
       "    <tr>\n",
       "      <th>1</th>\n",
       "      <td>1.617263</td>\n",
       "      <td>8.340384</td>\n",
       "    </tr>\n",
       "    <tr>\n",
       "      <th>2</th>\n",
       "      <td>0.427299</td>\n",
       "      <td>3.920846</td>\n",
       "    </tr>\n",
       "    <tr>\n",
       "      <th>3</th>\n",
       "      <td>1.726479</td>\n",
       "      <td>7.997781</td>\n",
       "    </tr>\n",
       "    <tr>\n",
       "      <th>4</th>\n",
       "      <td>0.753139</td>\n",
       "      <td>6.558939</td>\n",
       "    </tr>\n",
       "  </tbody>\n",
       "</table>\n",
       "</div>"
      ],
      "text/plain": [
       "          x         y\n",
       "0  1.337552  7.673493\n",
       "1  1.617263  8.340384\n",
       "2  0.427299  3.920846\n",
       "3  1.726479  7.997781\n",
       "4  0.753139  6.558939"
      ]
     },
     "execution_count": 2,
     "metadata": {},
     "output_type": "execute_result"
    }
   ],
   "source": [
    "df = pd.read_csv(\"data1.csv\")\n",
    "df.head()"
   ]
  },
  {
   "cell_type": "code",
   "execution_count": 3,
   "metadata": {},
   "outputs": [
    {
     "data": {
      "image/png": "[encoded data removed]",
      "text/plain": [
       "<Figure size 432x288 with 1 Axes>"
      ]
     },
     "metadata": {},
     "output_type": "display_data"
    }
   ],
   "source": [
    "# データのプロット\n",
    "plt.figure(facecolor=\"white\")\n",
    "plt.scatter(df[\"x\"],df[\"y\"])\n",
    "plt.xlabel(\"x\",fontsize=15)\n",
    "plt.ylabel(\"y\",fontsize=15)\n",
    "plt.show()"
   ]
  },
  {
   "cell_type": "markdown",
   "metadata": {},
   "source": [
    "### 正規方程式によるパラメータ計算"
   ]
  },
  {
   "cell_type": "code",
   "execution_count": 60,
   "metadata": {},
   "outputs": [],
   "source": [
    "df[\"s\"] = 1\n",
    "X = df[[\"s\",\"x\"]].to_numpy()\n",
    "y = df[\"y\"].to_numpy()"
   ]
  },
  {
   "cell_type": "code",
   "execution_count": 66,
   "metadata": {},
   "outputs": [
    {
     "data": {
      "text/plain": [
       "array([4.30115189, 2.65088848])"
      ]
     },
     "execution_count": 66,
     "metadata": {},
     "output_type": "execute_result"
    }
   ],
   "source": [
    "T = np.linalg.inv(np.dot(X.T,X)) # Xの転置とXの積の逆行列を計算\n",
    "np.dot(np.dot(T,X.T),y) # 先に計算した逆行列とXの転置とyの積を計算"
   ]
  },
  {
   "cell_type": "markdown",
   "metadata": {},
   "source": [
    "### scikit-learnによる線形回帰"
   ]
  },
  {
   "cell_type": "code",
   "execution_count": 12,
   "metadata": {},
   "outputs": [
    {
     "data": {
      "text/plain": [
       "LinearRegression()"
      ]
     },
     "execution_count": 12,
     "metadata": {},
     "output_type": "execute_result"
    }
   ],
   "source": [
    "from sklearn.linear_model import LinearRegression\n",
    "\n",
    "# numpy形式に変換\n",
    "X = df[\"x\"].to_numpy().reshape(-1,1)\n",
    "y = df[\"y\"].to_numpy().reshape(-1,1)\n",
    "model = LinearRegression() # インスタンス化\n",
    "model.fit(X,y) # フィッティング"
   ]
  },
  {
   "cell_type": "code",
   "execution_count": 68,
   "metadata": {},
   "outputs": [
    {
     "data": {
      "image/png": "[encoded data removed]",
      "text/plain": [
       "<Figure size 432x288 with 1 Axes>"
      ]
     },
     "metadata": {},
     "output_type": "display_data"
    }
   ],
   "source": [
    "# 実測値と回帰直線のプロット\n",
    "plt.figure(facecolor=\"white\")\n",
    "plt.scatter(df[\"x\"],df[\"y\"],label=\"実測値\")\n",
    "plt.plot(df[\"x\"],model.predict(X),c=\"r\",label=\"回帰直線\")\n",
    "plt.xlabel(\"x\",fontsize=15)\n",
    "plt.ylabel(\"y\",fontsize=15)\n",
    "plt.legend()\n",
    "plt.show()"
   ]
  },
  {
   "cell_type": "markdown",
   "metadata": {},
   "source": [
    "### 性能評価"
   ]
  },
  {
   "cell_type": "code",
   "execution_count": 76,
   "metadata": {},
   "outputs": [],
   "source": [
    "# 自由度調整済み決定係数\n",
    "def adj_R_squared(n,k,R_squared):\n",
    "    \"\"\"\n",
    "    Description of adj_R_squared\n",
    "    \n",
    "    This function calculate adjusted R-squared.\n",
    "    \n",
    "    Args : \n",
    "    n(int) : number of the data length\n",
    "    k(int) : number of the parameter of model\n",
    "    R_squared : R_squared values of the model\n",
    "    \n",
    "    Returns :\n",
    "    adj_R_squared value(float)\n",
    "    \"\"\"\n",
    "    return 1-(n-1)/(n-k-1)*(1-R_squared)"
   ]
  },
  {
   "cell_type": "code",
   "execution_count": 79,
   "metadata": {},
   "outputs": [
    {
     "name": "stdout",
     "output_type": "stream",
     "text": [
      "intercept :  4.537584753061825\n",
      "slope :  2.5148037342937726\n",
      "R2 score :  0.7091291613061028\n",
      "adj R2 score :  0.687583173254703\n",
      "MSE :  0.9259403192677309\n"
     ]
    }
   ],
   "source": [
    "from sklearn.metrics import mean_squared_error\n",
    "\n",
    "print(\"intercept : \",model.intercept_[0])\n",
    "print(\"slope : \",model.coef_[0][0])\n",
    "print(\"R2 score : \",model.score(X,y))\n",
    "print(\"adj R2 score : \",adj_R_squared(X.shape[0],2,model.score(X,y)))\n",
    "print(\"MSE : \",mean_squared_error(y,model.predict(X)))"
   ]
  },
  {
   "cell_type": "code",
   "execution_count": 80,
   "metadata": {},
   "outputs": [
    {
     "data": {
      "image/png": "[encoded data removed]",
      "text/plain": [
       "<Figure size 432x288 with 1 Axes>"
      ]
     },
     "metadata": {},
     "output_type": "display_data"
    }
   ],
   "source": [
    "y_pred = model.predict(X)\n",
    "resid = y_pred-y\n",
    "\n",
    "plt.figure(facecolor=\"white\")\n",
    "plt.scatter(y_pred,resid)\n",
    "plt.hlines(y = 0, xmin = 5, xmax = 10, color = 'black')\n",
    "plt.xlabel(\"予測値\",fontsize=15) # predicted value\n",
    "plt.ylabel(\"残差\",fontsize=15) # residuals\n",
    "plt.grid()\n",
    "plt.show()"
   ]
  },
  {
   "cell_type": "code",
   "execution_count": 81,
   "metadata": {},
   "outputs": [
    {
     "name": "stderr",
     "output_type": "stream",
     "text": [
      "C:\\Users\\yudai\\anaconda3\\envs\\py38-gpu\\lib\\site-packages\\seaborn\\distributions.py:2551: FutureWarning: `distplot` is a deprecated function and will be removed in a future version. Please adapt your code to use either `displot` (a figure-level function with similar flexibility) or `histplot` (an axes-level function for histograms).\n",
      "  warnings.warn(msg, FutureWarning)\n"
     ]
    },
    {
     "data": {
      "image/png": "[encoded data removed]",
      "text/plain": [
       "<Figure size 432x288 with 1 Axes>"
      ]
     },
     "metadata": {},
     "output_type": "display_data"
    },
    {
     "data": {
      "image/png": "[encoded data removed]",
      "text/plain": [
       "<Figure size 432x288 with 1 Axes>"
      ]
     },
     "metadata": {},
     "output_type": "display_data"
    }
   ],
   "source": [
    "from scipy import stats\n",
    "\n",
    "# カーネル密度\n",
    "plt.figure(facecolor='white')\n",
    "sns.distplot(resid)\n",
    "plt.show()\n",
    "\n",
    "# 正規QQプロット\n",
    "plt.figure(facecolor='white')\n",
    "stats.probplot(resid.reshape(1,-1)[0],dist=stats.norm,plot=plt)\n",
    "plt.xlabel(\"Theoretical quantiles\",fontsize = 15)\n",
    "plt.ylabel(\"Ordered Values\",fontsize = 15)\n",
    "plt.title(\"Probability Plot\",fontsize = 17)\n",
    "plt.show()"
   ]
  },
  {
   "cell_type": "markdown",
   "metadata": {},
   "source": [
    "## 重回帰分析"
   ]
  },
  {
   "cell_type": "markdown",
   "metadata": {},
   "source": [
    "### データの仕様\n",
    "データとしてWine Quality Data Setを用いる. 今回は赤ワインの成分に関する情報のうちdensityとvolatile acidityから, そのワインの品質quality(0～10)を予測する.\n",
    "\n",
    "Reference : https://archive.ics.uci.edu/ml/datasets/wine+quality"
   ]
  },
  {
   "cell_type": "code",
   "execution_count": 158,
   "metadata": {},
   "outputs": [
    {
     "data": {
      "text/html": [
       "<div>\n",
       "<style scoped>\n",
       "    .dataframe tbody tr th:only-of-type {\n",
       "        vertical-align: middle;\n",
       "    }\n",
       "\n",
       "    .dataframe tbody tr th {\n",
       "        vertical-align: top;\n",
       "    }\n",
       "\n",
       "    .dataframe thead th {\n",
       "        text-align: right;\n",
       "    }\n",
       "</style>\n",
       "<table border=\"1\" class=\"dataframe\">\n",
       "  <thead>\n",
       "    <tr style=\"text-align: right;\">\n",
       "      <th></th>\n",
       "      <th>fixed acidity</th>\n",
       "      <th>volatile acidity</th>\n",
       "      <th>citric acid</th>\n",
       "      <th>residual sugar</th>\n",
       "      <th>chlorides</th>\n",
       "      <th>free sulfur dioxide</th>\n",
       "      <th>total sulfur dioxide</th>\n",
       "      <th>density</th>\n",
       "      <th>pH</th>\n",
       "      <th>sulphates</th>\n",
       "      <th>alcohol</th>\n",
       "      <th>quality</th>\n",
       "    </tr>\n",
       "  </thead>\n",
       "  <tbody>\n",
       "    <tr>\n",
       "      <th>0</th>\n",
       "      <td>7.4</td>\n",
       "      <td>0.700</td>\n",
       "      <td>0.00</td>\n",
       "      <td>1.9</td>\n",
       "      <td>0.076</td>\n",
       "      <td>11.0</td>\n",
       "      <td>34.0</td>\n",
       "      <td>0.99780</td>\n",
       "      <td>3.51</td>\n",
       "      <td>0.56</td>\n",
       "      <td>9.4</td>\n",
       "      <td>5</td>\n",
       "    </tr>\n",
       "    <tr>\n",
       "      <th>1</th>\n",
       "      <td>7.8</td>\n",
       "      <td>0.880</td>\n",
       "      <td>0.00</td>\n",
       "      <td>2.6</td>\n",
       "      <td>0.098</td>\n",
       "      <td>25.0</td>\n",
       "      <td>67.0</td>\n",
       "      <td>0.99680</td>\n",
       "      <td>3.20</td>\n",
       "      <td>0.68</td>\n",
       "      <td>9.8</td>\n",
       "      <td>5</td>\n",
       "    </tr>\n",
       "    <tr>\n",
       "      <th>2</th>\n",
       "      <td>7.8</td>\n",
       "      <td>0.760</td>\n",
       "      <td>0.04</td>\n",
       "      <td>2.3</td>\n",
       "      <td>0.092</td>\n",
       "      <td>15.0</td>\n",
       "      <td>54.0</td>\n",
       "      <td>0.99700</td>\n",
       "      <td>3.26</td>\n",
       "      <td>0.65</td>\n",
       "      <td>9.8</td>\n",
       "      <td>5</td>\n",
       "    </tr>\n",
       "    <tr>\n",
       "      <th>3</th>\n",
       "      <td>11.2</td>\n",
       "      <td>0.280</td>\n",
       "      <td>0.56</td>\n",
       "      <td>1.9</td>\n",
       "      <td>0.075</td>\n",
       "      <td>17.0</td>\n",
       "      <td>60.0</td>\n",
       "      <td>0.99800</td>\n",
       "      <td>3.16</td>\n",
       "      <td>0.58</td>\n",
       "      <td>9.8</td>\n",
       "      <td>6</td>\n",
       "    </tr>\n",
       "    <tr>\n",
       "      <th>4</th>\n",
       "      <td>7.4</td>\n",
       "      <td>0.700</td>\n",
       "      <td>0.00</td>\n",
       "      <td>1.9</td>\n",
       "      <td>0.076</td>\n",
       "      <td>11.0</td>\n",
       "      <td>34.0</td>\n",
       "      <td>0.99780</td>\n",
       "      <td>3.51</td>\n",
       "      <td>0.56</td>\n",
       "      <td>9.4</td>\n",
       "      <td>5</td>\n",
       "    </tr>\n",
       "    <tr>\n",
       "      <th>...</th>\n",
       "      <td>...</td>\n",
       "      <td>...</td>\n",
       "      <td>...</td>\n",
       "      <td>...</td>\n",
       "      <td>...</td>\n",
       "      <td>...</td>\n",
       "      <td>...</td>\n",
       "      <td>...</td>\n",
       "      <td>...</td>\n",
       "      <td>...</td>\n",
       "      <td>...</td>\n",
       "      <td>...</td>\n",
       "    </tr>\n",
       "    <tr>\n",
       "      <th>1594</th>\n",
       "      <td>6.2</td>\n",
       "      <td>0.600</td>\n",
       "      <td>0.08</td>\n",
       "      <td>2.0</td>\n",
       "      <td>0.090</td>\n",
       "      <td>32.0</td>\n",
       "      <td>44.0</td>\n",
       "      <td>0.99490</td>\n",
       "      <td>3.45</td>\n",
       "      <td>0.58</td>\n",
       "      <td>10.5</td>\n",
       "      <td>5</td>\n",
       "    </tr>\n",
       "    <tr>\n",
       "      <th>1595</th>\n",
       "      <td>5.9</td>\n",
       "      <td>0.550</td>\n",
       "      <td>0.10</td>\n",
       "      <td>2.2</td>\n",
       "      <td>0.062</td>\n",
       "      <td>39.0</td>\n",
       "      <td>51.0</td>\n",
       "      <td>0.99512</td>\n",
       "      <td>3.52</td>\n",
       "      <td>0.76</td>\n",
       "      <td>11.2</td>\n",
       "      <td>6</td>\n",
       "    </tr>\n",
       "    <tr>\n",
       "      <th>1596</th>\n",
       "      <td>6.3</td>\n",
       "      <td>0.510</td>\n",
       "      <td>0.13</td>\n",
       "      <td>2.3</td>\n",
       "      <td>0.076</td>\n",
       "      <td>29.0</td>\n",
       "      <td>40.0</td>\n",
       "      <td>0.99574</td>\n",
       "      <td>3.42</td>\n",
       "      <td>0.75</td>\n",
       "      <td>11.0</td>\n",
       "      <td>6</td>\n",
       "    </tr>\n",
       "    <tr>\n",
       "      <th>1597</th>\n",
       "      <td>5.9</td>\n",
       "      <td>0.645</td>\n",
       "      <td>0.12</td>\n",
       "      <td>2.0</td>\n",
       "      <td>0.075</td>\n",
       "      <td>32.0</td>\n",
       "      <td>44.0</td>\n",
       "      <td>0.99547</td>\n",
       "      <td>3.57</td>\n",
       "      <td>0.71</td>\n",
       "      <td>10.2</td>\n",
       "      <td>5</td>\n",
       "    </tr>\n",
       "    <tr>\n",
       "      <th>1598</th>\n",
       "      <td>6.0</td>\n",
       "      <td>0.310</td>\n",
       "      <td>0.47</td>\n",
       "      <td>3.6</td>\n",
       "      <td>0.067</td>\n",
       "      <td>18.0</td>\n",
       "      <td>42.0</td>\n",
       "      <td>0.99549</td>\n",
       "      <td>3.39</td>\n",
       "      <td>0.66</td>\n",
       "      <td>11.0</td>\n",
       "      <td>6</td>\n",
       "    </tr>\n",
       "  </tbody>\n",
       "</table>\n",
       "<p>1599 rows × 12 columns</p>\n",
       "</div>"
      ],
      "text/plain": [
       "      fixed acidity  volatile acidity  citric acid  residual sugar  chlorides  \\\n",
       "0               7.4             0.700         0.00             1.9      0.076   \n",
       "1               7.8             0.880         0.00             2.6      0.098   \n",
       "2               7.8             0.760         0.04             2.3      0.092   \n",
       "3              11.2             0.280         0.56             1.9      0.075   \n",
       "4               7.4             0.700         0.00             1.9      0.076   \n",
       "...             ...               ...          ...             ...        ...   \n",
       "1594            6.2             0.600         0.08             2.0      0.090   \n",
       "1595            5.9             0.550         0.10             2.2      0.062   \n",
       "1596            6.3             0.510         0.13             2.3      0.076   \n",
       "1597            5.9             0.645         0.12             2.0      0.075   \n",
       "1598            6.0             0.310         0.47             3.6      0.067   \n",
       "\n",
       "      free sulfur dioxide  total sulfur dioxide  density    pH  sulphates  \\\n",
       "0                    11.0                  34.0  0.99780  3.51       0.56   \n",
       "1                    25.0                  67.0  0.99680  3.20       0.68   \n",
       "2                    15.0                  54.0  0.99700  3.26       0.65   \n",
       "3                    17.0                  60.0  0.99800  3.16       0.58   \n",
       "4                    11.0                  34.0  0.99780  3.51       0.56   \n",
       "...                   ...                   ...      ...   ...        ...   \n",
       "1594                 32.0                  44.0  0.99490  3.45       0.58   \n",
       "1595                 39.0                  51.0  0.99512  3.52       0.76   \n",
       "1596                 29.0                  40.0  0.99574  3.42       0.75   \n",
       "1597                 32.0                  44.0  0.99547  3.57       0.71   \n",
       "1598                 18.0                  42.0  0.99549  3.39       0.66   \n",
       "\n",
       "      alcohol  quality  \n",
       "0         9.4        5  \n",
       "1         9.8        5  \n",
       "2         9.8        5  \n",
       "3         9.8        6  \n",
       "4         9.4        5  \n",
       "...       ...      ...  \n",
       "1594     10.5        5  \n",
       "1595     11.2        6  \n",
       "1596     11.0        6  \n",
       "1597     10.2        5  \n",
       "1598     11.0        6  \n",
       "\n",
       "[1599 rows x 12 columns]"
      ]
     },
     "execution_count": 158,
     "metadata": {},
     "output_type": "execute_result"
    }
   ],
   "source": [
    "df = pd.read_csv(\"data6.csv\",sep=';')\n",
    "df"
   ]
  },
  {
   "cell_type": "code",
   "execution_count": 159,
   "metadata": {},
   "outputs": [],
   "source": [
    "from sklearn.preprocessing import StandardScaler\n",
    "# preprocessing\n",
    "\n",
    "df[\"s\"] = 1\n",
    "X = df[[\"s\",\"density\",\"volatile acidity\"]]\n",
    "y = df[[\"quality\"]]\n",
    "scaler = StandardScaler()\n",
    "scaler.fit(X)\n",
    "X = scaler.transform(X)\n",
    "X[:,0] = 1\n",
    "\n",
    "scaler = StandardScaler()\n",
    "scaler.fit(y)\n",
    "y = scaler.transform(y)"
   ]
  },
  {
   "cell_type": "markdown",
   "metadata": {},
   "source": [
    "### 正規方程式によるパラメータ計算"
   ]
  },
  {
   "cell_type": "code",
   "execution_count": 161,
   "metadata": {},
   "outputs": [
    {
     "data": {
      "text/plain": [
       "array([[ 4.04168886e-15],\n",
       "       [-1.66397440e-01],\n",
       "       [-3.86892672e-01]])"
      ]
     },
     "execution_count": 161,
     "metadata": {},
     "output_type": "execute_result"
    }
   ],
   "source": [
    "T = np.linalg.inv(np.dot(X.T,X)) # Xの転置とXの積の逆行列を計算\n",
    "np.dot(np.dot(T,X.T),y) # 先に計算した逆行列とXの転置とyの積を計算"
   ]
  },
  {
   "cell_type": "markdown",
   "metadata": {},
   "source": [
    "### scikit-learnによる線形回帰"
   ]
  },
  {
   "cell_type": "code",
   "execution_count": 162,
   "metadata": {},
   "outputs": [],
   "source": [
    "X = df[[\"density\",\"volatile acidity\"]]\n",
    "y = df[[\"quality\"]]\n",
    "scaler = StandardScaler()\n",
    "scaler.fit(X)\n",
    "X = scaler.transform(X)\n",
    "\n",
    "scaler = StandardScaler()\n",
    "scaler.fit(y)\n",
    "y = scaler.transform(y)"
   ]
  },
  {
   "cell_type": "code",
   "execution_count": 150,
   "metadata": {},
   "outputs": [
    {
     "data": {
      "text/plain": [
       "LinearRegression()"
      ]
     },
     "execution_count": 150,
     "metadata": {},
     "output_type": "execute_result"
    }
   ],
   "source": [
    "model = LinearRegression() # インスタンス化\n",
    "model.fit(X,y) # フィッティング"
   ]
  },
  {
   "cell_type": "code",
   "execution_count": 151,
   "metadata": {},
   "outputs": [
    {
     "name": "stdout",
     "output_type": "stream",
     "text": [
      "intercept :  [4.08961201e-15]\n",
      "slope :  [[-0.16639744 -0.38689267]]\n",
      "R2 score :  0.18021005472982288\n",
      "adj R2 score :  0.17866813006787274\n",
      "MSE :  0.8197899452701772\n"
     ]
    }
   ],
   "source": [
    "print(\"intercept : \",model.intercept_)\n",
    "print(\"slope : \",model.coef_)\n",
    "print(\"R2 score : \",model.score(X,y))\n",
    "print(\"adj R2 score : \",adj_R_squared(X.shape[0],3,model.score(X,y)))\n",
    "print(\"MSE : \",mean_squared_error(y,model.predict(X)))"
   ]
  },
  {
   "cell_type": "markdown",
   "metadata": {},
   "source": [
    "## 多項式回帰"
   ]
  },
  {
   "cell_type": "markdown",
   "metadata": {},
   "source": [
    "### データの仕様"
   ]
  },
  {
   "cell_type": "code",
   "execution_count": 46,
   "metadata": {},
   "outputs": [
    {
     "data": {
      "text/plain": [
       "<matplotlib.legend.Legend at 0x2d9c1d76dc0>"
      ]
     },
     "execution_count": 46,
     "metadata": {},
     "output_type": "execute_result"
    },
    {
     "data": {
      "image/png": "[encoded data removed]",
      "text/plain": [
       "<Figure size 432x288 with 1 Axes>"
      ]
     },
     "metadata": {},
     "output_type": "display_data"
    }
   ],
   "source": [
    "df = pd.read_csv(\"data2.csv\")\n",
    "\n",
    "plt.figure(facecolor='white')\n",
    "plt.scatter(df[\"x\"],df[\"y\"],label='観測値')\n",
    "plt.legend()"
   ]
  },
  {
   "cell_type": "markdown",
   "metadata": {},
   "source": [
    "### scikit-learnによる線形回帰"
   ]
  },
  {
   "cell_type": "code",
   "execution_count": 47,
   "metadata": {},
   "outputs": [
    {
     "data": {
      "text/plain": [
       "LinearRegression()"
      ]
     },
     "execution_count": 47,
     "metadata": {},
     "output_type": "execute_result"
    }
   ],
   "source": [
    "from sklearn.preprocessing import PolynomialFeatures\n",
    "\n",
    "X = df[\"x\"].to_numpy().reshape(-1,1)\n",
    "y = df[\"y\"].to_numpy().reshape(-1,1)\n",
    "\n",
    "poly_features = PolynomialFeatures(degree=4,include_bias=False)\n",
    "X_poly = poly_features.fit_transform(X)\n",
    "\n",
    "model = LinearRegression()\n",
    "model.fit(X_poly,y)"
   ]
  },
  {
   "cell_type": "code",
   "execution_count": 48,
   "metadata": {},
   "outputs": [
    {
     "data": {
      "image/png": "[encoded data removed]",
      "text/plain": [
       "<Figure size 432x288 with 1 Axes>"
      ]
     },
     "metadata": {},
     "output_type": "display_data"
    }
   ],
   "source": [
    "x_line = np.linspace(0,10,101).reshape(-1,1)\n",
    "x_line_poly = poly_features.transform(x_line)\n",
    "y_line = model.predict(x_line_poly)\n",
    "\n",
    "plt.figure(facecolor=\"white\")\n",
    "plt.scatter(X,y,label=\"観測値\")\n",
    "plt.plot(x_line,y_line,color=\"r\",label=\"回帰直線\")\n",
    "plt.xlabel(\"x\")\n",
    "plt.ylabel(\"y\")\n",
    "plt.legend()\n",
    "plt.show()"
   ]
  },
  {
   "cell_type": "markdown",
   "metadata": {},
   "source": [
    "## Redge回帰"
   ]
  },
  {
   "cell_type": "markdown",
   "metadata": {},
   "source": [
    "### データの仕様"
   ]
  },
  {
   "cell_type": "code",
   "execution_count": 49,
   "metadata": {},
   "outputs": [
    {
     "data": {
      "text/html": [
       "<div>\n",
       "<style scoped>\n",
       "    .dataframe tbody tr th:only-of-type {\n",
       "        vertical-align: middle;\n",
       "    }\n",
       "\n",
       "    .dataframe tbody tr th {\n",
       "        vertical-align: top;\n",
       "    }\n",
       "\n",
       "    .dataframe thead th {\n",
       "        text-align: right;\n",
       "    }\n",
       "</style>\n",
       "<table border=\"1\" class=\"dataframe\">\n",
       "  <thead>\n",
       "    <tr style=\"text-align: right;\">\n",
       "      <th></th>\n",
       "      <th>x</th>\n",
       "      <th>y</th>\n",
       "    </tr>\n",
       "  </thead>\n",
       "  <tbody>\n",
       "    <tr>\n",
       "      <th>0</th>\n",
       "      <td>4.337520</td>\n",
       "      <td>7.763191</td>\n",
       "    </tr>\n",
       "    <tr>\n",
       "      <th>1</th>\n",
       "      <td>0.201284</td>\n",
       "      <td>7.851685</td>\n",
       "    </tr>\n",
       "    <tr>\n",
       "      <th>2</th>\n",
       "      <td>-0.504076</td>\n",
       "      <td>7.773407</td>\n",
       "    </tr>\n",
       "    <tr>\n",
       "      <th>3</th>\n",
       "      <td>0.812612</td>\n",
       "      <td>9.694481</td>\n",
       "    </tr>\n",
       "    <tr>\n",
       "      <th>4</th>\n",
       "      <td>4.670285</td>\n",
       "      <td>7.922672</td>\n",
       "    </tr>\n",
       "  </tbody>\n",
       "</table>\n",
       "</div>"
      ],
      "text/plain": [
       "          x         y\n",
       "0  4.337520  7.763191\n",
       "1  0.201284  7.851685\n",
       "2 -0.504076  7.773407\n",
       "3  0.812612  9.694481\n",
       "4  4.670285  7.922672"
      ]
     },
     "execution_count": 49,
     "metadata": {},
     "output_type": "execute_result"
    }
   ],
   "source": [
    "df = pd.read_csv(\"data3.csv\")\n",
    "df.head()"
   ]
  },
  {
   "cell_type": "code",
   "execution_count": 50,
   "metadata": {},
   "outputs": [
    {
     "data": {
      "text/plain": [
       "<matplotlib.legend.Legend at 0x2d9c1ada100>"
      ]
     },
     "execution_count": 50,
     "metadata": {},
     "output_type": "execute_result"
    },
    {
     "data": {
      "image/png": "[encoded data removed]",
      "text/plain": [
       "<Figure size 432x288 with 1 Axes>"
      ]
     },
     "metadata": {},
     "output_type": "display_data"
    }
   ],
   "source": [
    "plt.figure(facecolor='white')\n",
    "plt.scatter(df[\"x\"],df[\"y\"],label='観測値')\n",
    "plt.xlabel(\"x\")\n",
    "plt.ylabel(\"y\")\n",
    "plt.legend()"
   ]
  },
  {
   "cell_type": "markdown",
   "metadata": {},
   "source": [
    "### scikit-learnによるRedge回帰"
   ]
  },
  {
   "cell_type": "code",
   "execution_count": 51,
   "metadata": {},
   "outputs": [],
   "source": [
    "degree = 4\n",
    "from sklearn.preprocessing import PolynomialFeatures \n",
    "\n",
    "X = df[\"x\"].to_numpy().reshape(-1,1)\n",
    "y = df[\"y\"].to_numpy().reshape(-1,1)\n",
    "\n",
    "poly_features = PolynomialFeatures(degree=degree,include_bias=False)\n",
    "X_poly = poly_features.fit_transform(X)"
   ]
  },
  {
   "cell_type": "code",
   "execution_count": 52,
   "metadata": {},
   "outputs": [
    {
     "data": {
      "text/plain": [
       "Ridge(alpha=1, solver='cholesky')"
      ]
     },
     "execution_count": 52,
     "metadata": {},
     "output_type": "execute_result"
    }
   ],
   "source": [
    "from sklearn.linear_model import Ridge\n",
    "model = Ridge(alpha=1,solver=\"cholesky\") # コレスキーの行列分解テクニック\n",
    "model.fit(X_poly,y)"
   ]
  },
  {
   "cell_type": "code",
   "execution_count": 53,
   "metadata": {},
   "outputs": [
    {
     "name": "stdout",
     "output_type": "stream",
     "text": [
      "切片 :  8.57547440359043\n",
      "傾き :  [[ 0.8949188  -0.16031769 -0.07298733  0.01201288]]\n",
      "決定係数 :  0.8077718940368315\n"
     ]
    }
   ],
   "source": [
    "print(\"切片 : \",model.intercept_[0])\n",
    "print(\"傾き : \",model.coef_)\n",
    "print(\"決定係数 : \",model.score(X_poly,y)) # 決定係数を計算する説明変数X,目的変数y"
   ]
  },
  {
   "cell_type": "code",
   "execution_count": 55,
   "metadata": {},
   "outputs": [
    {
     "data": {
      "image/png": "[encoded data removed]",
      "text/plain": [
       "<Figure size 432x288 with 1 Axes>"
      ]
     },
     "metadata": {},
     "output_type": "display_data"
    }
   ],
   "source": [
    "Xpred = np.arange(-2,7,0.1).reshape(-1,1) # プロット用の行列を生成\n",
    "Xpred_poly = poly_features.fit_transform(Xpred) # フォーマット変換\n",
    "ypred = model.predict(Xpred_poly) # 予測\n",
    "\n",
    "plt.figure(facecolor=\"white\")\n",
    "plt.scatter(df[\"x\"],df[\"y\"],label=\"観測値\")\n",
    "plt.plot(Xpred,ypred,c=\"r\",label=\"回帰直線\")\n",
    "plt.xlabel(\"x\",fontsize=15)\n",
    "plt.ylabel(\"y\",fontsize=15)\n",
    "plt.legend()\n",
    "plt.show()"
   ]
  },
  {
   "cell_type": "markdown",
   "metadata": {},
   "source": [
    "### ハイパーパラメータの効果"
   ]
  },
  {
   "cell_type": "code",
   "execution_count": 56,
   "metadata": {},
   "outputs": [
    {
     "name": "stdout",
     "output_type": "stream",
     "text": [
      "alpha :  0\n",
      "切片 :  8.56597887870128\n",
      "傾き :  [[ 0.93901737 -0.17501155 -0.07231767  0.01211205]]\n",
      "回帰係数ベクトルのノルム :  0.9579974977405884\n",
      "決定係数 :  0.8088602907393474\n",
      "\n",
      "alpha :  1\n",
      "切片 :  8.57547440359043\n",
      "傾き :  [[ 0.8949188  -0.16031769 -0.07298733  0.01201288]]\n",
      "回帰係数ベクトルのノルム :  0.9121693232130733\n",
      "決定係数 :  0.8077718940368315\n",
      "\n",
      "alpha :  10\n",
      "切片 :  8.651852001923386\n",
      "傾き :  [[ 0.63017781 -0.08817674 -0.0714023   0.01091736]]\n",
      "回帰係数ベクトルのノルム :  0.6404035323771743\n",
      "決定係数 :  0.7561351283881295\n",
      "\n"
     ]
    },
    {
     "data": {
      "image/png": "[encoded data removed]",
      "text/plain": [
       "<Figure size 432x288 with 1 Axes>"
      ]
     },
     "metadata": {},
     "output_type": "display_data"
    }
   ],
   "source": [
    "degree = 4\n",
    "alphalist = [0,1,10]\n",
    "Xpred = np.arange(-2,7,0.1).reshape(-1,1) # プロット用の行列を生成\n",
    "\n",
    "poly_features = PolynomialFeatures(degree=degree,include_bias=False)\n",
    "X_poly = poly_features.fit_transform(X)\n",
    "\n",
    "plt.figure(facecolor=\"white\")\n",
    "for alpha in alphalist:\n",
    "    model = Ridge(alpha=alpha,solver=\"cholesky\") # コレスキーの行列分解テクニック\n",
    "    model.fit(X_poly,y)\n",
    "    print(\"alpha : \",alpha)\n",
    "    print(\"切片 : \",model.intercept_[0])\n",
    "    print(\"傾き : \",model.coef_)\n",
    "    print(\"回帰係数ベクトルのノルム : \",np.linalg.norm(model.coef_))\n",
    "    print(\"決定係数 : \",model.score(X_poly,y)) # 決定係数を計算する説明変数X,目的変数y\n",
    "    print(\"\") # 見た目\n",
    "    Xpred_poly = poly_features.fit_transform(Xpred) # フォーマット変換\n",
    "    ypred = model.predict(Xpred_poly) # 予測\n",
    "    plt.plot(Xpred,ypred,label=\"alpha = \"+str(alpha))\n",
    "\n",
    "plt.scatter(df[\"x\"],df[\"y\"])\n",
    "plt.xlabel(\"x\",fontsize=15)\n",
    "plt.ylabel(\"y\",fontsize=15)\n",
    "plt.legend(fontsize=12)\n",
    "plt.title(\"Redge Regression m=\"+str(degree))\n",
    "plt.show()"
   ]
  },
  {
   "cell_type": "markdown",
   "metadata": {},
   "source": [
    "## Lasso回帰"
   ]
  },
  {
   "cell_type": "markdown",
   "metadata": {},
   "source": [
    "### scikit-learnによるLasso回帰"
   ]
  },
  {
   "cell_type": "code",
   "execution_count": 57,
   "metadata": {},
   "outputs": [],
   "source": [
    "degree = 4\n",
    "from sklearn.preprocessing import PolynomialFeatures \n",
    "\n",
    "X = df[\"x\"].to_numpy().reshape(-1,1)\n",
    "y = df[\"y\"].to_numpy().reshape(-1,1)\n",
    "\n",
    "poly_features = PolynomialFeatures(degree=degree,include_bias=False)\n",
    "X_poly = poly_features.fit_transform(X)"
   ]
  },
  {
   "cell_type": "code",
   "execution_count": 58,
   "metadata": {},
   "outputs": [
    {
     "name": "stderr",
     "output_type": "stream",
     "text": [
      "C:\\Users\\yudai\\anaconda3\\envs\\py38-gpu\\lib\\site-packages\\sklearn\\linear_model\\_coordinate_descent.py:529: ConvergenceWarning: Objective did not converge. You might want to increase the number of iterations. Duality gap: 4.3969895638884395, tolerance: 0.0038379976513810833\n",
      "  model = cd_fast.enet_coordinate_descent(\n"
     ]
    },
    {
     "data": {
      "text/plain": [
       "Lasso(alpha=0.1)"
      ]
     },
     "execution_count": 58,
     "metadata": {},
     "output_type": "execute_result"
    }
   ],
   "source": [
    "from sklearn.linear_model import Lasso\n",
    "model = Lasso(alpha=0.1)\n",
    "model.fit(X_poly,y)"
   ]
  },
  {
   "cell_type": "code",
   "execution_count": 59,
   "metadata": {},
   "outputs": [
    {
     "name": "stdout",
     "output_type": "stream",
     "text": [
      "切片 :  8.720786758836816\n",
      "傾き :  [ 0.64208423 -0.16620376 -0.04314636  0.00827344]\n",
      "決定係数 :  0.7587326730918746\n"
     ]
    }
   ],
   "source": [
    "print(\"切片 : \",model.intercept_[0])\n",
    "print(\"傾き : \",model.coef_)\n",
    "print(\"決定係数 : \",model.score(X_poly,y)) # 決定係数を計算する説明変数X,目的変数y"
   ]
  },
  {
   "cell_type": "code",
   "execution_count": 60,
   "metadata": {},
   "outputs": [
    {
     "data": {
      "image/png": "[encoded data removed]",
      "text/plain": [
       "<Figure size 432x288 with 1 Axes>"
      ]
     },
     "metadata": {},
     "output_type": "display_data"
    }
   ],
   "source": [
    "Xpred = np.arange(-2,7,0.1).reshape(-1,1) # プロット用の行列を生成\n",
    "Xpred_poly = poly_features.fit_transform(Xpred) # フォーマット変換\n",
    "ypred = model.predict(Xpred_poly) # 予測\n",
    "\n",
    "plt.figure(facecolor=\"white\")\n",
    "plt.scatter(df[\"x\"],df[\"y\"])\n",
    "plt.plot(Xpred,ypred,c=\"r\",label=\"regression\")\n",
    "plt.xlabel(\"x\",fontsize=15)\n",
    "plt.ylabel(\"y\",fontsize=15)\n",
    "plt.legend()\n",
    "plt.show()"
   ]
  },
  {
   "cell_type": "markdown",
   "metadata": {},
   "source": [
    "### ハイパーパラメータの効果"
   ]
  },
  {
   "cell_type": "code",
   "execution_count": 61,
   "metadata": {},
   "outputs": [
    {
     "name": "stdout",
     "output_type": "stream",
     "text": [
      "alpha :  0.001\n",
      "切片 :  8.74979108485643\n",
      "傾き :  [ 0.93150135 -0.3288952  -0.01709938  0.00709959]\n",
      "決定係数 :  0.7964508433943909\n",
      "\n",
      "alpha :  0.01\n",
      "切片 :  8.7450301224439\n",
      "傾き :  [ 0.90524371 -0.31231061 -0.02010743  0.00726427]\n",
      "決定係数 :  0.797624675394495\n",
      "\n",
      "alpha :  0.1\n",
      "切片 :  8.720786758836816\n",
      "傾き :  [ 0.64208423 -0.16620376 -0.04314636  0.00827344]\n",
      "決定係数 :  0.7587326730918746\n",
      "\n",
      "alpha :  1\n",
      "切片 :  8.855642851212858\n",
      "傾き :  [ 0.         -0.         -0.02844317  0.00407046]\n",
      "決定係数 :  0.31005181264220827\n",
      "\n"
     ]
    },
    {
     "name": "stderr",
     "output_type": "stream",
     "text": [
      "C:\\Users\\yudai\\anaconda3\\envs\\py38-gpu\\lib\\site-packages\\sklearn\\linear_model\\_coordinate_descent.py:529: ConvergenceWarning: Objective did not converge. You might want to increase the number of iterations. Duality gap: 3.9101085719469837, tolerance: 0.0038379976513810833\n",
      "  model = cd_fast.enet_coordinate_descent(\n",
      "C:\\Users\\yudai\\anaconda3\\envs\\py38-gpu\\lib\\site-packages\\sklearn\\linear_model\\_coordinate_descent.py:529: ConvergenceWarning: Objective did not converge. You might want to increase the number of iterations. Duality gap: 3.9303456685496103, tolerance: 0.0038379976513810833\n",
      "  model = cd_fast.enet_coordinate_descent(\n",
      "C:\\Users\\yudai\\anaconda3\\envs\\py38-gpu\\lib\\site-packages\\sklearn\\linear_model\\_coordinate_descent.py:529: ConvergenceWarning: Objective did not converge. You might want to increase the number of iterations. Duality gap: 4.3969895638884395, tolerance: 0.0038379976513810833\n",
      "  model = cd_fast.enet_coordinate_descent(\n"
     ]
    },
    {
     "data": {
      "image/png": "[encoded data removed]",
      "text/plain": [
       "<Figure size 432x288 with 1 Axes>"
      ]
     },
     "metadata": {},
     "output_type": "display_data"
    }
   ],
   "source": [
    "degree = 4\n",
    "alphalist = [0.001,0.01,0.1,1]\n",
    "Xpred = np.arange(-2,7,0.1).reshape(-1,1) # プロット用の行列を生成\n",
    "\n",
    "poly_features = PolynomialFeatures(degree=degree,include_bias=False)\n",
    "X_poly = poly_features.fit_transform(X)\n",
    "\n",
    "plt.figure(facecolor=\"white\")\n",
    "for alpha in alphalist:\n",
    "    model = Lasso(alpha=alpha) # コレスキーの行列分解テクニック\n",
    "    model.fit(X_poly,y)\n",
    "    print(\"alpha : \",alpha)\n",
    "    print(\"切片 : \",model.intercept_[0])\n",
    "    print(\"傾き : \",model.coef_)\n",
    "    print(\"決定係数 : \",model.score(X_poly,y)) # 決定係数を計算する説明変数X,目的変数y\n",
    "    print(\"\") # 見た目\n",
    "    Xpred_poly = poly_features.fit_transform(Xpred) # フォーマット変換\n",
    "    ypred = model.predict(Xpred_poly) # 予測\n",
    "    plt.plot(Xpred,ypred,label=\"alpha = \"+str(alpha))\n",
    "\n",
    "plt.scatter(df[\"x\"],df[\"y\"])\n",
    "plt.xlabel(\"x\",fontsize=15)\n",
    "plt.ylabel(\"y\",fontsize=15)\n",
    "plt.legend(fontsize=12)\n",
    "plt.title(\"Lasso Regression m=\"+str(degree))\n",
    "plt.show()"
   ]
  },
  {
   "cell_type": "markdown",
   "metadata": {},
   "source": [
    "## Elastic Net"
   ]
  },
  {
   "cell_type": "markdown",
   "metadata": {},
   "source": [
    "### scikit-learnによるElastic Net"
   ]
  },
  {
   "cell_type": "code",
   "execution_count": 62,
   "metadata": {},
   "outputs": [],
   "source": [
    "degree = 4\n",
    "from sklearn.preprocessing import PolynomialFeatures \n",
    "\n",
    "X = df[\"x\"].to_numpy().reshape(-1,1)\n",
    "y = df[\"y\"].to_numpy().reshape(-1,1)\n",
    "\n",
    "poly_features = PolynomialFeatures(degree=degree,include_bias=False)\n",
    "X_poly = poly_features.fit_transform(X)"
   ]
  },
  {
   "cell_type": "code",
   "execution_count": 63,
   "metadata": {},
   "outputs": [
    {
     "name": "stderr",
     "output_type": "stream",
     "text": [
      "C:\\Users\\yudai\\anaconda3\\envs\\py38-gpu\\lib\\site-packages\\sklearn\\linear_model\\_coordinate_descent.py:529: ConvergenceWarning: Objective did not converge. You might want to increase the number of iterations. Duality gap: 4.5290164405469, tolerance: 0.0038379976513810833\n",
      "  model = cd_fast.enet_coordinate_descent(\n"
     ]
    },
    {
     "data": {
      "text/plain": [
       "ElasticNet(alpha=0.1)"
      ]
     },
     "execution_count": 63,
     "metadata": {},
     "output_type": "execute_result"
    }
   ],
   "source": [
    "from sklearn.linear_model import ElasticNet\n",
    "model = ElasticNet(alpha=0.1,l1_ratio=0.5) # l1_ratioはパラメータrのこと\n",
    "model.fit(X_poly,y)"
   ]
  },
  {
   "cell_type": "code",
   "execution_count": 64,
   "metadata": {},
   "outputs": [
    {
     "name": "stdout",
     "output_type": "stream",
     "text": [
      "切片 :  8.740940142438433\n",
      "傾き :  [ 0.70024501 -0.20802764 -0.03514978  0.00782219]\n",
      "決定係数 :  0.7743179370176889\n"
     ]
    }
   ],
   "source": [
    "print(\"切片 : \",model.intercept_[0])\n",
    "print(\"傾き : \",model.coef_)\n",
    "print(\"決定係数 : \",model.score(X_poly,y)) # 決定係数を計算する説明変数X,目的変数y"
   ]
  },
  {
   "cell_type": "code",
   "execution_count": 65,
   "metadata": {},
   "outputs": [
    {
     "data": {
      "image/png": "[encoded data removed]",
      "text/plain": [
       "<Figure size 432x288 with 1 Axes>"
      ]
     },
     "metadata": {},
     "output_type": "display_data"
    }
   ],
   "source": [
    "Xpred = np.arange(-2,7,0.1).reshape(-1,1) # プロット用の行列を生成\n",
    "Xpred_poly = poly_features.fit_transform(Xpred) # フォーマット変換\n",
    "ypred = model.predict(Xpred_poly) # 予測\n",
    "\n",
    "plt.figure(facecolor=\"white\")\n",
    "plt.scatter(df[\"x\"],df[\"y\"])\n",
    "plt.plot(Xpred,ypred,c=\"r\",label=\"regression\")\n",
    "plt.xlabel(\"x\",fontsize=15)\n",
    "plt.ylabel(\"y\",fontsize=15)\n",
    "plt.legend()\n",
    "plt.show()"
   ]
  },
  {
   "cell_type": "markdown",
   "metadata": {},
   "source": [
    "### ハイパーパラメータの効果"
   ]
  },
  {
   "cell_type": "markdown",
   "metadata": {},
   "source": [
    "#### alphaを変化させたとき"
   ]
  },
  {
   "cell_type": "code",
   "execution_count": 66,
   "metadata": {},
   "outputs": [
    {
     "name": "stdout",
     "output_type": "stream",
     "text": [
      "alpha :  0\n",
      "切片 :  8.750385452096701\n",
      "傾き :  [ 0.93441723 -0.33079316 -0.01674545  0.00707951]\n",
      "決定係数 :  0.7962557418081162\n",
      "\n",
      "alpha :  0.1\n",
      "切片 :  8.740940142438433\n",
      "傾き :  [ 0.70024501 -0.20802764 -0.03514978  0.00782219]\n",
      "決定係数 :  0.7743179370176889\n",
      "\n",
      "alpha :  1\n",
      "切片 :  8.896116192063175\n",
      "傾き :  [ 0.         -0.         -0.03360823  0.00491293]\n",
      "決定係数 :  0.3220254869741327\n",
      "\n"
     ]
    },
    {
     "name": "stderr",
     "output_type": "stream",
     "text": [
      "<ipython-input-66-03469c2fc6e2>:12: UserWarning: With alpha=0, this algorithm does not converge well. You are advised to use the LinearRegression estimator\n",
      "  model.fit(X_poly,y)\n",
      "C:\\Users\\yudai\\anaconda3\\envs\\py38-gpu\\lib\\site-packages\\sklearn\\linear_model\\_coordinate_descent.py:529: UserWarning: Coordinate descent with no regularization may lead to unexpected results and is discouraged.\n",
      "  model = cd_fast.enet_coordinate_descent(\n",
      "C:\\Users\\yudai\\anaconda3\\envs\\py38-gpu\\lib\\site-packages\\sklearn\\linear_model\\_coordinate_descent.py:529: ConvergenceWarning: Objective did not converge. You might want to increase the number of iterations. Duality gap: 3.9098499221141587, tolerance: 0.0038379976513810833\n",
      "  model = cd_fast.enet_coordinate_descent(\n",
      "C:\\Users\\yudai\\anaconda3\\envs\\py38-gpu\\lib\\site-packages\\sklearn\\linear_model\\_coordinate_descent.py:529: ConvergenceWarning: Objective did not converge. You might want to increase the number of iterations. Duality gap: 4.5290164405469, tolerance: 0.0038379976513810833\n",
      "  model = cd_fast.enet_coordinate_descent(\n"
     ]
    },
    {
     "data": {
      "image/png": "[encoded data removed]",
      "text/plain": [
       "<Figure size 432x288 with 1 Axes>"
      ]
     },
     "metadata": {},
     "output_type": "display_data"
    }
   ],
   "source": [
    "degree = 4\n",
    "r = 0.5\n",
    "alphalist = [0,0.1,1]\n",
    "Xpred = np.arange(-2,7,0.1).reshape(-1,1) # プロット用の行列を生成\n",
    "\n",
    "poly_features = PolynomialFeatures(degree=degree,include_bias=False)\n",
    "X_poly = poly_features.fit_transform(X)\n",
    "\n",
    "plt.figure(facecolor=\"white\")\n",
    "for alpha in alphalist:\n",
    "    model = ElasticNet(alpha=alpha,l1_ratio=r) # コレスキーの行列分解テクニック\n",
    "    model.fit(X_poly,y)\n",
    "    print(\"alpha : \",alpha)\n",
    "    print(\"切片 : \",model.intercept_[0])\n",
    "    print(\"傾き : \",model.coef_)\n",
    "    print(\"決定係数 : \",model.score(X_poly,y)) # 決定係数を計算する説明変数X,目的変数y\n",
    "    print(\"\") # 見た目\n",
    "    Xpred_poly = poly_features.fit_transform(Xpred) # フォーマット変換\n",
    "    ypred = model.predict(Xpred_poly) # 予測\n",
    "    plt.plot(Xpred,ypred,label=\"alpha = \"+str(alpha))\n",
    "\n",
    "plt.scatter(df[\"x\"],df[\"y\"])\n",
    "plt.xlabel(\"x\",fontsize=15)\n",
    "plt.ylabel(\"y\",fontsize=15)\n",
    "plt.legend(fontsize=12)\n",
    "plt.show()"
   ]
  },
  {
   "cell_type": "markdown",
   "metadata": {},
   "source": [
    "### rを変化させたとき"
   ]
  },
  {
   "cell_type": "code",
   "execution_count": 67,
   "metadata": {},
   "outputs": [
    {
     "name": "stdout",
     "output_type": "stream",
     "text": [
      "r :  0\n",
      "切片 :  8.776130517489111\n",
      "傾き :  [ 0.62118664 -0.19268223 -0.03313989  0.00740406]\n",
      "決定係数 :  0.750609881900564\n",
      "\n",
      "r :  0.25\n",
      "切片 :  8.756020027855335\n",
      "傾き :  [ 0.57297849 -0.15556294 -0.04056543  0.00784495]\n",
      "決定係数 :  0.7340056854652561\n",
      "\n",
      "r :  0.5\n",
      "切片 :  8.73836531449873\n",
      "傾き :  [ 0.51421512 -0.11540249 -0.04793629  0.00823932]\n",
      "決定係数 :  0.7090537751859064\n",
      "\n",
      "r :  0.75\n",
      "切片 :  8.722398947094948\n",
      "傾き :  [ 0.44144246 -0.06975909 -0.05576075  0.00862049]\n",
      "決定係数 :  0.6716817448256639\n",
      "\n",
      "r :  1\n",
      "切片 :  8.708379129168764\n",
      "傾き :  [ 0.3493224  -0.01613689 -0.06436661  0.00899822]\n",
      "決定係数 :  0.614695052416331\n",
      "\n"
     ]
    },
    {
     "name": "stderr",
     "output_type": "stream",
     "text": [
      "C:\\Users\\yudai\\anaconda3\\envs\\py38-gpu\\lib\\site-packages\\sklearn\\linear_model\\_coordinate_descent.py:529: ConvergenceWarning: Objective did not converge. You might want to increase the number of iterations. Duality gap: 6.906555215939916, tolerance: 0.0038379976513810833\n",
      "  model = cd_fast.enet_coordinate_descent(\n",
      "C:\\Users\\yudai\\anaconda3\\envs\\py38-gpu\\lib\\site-packages\\sklearn\\linear_model\\_coordinate_descent.py:529: ConvergenceWarning: Objective did not converge. You might want to increase the number of iterations. Duality gap: 4.9760416266441645, tolerance: 0.0038379976513810833\n",
      "  model = cd_fast.enet_coordinate_descent(\n",
      "C:\\Users\\yudai\\anaconda3\\envs\\py38-gpu\\lib\\site-packages\\sklearn\\linear_model\\_coordinate_descent.py:529: ConvergenceWarning: Objective did not converge. You might want to increase the number of iterations. Duality gap: 4.432531844218857, tolerance: 0.0038379976513810833\n",
      "  model = cd_fast.enet_coordinate_descent(\n",
      "C:\\Users\\yudai\\anaconda3\\envs\\py38-gpu\\lib\\site-packages\\sklearn\\linear_model\\_coordinate_descent.py:529: ConvergenceWarning: Objective did not converge. You might want to increase the number of iterations. Duality gap: 4.195039064718779, tolerance: 0.0038379976513810833\n",
      "  model = cd_fast.enet_coordinate_descent(\n",
      "C:\\Users\\yudai\\anaconda3\\envs\\py38-gpu\\lib\\site-packages\\sklearn\\linear_model\\_coordinate_descent.py:529: ConvergenceWarning: Objective did not converge. You might want to increase the number of iterations. Duality gap: 3.9243437130089376, tolerance: 0.0038379976513810833\n",
      "  model = cd_fast.enet_coordinate_descent(\n"
     ]
    },
    {
     "data": {
      "image/png": "[encoded data removed]",
      "text/plain": [
       "<Figure size 432x288 with 1 Axes>"
      ]
     },
     "metadata": {},
     "output_type": "display_data"
    }
   ],
   "source": [
    "degree = 4\n",
    "alpha = 0.2\n",
    "rlist = [0,0.25,0.5,0.75,1]\n",
    "Xpred = np.arange(-2,7,0.1).reshape(-1,1) # プロット用の行列を生成\n",
    "\n",
    "poly_features = PolynomialFeatures(degree=degree,include_bias=False)\n",
    "X_poly = poly_features.fit_transform(X)\n",
    "\n",
    "plt.figure(facecolor=\"white\")\n",
    "for r in rlist:\n",
    "    model = ElasticNet(alpha=alpha,l1_ratio=r) # コレスキーの行列分解テクニック\n",
    "    model.fit(X_poly,y)\n",
    "    print(\"r : \",r)\n",
    "    print(\"切片 : \",model.intercept_[0])\n",
    "    print(\"傾き : \",model.coef_)\n",
    "    print(\"決定係数 : \",model.score(X_poly,y)) # 決定係数を計算する説明変数X,目的変数y\n",
    "    print(\"\") # 見た目\n",
    "    Xpred_poly = poly_features.fit_transform(Xpred) # フォーマット変換\n",
    "    ypred = model.predict(Xpred_poly) # 予測\n",
    "    plt.plot(Xpred,ypred,label=\"r = \"+str(r))\n",
    "\n",
    "plt.scatter(df[\"x\"],df[\"y\"])\n",
    "plt.xlabel(\"x\",fontsize=15)\n",
    "plt.ylabel(\"y\",fontsize=15)\n",
    "plt.legend(fontsize=12)\n",
    "plt.show()"
   ]
  },
  {
   "cell_type": "code",
   "execution_count": null,
   "metadata": {},
   "outputs": [],
   "source": []
  }
 ],
 "metadata": {
  "kernelspec": {
   "display_name": "Python 3",
   "language": "python",
   "name": "python3"
  },
  "language_info": {
   "codemirror_mode": {
    "name": "ipython",
    "version": 3
   },
   "file_extension": ".py",
   "mimetype": "text/x-python",
   "name": "python",
   "nbconvert_exporter": "python",
   "pygments_lexer": "ipython3",
   "version": "3.8.5"
  },
  "toc": {
   "base_numbering": 1,
   "nav_menu": {},
   "number_sections": true,
   "sideBar": true,
   "skip_h1_title": false,
   "title_cell": "Table of Contents",
   "title_sidebar": "Contents",
   "toc_cell": false,
   "toc_position": {
    "height": "calc(100% - 180px)",
    "left": "10px",
    "top": "150px",
    "width": "384px"
   },
   "toc_section_display": true,
   "toc_window_display": true
  }
 },
 "nbformat": 4,
 "nbformat_minor": 4
}
