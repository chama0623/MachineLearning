{
 "cells": [
  {
   "cell_type": "markdown",
   "metadata": {},
   "source": [
    " # Xgboostの概要\n",
    " XgboostはGBDT(Gradient Boosting Decision Tree)の手法の1つである."
   ]
  },
  {
   "cell_type": "markdown",
   "metadata": {},
   "source": [
    "# デフォルト設定での交差検証\n",
    "パラメータの意味と調整によるスコアの違いを確認する前に, デフォルト設定でどの程度スコアがでるか確認する. データセットはTitanic dataset, 検証方法は交差検証を用いる."
   ]
  },
  {
   "cell_type": "code",
   "execution_count": 1,
   "metadata": {},
   "outputs": [],
   "source": [
    "import numpy as np\n",
    "import pandas as pd\n",
    "import matplotlib.pyplot as plt"
   ]
  },
  {
   "cell_type": "code",
   "execution_count": 2,
   "metadata": {},
   "outputs": [
    {
     "data": {
      "text/html": [
       "<div>\n",
       "<style scoped>\n",
       "    .dataframe tbody tr th:only-of-type {\n",
       "        vertical-align: middle;\n",
       "    }\n",
       "\n",
       "    .dataframe tbody tr th {\n",
       "        vertical-align: top;\n",
       "    }\n",
       "\n",
       "    .dataframe thead th {\n",
       "        text-align: right;\n",
       "    }\n",
       "</style>\n",
       "<table border=\"1\" class=\"dataframe\">\n",
       "  <thead>\n",
       "    <tr style=\"text-align: right;\">\n",
       "      <th></th>\n",
       "      <th>PassengerId</th>\n",
       "      <th>Survived</th>\n",
       "      <th>Pclass</th>\n",
       "      <th>Name</th>\n",
       "      <th>Sex</th>\n",
       "      <th>Age</th>\n",
       "      <th>SibSp</th>\n",
       "      <th>Parch</th>\n",
       "      <th>Ticket</th>\n",
       "      <th>Fare</th>\n",
       "      <th>Cabin</th>\n",
       "      <th>Embarked</th>\n",
       "    </tr>\n",
       "  </thead>\n",
       "  <tbody>\n",
       "    <tr>\n",
       "      <th>0</th>\n",
       "      <td>1</td>\n",
       "      <td>0</td>\n",
       "      <td>3</td>\n",
       "      <td>Braund, Mr. Owen Harris</td>\n",
       "      <td>male</td>\n",
       "      <td>22.0</td>\n",
       "      <td>1</td>\n",
       "      <td>0</td>\n",
       "      <td>A/5 21171</td>\n",
       "      <td>7.2500</td>\n",
       "      <td>NaN</td>\n",
       "      <td>S</td>\n",
       "    </tr>\n",
       "    <tr>\n",
       "      <th>1</th>\n",
       "      <td>2</td>\n",
       "      <td>1</td>\n",
       "      <td>1</td>\n",
       "      <td>Cumings, Mrs. John Bradley (Florence Briggs Th...</td>\n",
       "      <td>female</td>\n",
       "      <td>38.0</td>\n",
       "      <td>1</td>\n",
       "      <td>0</td>\n",
       "      <td>PC 17599</td>\n",
       "      <td>71.2833</td>\n",
       "      <td>C85</td>\n",
       "      <td>C</td>\n",
       "    </tr>\n",
       "    <tr>\n",
       "      <th>2</th>\n",
       "      <td>3</td>\n",
       "      <td>1</td>\n",
       "      <td>3</td>\n",
       "      <td>Heikkinen, Miss. Laina</td>\n",
       "      <td>female</td>\n",
       "      <td>26.0</td>\n",
       "      <td>0</td>\n",
       "      <td>0</td>\n",
       "      <td>STON/O2. 3101282</td>\n",
       "      <td>7.9250</td>\n",
       "      <td>NaN</td>\n",
       "      <td>S</td>\n",
       "    </tr>\n",
       "    <tr>\n",
       "      <th>3</th>\n",
       "      <td>4</td>\n",
       "      <td>1</td>\n",
       "      <td>1</td>\n",
       "      <td>Futrelle, Mrs. Jacques Heath (Lily May Peel)</td>\n",
       "      <td>female</td>\n",
       "      <td>35.0</td>\n",
       "      <td>1</td>\n",
       "      <td>0</td>\n",
       "      <td>113803</td>\n",
       "      <td>53.1000</td>\n",
       "      <td>C123</td>\n",
       "      <td>S</td>\n",
       "    </tr>\n",
       "    <tr>\n",
       "      <th>4</th>\n",
       "      <td>5</td>\n",
       "      <td>0</td>\n",
       "      <td>3</td>\n",
       "      <td>Allen, Mr. William Henry</td>\n",
       "      <td>male</td>\n",
       "      <td>35.0</td>\n",
       "      <td>0</td>\n",
       "      <td>0</td>\n",
       "      <td>373450</td>\n",
       "      <td>8.0500</td>\n",
       "      <td>NaN</td>\n",
       "      <td>S</td>\n",
       "    </tr>\n",
       "  </tbody>\n",
       "</table>\n",
       "</div>"
      ],
      "text/plain": [
       "   PassengerId  Survived  Pclass  \\\n",
       "0            1         0       3   \n",
       "1            2         1       1   \n",
       "2            3         1       3   \n",
       "3            4         1       1   \n",
       "4            5         0       3   \n",
       "\n",
       "                                                Name     Sex   Age  SibSp  \\\n",
       "0                            Braund, Mr. Owen Harris    male  22.0      1   \n",
       "1  Cumings, Mrs. John Bradley (Florence Briggs Th...  female  38.0      1   \n",
       "2                             Heikkinen, Miss. Laina  female  26.0      0   \n",
       "3       Futrelle, Mrs. Jacques Heath (Lily May Peel)  female  35.0      1   \n",
       "4                           Allen, Mr. William Henry    male  35.0      0   \n",
       "\n",
       "   Parch            Ticket     Fare Cabin Embarked  \n",
       "0      0         A/5 21171   7.2500   NaN        S  \n",
       "1      0          PC 17599  71.2833   C85        C  \n",
       "2      0  STON/O2. 3101282   7.9250   NaN        S  \n",
       "3      0            113803  53.1000  C123        S  \n",
       "4      0            373450   8.0500   NaN        S  "
      ]
     },
     "execution_count": 2,
     "metadata": {},
     "output_type": "execute_result"
    }
   ],
   "source": [
    "train = pd.read_csv(\"TitanicData/train.csv\")\n",
    "test = pd.read_csv(\"TitanicData/test.csv\")\n",
    "\n",
    "PassengerID = test[\"PassengerId\"]\n",
    "train.head()"
   ]
  },
  {
   "cell_type": "code",
   "execution_count": 3,
   "metadata": {},
   "outputs": [
    {
     "name": "stderr",
     "output_type": "stream",
     "text": [
      "<ipython-input-3-ced32c63f5cb>:44: SettingWithCopyWarning: \n",
      "A value is trying to be set on a copy of a slice from a DataFrame\n",
      "\n",
      "See the caveats in the documentation: https://pandas.pydata.org/pandas-docs/stable/user_guide/indexing.html#returning-a-view-versus-a-copy\n",
      "  dataset[\"Age\"][np.isnan(dataset[\"Age\"])] = age_null_random_list # AgeがNanのレコードに生成した乱数を代入\n"
     ]
    },
    {
     "data": {
      "text/html": [
       "<div>\n",
       "<style scoped>\n",
       "    .dataframe tbody tr th:only-of-type {\n",
       "        vertical-align: middle;\n",
       "    }\n",
       "\n",
       "    .dataframe tbody tr th {\n",
       "        vertical-align: top;\n",
       "    }\n",
       "\n",
       "    .dataframe thead th {\n",
       "        text-align: right;\n",
       "    }\n",
       "</style>\n",
       "<table border=\"1\" class=\"dataframe\">\n",
       "  <thead>\n",
       "    <tr style=\"text-align: right;\">\n",
       "      <th></th>\n",
       "      <th>Survived</th>\n",
       "      <th>Pclass</th>\n",
       "      <th>Sex</th>\n",
       "      <th>Age</th>\n",
       "      <th>Parch</th>\n",
       "      <th>Fare</th>\n",
       "      <th>Embarked</th>\n",
       "      <th>Name_length</th>\n",
       "      <th>Has_Cabin</th>\n",
       "      <th>FamilySize</th>\n",
       "      <th>IsAlone</th>\n",
       "      <th>Title</th>\n",
       "    </tr>\n",
       "  </thead>\n",
       "  <tbody>\n",
       "    <tr>\n",
       "      <th>0</th>\n",
       "      <td>0</td>\n",
       "      <td>3</td>\n",
       "      <td>1</td>\n",
       "      <td>1</td>\n",
       "      <td>0</td>\n",
       "      <td>0</td>\n",
       "      <td>0</td>\n",
       "      <td>23</td>\n",
       "      <td>0</td>\n",
       "      <td>2</td>\n",
       "      <td>0</td>\n",
       "      <td>1</td>\n",
       "    </tr>\n",
       "    <tr>\n",
       "      <th>1</th>\n",
       "      <td>1</td>\n",
       "      <td>1</td>\n",
       "      <td>0</td>\n",
       "      <td>2</td>\n",
       "      <td>0</td>\n",
       "      <td>3</td>\n",
       "      <td>1</td>\n",
       "      <td>51</td>\n",
       "      <td>1</td>\n",
       "      <td>2</td>\n",
       "      <td>0</td>\n",
       "      <td>3</td>\n",
       "    </tr>\n",
       "    <tr>\n",
       "      <th>2</th>\n",
       "      <td>1</td>\n",
       "      <td>3</td>\n",
       "      <td>0</td>\n",
       "      <td>1</td>\n",
       "      <td>0</td>\n",
       "      <td>1</td>\n",
       "      <td>0</td>\n",
       "      <td>22</td>\n",
       "      <td>0</td>\n",
       "      <td>1</td>\n",
       "      <td>1</td>\n",
       "      <td>2</td>\n",
       "    </tr>\n",
       "    <tr>\n",
       "      <th>3</th>\n",
       "      <td>1</td>\n",
       "      <td>1</td>\n",
       "      <td>0</td>\n",
       "      <td>2</td>\n",
       "      <td>0</td>\n",
       "      <td>3</td>\n",
       "      <td>0</td>\n",
       "      <td>44</td>\n",
       "      <td>1</td>\n",
       "      <td>2</td>\n",
       "      <td>0</td>\n",
       "      <td>3</td>\n",
       "    </tr>\n",
       "    <tr>\n",
       "      <th>4</th>\n",
       "      <td>0</td>\n",
       "      <td>3</td>\n",
       "      <td>1</td>\n",
       "      <td>2</td>\n",
       "      <td>0</td>\n",
       "      <td>1</td>\n",
       "      <td>0</td>\n",
       "      <td>24</td>\n",
       "      <td>0</td>\n",
       "      <td>1</td>\n",
       "      <td>1</td>\n",
       "      <td>1</td>\n",
       "    </tr>\n",
       "  </tbody>\n",
       "</table>\n",
       "</div>"
      ],
      "text/plain": [
       "   Survived  Pclass  Sex  Age  Parch  Fare  Embarked  Name_length  Has_Cabin  \\\n",
       "0         0       3    1    1      0     0         0           23          0   \n",
       "1         1       1    0    2      0     3         1           51          1   \n",
       "2         1       3    0    1      0     1         0           22          0   \n",
       "3         1       1    0    2      0     3         0           44          1   \n",
       "4         0       3    1    2      0     1         0           24          0   \n",
       "\n",
       "   FamilySize  IsAlone  Title  \n",
       "0           2        0      1  \n",
       "1           2        0      3  \n",
       "2           1        1      2  \n",
       "3           2        0      3  \n",
       "4           1        1      1  "
      ]
     },
     "execution_count": 3,
     "metadata": {},
     "output_type": "execute_result"
    }
   ],
   "source": [
    "# 前処理\n",
    "\n",
    "import re\n",
    "# merge train and test\n",
    "full_data = [train,test]\n",
    "\n",
    "# 特徴量の追加\n",
    "# 名前の長さを保持する\"Name_length\"を生成\n",
    "train['Name_length'] = train['Name'].apply(len)\n",
    "test['Name_length'] = test['Name'].apply(len)\n",
    "\n",
    "# Cabinが欠損値かどうかを0,1で保持する\"Has_Cabin\"を生成 \n",
    "# Dataframe.apply() : 各要素ごとに処理\n",
    "# lambda 引数 : 式\n",
    "# 各要素の型がfloat(NaN)のとき0,それ以外のとき1を\"Has_Cabin\"に格納\n",
    "train[\"Has_Cabin\"] = train[\"Cabin\"].apply(lambda x: 0 if type(x) == float else 1)\n",
    "test[\"Has_Cabin\"] = test[\"Cabin\"].apply(lambda x: 0 if type(x) == float else 1)\n",
    "\n",
    "# 特徴量エンジニアリング\n",
    "for dataset in full_data: # trainとtestのそれぞれについて\n",
    "    # 搭乗していた家族の人数の特徴量を生成\n",
    "    # 搭乗していた家族の人数 = 兄弟,配偶者の人数 + 親,子供の人数 + 1(自分)\n",
    "    dataset[\"FamilySize\"] = dataset[\"SibSp\"] + dataset[\"Parch\"] + 1\n",
    "\n",
    "for dataset in full_data:\n",
    "    # 1人で搭乗したいたかどうかの特徴量を生成\n",
    "    dataset[\"IsAlone\"] = 0\n",
    "    # \"Familysize\"が1のレコードの\"IsAlone\"を1に上書き\n",
    "    dataset.loc[dataset[\"FamilySize\"]==1,\"IsAlone\"] = 1\n",
    "\n",
    "for dataset in full_data:\n",
    "    # \"Embarked\"の欠損値を\"S\"で埋める\n",
    "    dataset[\"Embarked\"] = dataset[\"Embarked\"].fillna(\"S\")\n",
    "    # \"Fare\"の欠損値を訓練セットの中央値で埋める\n",
    "    dataset[\"Fare\"] = dataset[\"Fare\"].fillna(train[\"Fare\"].median())\n",
    "# Fareを訓練セットの四分位数で離散化した\"CategoricalFare\"特徴量を生成\n",
    "train[\"CategoricalFare\"] = pd.qcut(train[\"Fare\"],4)\n",
    "\n",
    "for dataset in full_data:\n",
    "    age_avg = dataset[\"Age\"].mean() # Ageの平均\n",
    "    age_std = dataset[\"Age\"].std() # Ageの標準偏差\n",
    "    age_null_count = dataset[\"Age\"].isnull().sum() # AgeがNanのレコード数をカウント\n",
    "    age_null_random_list = np.random.randint(age_avg-age_std,age_avg+age_std,size=age_null_count) # age_avgを中心として2*age_stdの範囲で乱数を生成\n",
    "    dataset[\"Age\"][np.isnan(dataset[\"Age\"])] = age_null_random_list # AgeがNanのレコードに生成した乱数を代入\n",
    "    dataset[\"Age\"] = dataset[\"Age\"].astype(int) # Ageをint型に変換\n",
    "train[\"CategoricalAge\"] = pd.cut(train[\"Age\"],5) # Ageを分位数5で離散化した\"CategoricalAge\"特徴量を生成\n",
    "\n",
    "def get_title(name):\n",
    "    \"\"\"名前から敬称を抽出する関数\n",
    "    Args:\n",
    "    name(str) : 敬称を抽出する文字列\n",
    "    \n",
    "    Returns:\n",
    "    敬称 : 敬称が文字列に含まれるとき\n",
    "    \"\" : 敬称が文字列に含まれないとき\n",
    "    \"\"\"\n",
    "    # 正規表現\n",
    "    # () : 文字を一つのグループにまとめる\n",
    "    # A-Za-z : 1桁の全角英字(大文字)と1桁の全角英字(大文字)\n",
    "    # + 直前の文字が1回以上繰り返すときにマッチする\n",
    "    # \\. .(ドット)\n",
    "    title_search = re.search(' ([A-Za-z]+)\\.', name)\n",
    "    if title_search:\n",
    "        return title_search.group(1)\n",
    "    return \"\"\n",
    "\n",
    "for dataset in full_data:\n",
    "    # \"Name\"の各要素をget_title関数に渡して,結果を\"Title\"に格納する.\n",
    "    dataset[\"Title\"] = dataset[\"Name\"].apply(get_title)\n",
    "\n",
    "for dataset in full_data:\n",
    "    # 稀な敬称を\"Rare\"に置換\n",
    "    dataset[\"Title\"] = dataset[\"Title\"].replace(['Lady', 'Countess','Capt', 'Col','Don', 'Dr', \n",
    "                                                 'Major', 'Rev', 'Sir', 'Jonkheer', 'Dona'], 'Rare')\n",
    "    # 表記を統一\n",
    "    dataset[\"Title\"] = dataset[\"Title\"].replace(\"Mlle\",\"Miss\")\n",
    "    dataset[\"Title\"] = dataset[\"Title\"].replace(\"Ms\",\"Miss\")\n",
    "    dataset[\"Title\"] = dataset[\"Title\"].replace(\"Mme\",\"Mrs\")\n",
    "    \n",
    "for dataset in full_data:\n",
    "    # \"femaleを0,maleを1にエンコーディング\"\n",
    "    dataset[\"Sex\"] = dataset[\"Sex\"].map({\"female\":0,\"male\":1}).astype(int)\n",
    "    \n",
    "    # Embarkedをエンコーディング\n",
    "    dataset[\"Embarked\"] = dataset[\"Embarked\"].map({\"S\":0,\"C\":1,\"Q\":2}).astype(int)\n",
    "    \n",
    "    # 敬称をエンコーディング\n",
    "    title_mapping = {\"Mr\": 1, \"Miss\": 2, \"Mrs\": 3, \"Master\": 4, \"Rare\": 5}\n",
    "    dataset['Title'] = dataset['Title'].map(title_mapping)\n",
    "    dataset['Title'] = dataset['Title'].fillna(0)\n",
    "    \n",
    "    # Fareを四分位で離散化\n",
    "    dataset.loc[dataset[\"Fare\"]<=7.91,\"Fare\"] = 0\n",
    "    dataset.loc[(dataset['Fare'] > 7.91) & (dataset['Fare'] <= 14.454), 'Fare'] = 1\n",
    "    dataset.loc[(dataset['Fare'] > 14.454) & (dataset['Fare'] <= 31), 'Fare']   = 2\n",
    "    dataset.loc[ dataset['Fare'] > 31, 'Fare'] = 3\n",
    "    dataset['Fare'] = dataset['Fare'].astype(int)\n",
    "    \n",
    "    # Ageを分位数5で離散化\n",
    "    dataset.loc[ dataset['Age'] <= 16, 'Age'] = 0\n",
    "    dataset.loc[(dataset['Age'] > 16) & (dataset['Age'] <= 32), 'Age'] = 1\n",
    "    dataset.loc[(dataset['Age'] > 32) & (dataset['Age'] <= 48), 'Age'] = 2\n",
    "    dataset.loc[(dataset['Age'] > 48) & (dataset['Age'] <= 64), 'Age'] = 3\n",
    "    dataset.loc[ dataset['Age'] > 64, 'Age'] = 4 ;\n",
    "\n",
    "# 特徴選択\n",
    "drop_features = [\"PassengerId\",\"Name\",\"Ticket\",\"Cabin\",\"SibSp\"]\n",
    "train = train.drop(drop_features,axis=1)\n",
    "train = train.drop(['CategoricalAge', 'CategoricalFare'], axis = 1)\n",
    "test = test.drop(drop_features,axis=1)\n",
    "train.head()"
   ]
  },
  {
   "cell_type": "code",
   "execution_count": 4,
   "metadata": {},
   "outputs": [],
   "source": [
    "X_train = train.drop(columns=[\"Survived\"])\n",
    "y_train = train[\"Survived\"]"
   ]
  },
  {
   "cell_type": "code",
   "execution_count": 7,
   "metadata": {},
   "outputs": [],
   "source": [
    "import xgboost as xgb\n",
    "\n",
    "dtrain = xgb.DMatrix(X_train, label=y_train) # xgboostようにデータを変換\n",
    "xgb_params = {\n",
    "    \"objective\": \"binary:logistic\",\n",
    "    \"eval_metric\": \"logloss\"\n",
    "}\n",
    "\n",
    "model = xgb.train(xgb_params,dtrain)"
   ]
  },
  {
   "cell_type": "code",
   "execution_count": 9,
   "metadata": {},
   "outputs": [
    {
     "data": {
      "text/plain": [
       "<AxesSubplot:title={'center':'Feature importance'}, xlabel='F score', ylabel='Features'>"
      ]
     },
     "execution_count": 9,
     "metadata": {},
     "output_type": "execute_result"
    },
    {
     "data": {
      "image/png": "[encoded data removed]",
      "text/plain": [
       "<Figure size 432x288 with 1 Axes>"
      ]
     },
     "metadata": {
      "needs_background": "light"
     },
     "output_type": "display_data"
    }
   ],
   "source": [
    "# feature importance\n",
    "xgb.plot_importance(model)"
   ]
  },
  {
   "cell_type": "code",
   "execution_count": 13,
   "metadata": {},
   "outputs": [
    {
     "data": {
      "text/plain": [
       "<Figure size 1080x1080 with 0 Axes>"
      ]
     },
     "metadata": {},
     "output_type": "display_data"
    },
    {
     "data": {
      "image/png": "[encoded data removed]",
      "text/plain": [
       "<Figure size 432x288 with 1 Axes>"
      ]
     },
     "metadata": {
      "needs_background": "light"
     },
     "output_type": "display_data"
    }
   ],
   "source": [
    "# tree \n",
    "plt.figure(figsize=(15,15))\n",
    "xgb.plot_tree(model, num_trees=2)\n",
    "plt.show()"
   ]
  },
  {
   "cell_type": "markdown",
   "metadata": {},
   "source": [
    "## 交差検証"
   ]
  },
  {
   "cell_type": "code",
   "execution_count": 14,
   "metadata": {},
   "outputs": [
    {
     "name": "stdout",
     "output_type": "stream",
     "text": [
      "[0]\ttrain-logloss:0.55304+0.00310\ttest-logloss:0.57190+0.00718\n",
      "[1]\ttrain-logloss:0.47487+0.00310\ttest-logloss:0.50734+0.01447\n",
      "[2]\ttrain-logloss:0.42277+0.00441\ttest-logloss:0.46922+0.01923\n",
      "[3]\ttrain-logloss:0.38773+0.00532\ttest-logloss:0.44557+0.02235\n",
      "[4]\ttrain-logloss:0.36159+0.00637\ttest-logloss:0.43359+0.02273\n",
      "[5]\ttrain-logloss:0.34179+0.00735\ttest-logloss:0.42476+0.02235\n",
      "[6]\ttrain-logloss:0.32716+0.00741\ttest-logloss:0.42105+0.02463\n",
      "[7]\ttrain-logloss:0.31543+0.00812\ttest-logloss:0.41990+0.02476\n",
      "[8]\ttrain-logloss:0.30470+0.00788\ttest-logloss:0.41962+0.02768\n",
      "[9]\ttrain-logloss:0.29612+0.00835\ttest-logloss:0.42059+0.02886\n"
     ]
    }
   ],
   "source": [
    "dtrain = xgb.DMatrix(X_train, label=y_train) # xgboostようにデータを変換\n",
    "xgb_params = {\n",
    "    \"objective\": \"binary:logistic\",\n",
    "    \"eval_metric\": \"logloss\"\n",
    "}\n",
    "\n",
    "model = xgb.cv(xgb_params,dtrain,nfold=5,verbose_eval=True)"
   ]
  },
  {
   "cell_type": "markdown",
   "metadata": {},
   "source": [
    "# パラメータ"
   ]
  },
  {
   "cell_type": "markdown",
   "metadata": {},
   "source": [
    "- eta : etaは学習率で過学習を防止するために調整します.\n",
    "- gamma : gammaは決定木の葉の追加による損失減少の下限を意味します. 決定木が複雑になると過学習を起こしやすくなるため, 葉の数に対するペナルティを与える.\n",
    "- max_depth : 決定木の深さの最大値を意味する. 値が大きいほどモデルが複雑になるため過学習する可能性が高くなる.\n",
    "- min_child_weight : 決定木の葉の重みの下限を表します. この下限が大きいほど単調な木になり, 過学習を抑制する.\n",
    "- objective : 損失関数の設定\n",
    "- eval_metric : 評価指標\n",
    "- nrounds : ブースティングを行う回数"
   ]
  },
  {
   "cell_type": "code",
   "execution_count": null,
   "metadata": {},
   "outputs": [],
   "source": []
  }
 ],
 "metadata": {
  "kernelspec": {
   "display_name": "Python 3",
   "language": "python",
   "name": "python3"
  },
  "language_info": {
   "codemirror_mode": {
    "name": "ipython",
    "version": 3
   },
   "file_extension": ".py",
   "mimetype": "text/x-python",
   "name": "python",
   "nbconvert_exporter": "python",
   "pygments_lexer": "ipython3",
   "version": "3.8.5"
  },
  "toc": {
   "base_numbering": 1,
   "nav_menu": {},
   "number_sections": true,
   "sideBar": true,
   "skip_h1_title": false,
   "title_cell": "Table of Contents",
   "title_sidebar": "Contents",
   "toc_cell": false,
   "toc_position": {},
   "toc_section_display": true,
   "toc_window_display": false
  }
 },
 "nbformat": 4,
 "nbformat_minor": 4
}
