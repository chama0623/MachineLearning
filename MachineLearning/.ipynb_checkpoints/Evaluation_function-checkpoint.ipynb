{
 "cells": [
  {
   "cell_type": "code",
   "execution_count": 1,
   "metadata": {},
   "outputs": [],
   "source": [
    "import numpy as np\n",
    "import pandas as pd\n",
    "import matplotlib.pyplot as plt\n",
    "import seaborn as sns"
   ]
  },
  {
   "cell_type": "markdown",
   "metadata": {},
   "source": [
    "Reference : SIGNATE Quest 評価関数\n",
    "https://quest.signate.jp/quests/10011#mission_step_2"
   ]
  },
  {
   "cell_type": "markdown",
   "metadata": {},
   "source": [
    "# 回帰"
   ]
  },
  {
   "cell_type": "markdown",
   "metadata": {},
   "source": [
    "## MAE(Mean Absolute Error)\n",
    "MAEは次のように定義される. ただし, Nはサンプル数, $\\hat{y_i}$はモデルの予測値, $y_i$は実測値とする. MAEは実測値と予測値の誤差の絶対値を測定する. MAEの値が小さいほど精度が良い. \n",
    "$$MAE = \\frac{1}{N} \\sum_{i=1}^{N} |y_i-\\hat{y_i}| $$"
   ]
  },
  {
   "cell_type": "markdown",
   "metadata": {},
   "source": [
    "## RMSE(Root Mean Squared Error)\n",
    "RMSEは次のように定義される. RMSEは実測値と予測値の誤差の2乗をもとに算出される. RMSEの値が小さいほど精度が高いが, 誤差を2乗しているため外れ値があると値が大きくなる.\n",
    "\n",
    "$$RMSE = \\sqrt{\\frac{1}{N}\\sum_{i=1}^{N}(y_i-\\hat{y_i})^2}$$"
   ]
  },
  {
   "cell_type": "markdown",
   "metadata": {},
   "source": [
    "## MAEとRMSEの比較"
   ]
  },
  {
   "cell_type": "code",
   "execution_count": 2,
   "metadata": {},
   "outputs": [
    {
     "data": {
      "text/html": [
       "<div>\n",
       "<style scoped>\n",
       "    .dataframe tbody tr th:only-of-type {\n",
       "        vertical-align: middle;\n",
       "    }\n",
       "\n",
       "    .dataframe tbody tr th {\n",
       "        vertical-align: top;\n",
       "    }\n",
       "\n",
       "    .dataframe thead th {\n",
       "        text-align: right;\n",
       "    }\n",
       "</style>\n",
       "<table border=\"1\" class=\"dataframe\">\n",
       "  <thead>\n",
       "    <tr style=\"text-align: right;\">\n",
       "      <th></th>\n",
       "      <th>NUM</th>\n",
       "      <th>obs</th>\n",
       "      <th>ypred1</th>\n",
       "      <th>ypred2</th>\n",
       "      <th>ypred3</th>\n",
       "    </tr>\n",
       "  </thead>\n",
       "  <tbody>\n",
       "    <tr>\n",
       "      <th>0</th>\n",
       "      <td>0</td>\n",
       "      <td>2</td>\n",
       "      <td>3</td>\n",
       "      <td>3</td>\n",
       "      <td>3</td>\n",
       "    </tr>\n",
       "    <tr>\n",
       "      <th>1</th>\n",
       "      <td>1</td>\n",
       "      <td>6</td>\n",
       "      <td>7</td>\n",
       "      <td>9</td>\n",
       "      <td>7</td>\n",
       "    </tr>\n",
       "    <tr>\n",
       "      <th>2</th>\n",
       "      <td>2</td>\n",
       "      <td>1</td>\n",
       "      <td>2</td>\n",
       "      <td>2</td>\n",
       "      <td>2</td>\n",
       "    </tr>\n",
       "    <tr>\n",
       "      <th>3</th>\n",
       "      <td>3</td>\n",
       "      <td>9</td>\n",
       "      <td>10</td>\n",
       "      <td>10</td>\n",
       "      <td>10</td>\n",
       "    </tr>\n",
       "    <tr>\n",
       "      <th>4</th>\n",
       "      <td>4</td>\n",
       "      <td>6</td>\n",
       "      <td>7</td>\n",
       "      <td>7</td>\n",
       "      <td>7</td>\n",
       "    </tr>\n",
       "    <tr>\n",
       "      <th>5</th>\n",
       "      <td>5</td>\n",
       "      <td>7</td>\n",
       "      <td>8</td>\n",
       "      <td>8</td>\n",
       "      <td>17</td>\n",
       "    </tr>\n",
       "    <tr>\n",
       "      <th>6</th>\n",
       "      <td>6</td>\n",
       "      <td>12</td>\n",
       "      <td>13</td>\n",
       "      <td>13</td>\n",
       "      <td>13</td>\n",
       "    </tr>\n",
       "  </tbody>\n",
       "</table>\n",
       "</div>"
      ],
      "text/plain": [
       "   NUM  obs  ypred1  ypred2  ypred3\n",
       "0    0    2       3       3       3\n",
       "1    1    6       7       9       7\n",
       "2    2    1       2       2       2\n",
       "3    3    9      10      10      10\n",
       "4    4    6       7       7       7\n",
       "5    5    7       8       8      17\n",
       "6    6   12      13      13      13"
      ]
     },
     "execution_count": 2,
     "metadata": {},
     "output_type": "execute_result"
    }
   ],
   "source": [
    "df1 = pd.read_csv(\"eval_data1.csv\")\n",
    "df1"
   ]
  },
  {
   "cell_type": "code",
   "execution_count": 20,
   "metadata": {},
   "outputs": [
    {
     "name": "stdout",
     "output_type": "stream",
     "text": [
      "外れ値がなく, 予測誤差が均一なデータの場合\n",
      "MAE :  1.0\n",
      "RMSE :  1.0\n"
     ]
    },
    {
     "data": {
      "image/png": "[encoded data removed]",
      "text/plain": [
       "<Figure size 432x288 with 1 Axes>"
      ]
     },
     "metadata": {},
     "output_type": "display_data"
    },
    {
     "name": "stdout",
     "output_type": "stream",
     "text": [
      "外れ値があり, 外れ値以外の予測誤差が均一なデータの場合1\n",
      "MAE :  1.2857142857142858\n",
      "RMSE :  1.4638501094227998\n"
     ]
    },
    {
     "data": {
      "image/png": "[encoded data removed]",
      "text/plain": [
       "<Figure size 432x288 with 1 Axes>"
      ]
     },
     "metadata": {},
     "output_type": "display_data"
    },
    {
     "name": "stdout",
     "output_type": "stream",
     "text": [
      "外れた値があり, 外れ値以外の予測誤差が均一なデータの場合2\n",
      "MAE :  2.2857142857142856\n",
      "RMSE :  3.8913824205360674\n"
     ]
    },
    {
     "data": {
      "image/png": "[encoded data removed]",
      "text/plain": [
       "<Figure size 432x288 with 1 Axes>"
      ]
     },
     "metadata": {},
     "output_type": "display_data"
    }
   ],
   "source": [
    "from sklearn.metrics import mean_absolute_error,mean_squared_error\n",
    "\n",
    "def root_mean_squared_error(y_true,y_pred):\n",
    "    \"\"\"RMSEを計算する関数\"\"\"\n",
    "    return np.sqrt(mean_squared_error(y_true,y_pred))\n",
    "\n",
    "def gen_graph(x,y_true,y_pred):\n",
    "    \"\"\"評価関数を比較するための関数\n",
    "    \n",
    "    Args:\n",
    "    x:独立変数\n",
    "    y_true:観測値\n",
    "    y_pred:予測値\n",
    "    \n",
    "    Return:\n",
    "    None\n",
    "    \"\"\"\n",
    "    \n",
    "    # 評価関数の計算\n",
    "    mae = mean_absolute_error(y_true,y_pred)\n",
    "    rmse = root_mean_squared_error(y_true,y_pred)\n",
    "    print(\"MAE : \",mae)\n",
    "    print(\"RMSE : \",rmse)\n",
    "    \n",
    "    # グラフの描画\n",
    "    plt.figure(facecolor=\"white\")\n",
    "    plt.plot(x,y_true,label=\"観測値\")\n",
    "    plt.scatter(x,y_true)\n",
    "    plt.plot(x,y_pred,label=\"予測値\")\n",
    "    plt.scatter(x,y_pred)\n",
    "    plt.legend()\n",
    "    plt.show()\n",
    "    \n",
    "print(\"外れ値がなく, 予測誤差が均一なデータの場合\")\n",
    "gen_graph(df1[\"NUM\"],df1[\"obs\"],df1[\"ypred1\"])\n",
    "print(\"外れ値があり, 外れ値以外の予測誤差が均一なデータの場合1\")\n",
    "gen_graph(df1[\"NUM\"],df1[\"obs\"],df1[\"ypred2\"])\n",
    "print(\"外れた値があり, 外れ値以外の予測誤差が均一なデータの場合2\")\n",
    "gen_graph(df1[\"NUM\"],df1[\"obs\"],df1[\"ypred3\"])"
   ]
  },
  {
   "cell_type": "markdown",
   "metadata": {},
   "source": [
    "上の3つの例からMAEとRMSEの違いについて考察する. 外れ値がなく, 予測誤差が均一なデータの場合, MAEとRMSEの値は同じになることがわかる. 外れ値があり, 外れ値以外の予測誤差が均一なデータの場合, 外れ値の大きさに応じてRMSEが大きくなる(=評価が悪くなる)ことがわかる. このことから, RMSEは予測の大きな誤差を重要視するため, 大きな予測誤差を出したくないタスクで有効であることが考えられる."
   ]
  },
  {
   "cell_type": "markdown",
   "metadata": {},
   "source": [
    "## MAPE(Mean Absolute Percentage Error)\n",
    "MAPEは次のように定義される. MAPEは実測値に対する「誤差の割合」ををもとに算出する指標であり, 値が0に小さいほどモデルの予測精度が高いといえる. MAPEはスケールが異なるデータの誤差を比較しやすい, 実測値に0が含まれていると使用できないという特徴がある.\n",
    "\n",
    "$$MAPE =\\frac{100}{N} \\sum_{i=1}^{N}|\\frac{y_i-\\hat{y_i}}{y_i}|$$ "
   ]
  },
  {
   "cell_type": "code",
   "execution_count": 16,
   "metadata": {},
   "outputs": [
    {
     "data": {
      "text/html": [
       "<div>\n",
       "<style scoped>\n",
       "    .dataframe tbody tr th:only-of-type {\n",
       "        vertical-align: middle;\n",
       "    }\n",
       "\n",
       "    .dataframe tbody tr th {\n",
       "        vertical-align: top;\n",
       "    }\n",
       "\n",
       "    .dataframe thead th {\n",
       "        text-align: right;\n",
       "    }\n",
       "</style>\n",
       "<table border=\"1\" class=\"dataframe\">\n",
       "  <thead>\n",
       "    <tr style=\"text-align: right;\">\n",
       "      <th></th>\n",
       "      <th>NUM</th>\n",
       "      <th>obs1</th>\n",
       "      <th>obs2</th>\n",
       "      <th>ypred1</th>\n",
       "      <th>ypred2</th>\n",
       "    </tr>\n",
       "  </thead>\n",
       "  <tbody>\n",
       "    <tr>\n",
       "      <th>0</th>\n",
       "      <td>0</td>\n",
       "      <td>100</td>\n",
       "      <td>100</td>\n",
       "      <td>120</td>\n",
       "      <td>120</td>\n",
       "    </tr>\n",
       "    <tr>\n",
       "      <th>1</th>\n",
       "      <td>1</td>\n",
       "      <td>100</td>\n",
       "      <td>100</td>\n",
       "      <td>120</td>\n",
       "      <td>120</td>\n",
       "    </tr>\n",
       "    <tr>\n",
       "      <th>2</th>\n",
       "      <td>2</td>\n",
       "      <td>100</td>\n",
       "      <td>100</td>\n",
       "      <td>80</td>\n",
       "      <td>80</td>\n",
       "    </tr>\n",
       "    <tr>\n",
       "      <th>3</th>\n",
       "      <td>3</td>\n",
       "      <td>100</td>\n",
       "      <td>100</td>\n",
       "      <td>80</td>\n",
       "      <td>80</td>\n",
       "    </tr>\n",
       "    <tr>\n",
       "      <th>4</th>\n",
       "      <td>4</td>\n",
       "      <td>100</td>\n",
       "      <td>10000</td>\n",
       "      <td>120</td>\n",
       "      <td>12000</td>\n",
       "    </tr>\n",
       "  </tbody>\n",
       "</table>\n",
       "</div>"
      ],
      "text/plain": [
       "   NUM  obs1   obs2  ypred1  ypred2\n",
       "0    0   100    100     120     120\n",
       "1    1   100    100     120     120\n",
       "2    2   100    100      80      80\n",
       "3    3   100    100      80      80\n",
       "4    4   100  10000     120   12000"
      ]
     },
     "execution_count": 16,
     "metadata": {},
     "output_type": "execute_result"
    }
   ],
   "source": [
    "df2 = pd.read_csv(\"eval_data2.csv\")\n",
    "df2"
   ]
  },
  {
   "cell_type": "code",
   "execution_count": 21,
   "metadata": {},
   "outputs": [
    {
     "name": "stdout",
     "output_type": "stream",
     "text": [
      "観測値obs1, 予測値ypred1のとき\n",
      "MAE :  20.0\n",
      "MAPE :  20.0\n",
      "観測値obs2, 予測値ypred2のとき\n",
      "MAE :  416.0\n",
      "MAPE :  20.0\n"
     ]
    }
   ],
   "source": [
    "def mean_absolute_percentage_error(y_true,y_pred):\n",
    "    \"\"\"MAPEを計算する関数\"\"\"\n",
    "    return np.mean(np.abs((y_true - y_pred) / y_true)) * 100\n",
    "    \n",
    "print(\"観測値obs1, 予測値ypred1のとき\")\n",
    "print(\"MAE : \",mean_absolute_error(df2[\"obs1\"],df2[\"ypred1\"]))\n",
    "print(\"MAPE : \",mean_absolute_percentage_error(df2[\"obs1\"],df2[\"ypred1\"]))\n",
    "\n",
    "print(\"観測値obs2, 予測値ypred2のとき\")\n",
    "print(\"MAE : \",mean_absolute_error(df2[\"obs2\"],df2[\"ypred2\"]))\n",
    "print(\"MAPE : \",mean_absolute_percentage_error(df2[\"obs2\"],df2[\"ypred2\"]))"
   ]
  },
  {
   "cell_type": "markdown",
   "metadata": {},
   "source": [
    "上の実行結果からわかるように, 観測値のスケールに変化がないときは, MAEとMAPEが同じになる. 一方で10000,12000というスケールの異なるデータがあるとき, MAEはスケールの異なるデータの影響を受けて大きくなるがm MAPEはスケールの影響を受けない. "
   ]
  },
  {
   "cell_type": "markdown",
   "metadata": {},
   "source": [
    "## 決定係数(coefficient of determination)\n",
    "決定係数$R^2$は次のように定義される. 決定係数は「データのばらつき」と「予測値のずれ」から算出される指標で, モデルの予測値の当てはまり度合いを評価する. 値が1に近いほど予測精度が高く, 予測精度が悪いときは値が負になることもある.\n",
    "\n",
    "$$R^2 = \\frac{\\sum_{i=1}^{N} (\\hat{y_i}-\\bar{y})^2}{\\sum_{i=1}^{N} (y_i-\\bar{y})^2}$$"
   ]
  },
  {
   "cell_type": "markdown",
   "metadata": {},
   "source": [
    "# 分類"
   ]
  },
  {
   "cell_type": "code",
   "execution_count": 2,
   "metadata": {},
   "outputs": [
    {
     "name": "stdout",
     "output_type": "stream",
     "text": [
      "(70000, 784)\n",
      "(70000,)\n"
     ]
    }
   ],
   "source": [
    "# MNISTデータ読み込み\n",
    "from sklearn.datasets import fetch_openml\n",
    "mnist = fetch_openml('mnist_784', version=1,)\n",
    "X,y = mnist[\"data\"],mnist[\"target\"]\n",
    "print(X.shape)\n",
    "print(y.shape)"
   ]
  },
  {
   "cell_type": "code",
   "execution_count": 3,
   "metadata": {},
   "outputs": [],
   "source": [
    "X_train,X_test,y_train,y_test = X[:60000],X[60000:],y[:60000],y[60000:]\n",
    "shuffle_index = np.random.permutation(60000)\n",
    "X_train,y_train = X_train[shuffle_index],y_train[shuffle_index]\n",
    "y_train_5 = (y_train == \"5\")\n",
    "y_test_5 = (y_test == \"5\")"
   ]
  },
  {
   "cell_type": "code",
   "execution_count": 4,
   "metadata": {},
   "outputs": [
    {
     "data": {
      "text/plain": [
       "RandomForestClassifier(n_jobs=-1, random_state=42)"
      ]
     },
     "execution_count": 4,
     "metadata": {},
     "output_type": "execute_result"
    }
   ],
   "source": [
    "# 手書きデータが5かそれ以外かを判別する二項分類器\n",
    "# 確率的勾配降下法(SGD)\n",
    "from sklearn.linear_model import SGDClassifier\n",
    "sgd_clf = SGDClassifier(max_iter=5,tol=-np.infty,random_state=42,n_jobs=-1)\n",
    "sgd_clf.fit(X_train,y_train_5)\n",
    "\n",
    "# ランダムフォレスト\n",
    "from sklearn.ensemble import RandomForestClassifier\n",
    "rfc_clf = RandomForestClassifier(random_state=42,n_jobs=-1)\n",
    "rfc_clf.fit(X_train,y_train_5)"
   ]
  },
  {
   "cell_type": "markdown",
   "metadata": {},
   "source": [
    "## Accuracy, Precision, Recall, F-value\n",
    "\n",
    "混同行列 : 分類結果をPositive(正解)とNegative(不正解)にわけ, 正解ラベルと予測ラベルの組から表を作成したもの.\n",
    "\n",
    "|   |  予測がPositive  |  予測がNegative  |\n",
    "| ---- | ---- | ---- |\n",
    "| 正解がPositive | True Positive(TP);真陽性 | False Negative(FN);偽陰性 |\n",
    "| 正解がNegative | False Positive(FP);偽陽性 | True Negative(TN);真陰性 |\n",
    "\n",
    "### Accuracy\n",
    "Accuracyは予測結果が実際にあたっていた割合のことで, 次のように定義される. 分かりやすい指標であるがAccuracyのみでモデルの精度を判断するのは危険である.\n",
    "$$Accuracy = \\frac{TP+TN}{TP+TN+FP+FN}$$"
   ]
  },
  {
   "cell_type": "code",
   "execution_count": 7,
   "metadata": {},
   "outputs": [
    {
     "name": "stdout",
     "output_type": "stream",
     "text": [
      "accuracy SGD :  [0.9146  0.9631  0.95455]\n",
      "accuracy RFC :  [0.98815 0.9873  0.9884 ]\n"
     ]
    }
   ],
   "source": [
    "from sklearn.model_selection import cross_val_predict\n",
    "from sklearn.model_selection import cross_val_score\n",
    "\n",
    "y_train_pred_sgd = cross_val_predict(sgd_clf,X_train,y_train_5,cv=3)\n",
    "y_train_pred_rfc = cross_val_predict(rfc_clf,X_train,y_train_5,cv=3)\n",
    "\n",
    "scores_sgd = cross_val_score(sgd_clf,X_train,y_train_5, cv=3,scoring=\"accuracy\",n_jobs=-1)\n",
    "scores_rfc = cross_val_score(rfc_clf,X_train,y_train_5, cv=3,scoring=\"accuracy\",n_jobs=-1)\n",
    "print(\"accuracy SGD : \",scores_sgd)\n",
    "print(\"accuracy RFC : \",scores_rfc)"
   ]
  },
  {
   "cell_type": "markdown",
   "metadata": {},
   "source": [
    "### Precision\n",
    "Precision(適合率)は陽性であると判断したもののうち実際に陽性であった割合を表し, 次のように定義される. Precisionは誤判定を少なくしたいときに用いる.\n",
    "$$Precision = \\frac{TP}{TP+FP}$$\n",
    "\n",
    "### Recall\n",
    "Recall(再現率)は実際に陽性であるもののうち, 正しく陽性と判断できている割合を表したもので, 次に示すように定義される. Recallは抜けがなく正誤判定をしたいときに用いる.\n",
    "$$Recall = \\frac{TP}{TP+FN}$$\n",
    "\n",
    "PrecisionとRecallにはトレードオフの関係がある. モデルがインスタンスを陽性と判断する閾値を大きくすると, Presicionは高く, Recallは低くなる.\n",
    "閾値を低くすると, Presicionは低く, Recallは高くなる. "
   ]
  },
  {
   "cell_type": "code",
   "execution_count": 8,
   "metadata": {},
   "outputs": [
    {
     "name": "stdout",
     "output_type": "stream",
     "text": [
      "SGD\n",
      "Precision :  0.6787815853236414\n",
      "Recall :  0.7234827522597307\n",
      "RFC\n",
      "Precision :  0.9895789912463526\n",
      "Recall :  0.8758531636229479\n"
     ]
    }
   ],
   "source": [
    "from sklearn.metrics import precision_score,recall_score\n",
    "\n",
    "print(\"SGD\")\n",
    "print(\"Precision : \",precision_score(y_train_5,y_train_pred_sgd))\n",
    "print(\"Recall : \",recall_score(y_train_5,y_train_pred_sgd))\n",
    "print(\"RFC\")\n",
    "print(\"Precision : \",precision_score(y_train_5,y_train_pred_rfc))\n",
    "print(\"Recall : \",recall_score(y_train_5,y_train_pred_rfc))"
   ]
  },
  {
   "cell_type": "markdown",
   "metadata": {},
   "source": [
    "### F-value\n",
    "F-valueは次に示すように定義される(PrecisionとRecallの調和平均), PrecisionとRecallの両方を加味した評価関数である. 0から1の値をとり値が大きいほど予測精度が高い.\n",
    "\n",
    "$$F = \\frac{2 × Precision × Recall}{Precision+Recall}$$"
   ]
  },
  {
   "cell_type": "code",
   "execution_count": 9,
   "metadata": {},
   "outputs": [
    {
     "name": "stdout",
     "output_type": "stream",
     "text": [
      "SGD\n",
      "F値 :  0.7004196803286008\n",
      "RFC\n",
      "F値 :  0.9292494373226343\n"
     ]
    }
   ],
   "source": [
    "from sklearn.metrics import f1_score\n",
    "\n",
    "print(\"SGD\")\n",
    "print(\"F値 : \",f1_score(y_train_5,y_train_pred_sgd))\n",
    "print(\"RFC\")\n",
    "print(\"F値 : \",f1_score(y_train_5,y_train_pred_rfc))"
   ]
  },
  {
   "cell_type": "markdown",
   "metadata": {},
   "source": [
    "## ROC曲線とAUC\n",
    "### ROC曲線\n",
    "ROC曲線は2値分類問題で閾値を変化させたときにモデルの性能がどのように変化するかを表したものである.横軸に偽陽性率(FPR),てて軸に真陽性率(Recall)をとり, 閾値を変化させたときのFPR, Recallをプロットする. 一般的には真陽性率が高い, つまり上に凸になるようなカーブを描くことが理想的といえる.\n",
    "\n",
    "### AUC(Area Under the Curve)\n",
    "AUCはROC曲線と以下の領域面積を表している. AUCは0～1の値をとり, 値が大きいほどモデルの予測精度が良いといえる."
   ]
  },
  {
   "cell_type": "code",
   "execution_count": 10,
   "metadata": {},
   "outputs": [],
   "source": [
    "def plot_roc_curve(fpr, tpr, label=None):\n",
    "    plt.plot(fpr, tpr, linewidth=2, label=label)\n",
    "    plt.plot([0, 1], [0, 1], 'k--')\n",
    "    plt.axis([0, 1, 0, 1])\n",
    "    plt.xlabel('False Positive Rate', fontsize=16)\n",
    "    plt.ylabel('True Positive Rate', fontsize=16)"
   ]
  },
  {
   "cell_type": "code",
   "execution_count": 11,
   "metadata": {},
   "outputs": [
    {
     "data": {
      "image/png": "[encoded data removed]",
      "text/plain": [
       "<Figure size 432x288 with 1 Axes>"
      ]
     },
     "metadata": {},
     "output_type": "display_data"
    }
   ],
   "source": [
    "from sklearn.metrics import roc_curve\n",
    "\n",
    "# SGD\n",
    "# method : decision_functionを指定することで確率を返す.\n",
    "scores_sgd = cross_val_predict(sgd_clf,X_train,y_train_5,cv=3,method=\"decision_function\")\n",
    "fpr_sgd,tpr_sgd,thresholds_sgd = roc_curve(y_train_5,scores_sgd)\n",
    "# RFC\n",
    "scores_rfc =  cross_val_predict(rfc_clf,X_train,y_train_5,cv=3,method=\"predict_proba\")\n",
    "fpr_rfc,tpr_rfc,thresholds_rfc = roc_curve(y_train_5,scores_rfc[:,1])\n",
    "\n",
    "plt.figure(facecolor=\"white\")\n",
    "plt.plot(fpr_sgd, tpr_sgd, linewidth=2, label=\"SGD\")\n",
    "plot_roc_curve(fpr_rfc,tpr_rfc,label=\"RFC\")\n",
    "plt.legend()\n",
    "plt.show()"
   ]
  },
  {
   "cell_type": "code",
   "execution_count": 12,
   "metadata": {},
   "outputs": [
    {
     "name": "stdout",
     "output_type": "stream",
     "text": [
      "AUC(SGD) :  0.9466250659460002\n",
      "AUC(RFC) :  0.9984122853973184\n"
     ]
    }
   ],
   "source": [
    "# AUC\n",
    "from sklearn.metrics import roc_auc_score\n",
    "print(\"AUC(SGD) : \",roc_auc_score(y_train_5,scores_sgd))\n",
    "print(\"AUC(RFC) : \",roc_auc_score(y_train_5,scores_rfc[:,1]))"
   ]
  },
  {
   "cell_type": "code",
   "execution_count": null,
   "metadata": {},
   "outputs": [],
   "source": []
  }
 ],
 "metadata": {
  "kernelspec": {
   "display_name": "Python 3",
   "language": "python",
   "name": "python3"
  },
  "language_info": {
   "codemirror_mode": {
    "name": "ipython",
    "version": 3
   },
   "file_extension": ".py",
   "mimetype": "text/x-python",
   "name": "python",
   "nbconvert_exporter": "python",
   "pygments_lexer": "ipython3",
   "version": "3.8.5"
  },
  "toc": {
   "base_numbering": 1,
   "nav_menu": {},
   "number_sections": true,
   "sideBar": true,
   "skip_h1_title": false,
   "title_cell": "Table of Contents",
   "title_sidebar": "Contents",
   "toc_cell": false,
   "toc_position": {},
   "toc_section_display": true,
   "toc_window_display": true
  }
 },
 "nbformat": 4,
 "nbformat_minor": 4
}
