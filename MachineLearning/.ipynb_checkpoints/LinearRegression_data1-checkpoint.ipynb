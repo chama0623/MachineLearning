{
 "cells": [
  {
   "cell_type": "code",
   "execution_count": 66,
   "metadata": {},
   "outputs": [],
   "source": [
    "import numpy as np\n",
    "import pandas as pd\n",
    "import matplotlib.pyplot as plt\n",
    "import seaborn as sns"
   ]
  },
  {
   "cell_type": "markdown",
   "metadata": {},
   "source": [
    "## 線形回帰\n",
    "線形回帰は連続値をとる目的変数yと説明変数xの線形的関係をモデル化する手法である.このノートでは説明変数が1つのときについて扱う.\n",
    "説明変数が1つのとき目的変数と説明変数の関係は次のようにモデル化される.\n",
    "$$y = w_0 + w_1 x$$\n",
    "\n",
    "説明変数が1つのときはパラメータ$w_0,w_1$は最小二乗法で簡単に求めることができる.\n",
    "\n",
    "## データの仕様\n",
    "data1はランダムに生成したxの値からy=4+3x+$\\epsilon$($\\epsilon$はノイズ)なるyを計算したデータである.線形回帰モデルによって,生成したモデルと予測したモデルでどの程度違いがでるかも検討する."
   ]
  },
  {
   "cell_type": "code",
   "execution_count": 24,
   "metadata": {},
   "outputs": [
    {
     "data": {
      "text/html": [
       "<div>\n",
       "<style scoped>\n",
       "    .dataframe tbody tr th:only-of-type {\n",
       "        vertical-align: middle;\n",
       "    }\n",
       "\n",
       "    .dataframe tbody tr th {\n",
       "        vertical-align: top;\n",
       "    }\n",
       "\n",
       "    .dataframe thead th {\n",
       "        text-align: right;\n",
       "    }\n",
       "</style>\n",
       "<table border=\"1\" class=\"dataframe\">\n",
       "  <thead>\n",
       "    <tr style=\"text-align: right;\">\n",
       "      <th></th>\n",
       "      <th>x</th>\n",
       "      <th>y</th>\n",
       "    </tr>\n",
       "  </thead>\n",
       "  <tbody>\n",
       "    <tr>\n",
       "      <th>0</th>\n",
       "      <td>1.337552</td>\n",
       "      <td>7.673493</td>\n",
       "    </tr>\n",
       "    <tr>\n",
       "      <th>1</th>\n",
       "      <td>1.617263</td>\n",
       "      <td>8.340384</td>\n",
       "    </tr>\n",
       "    <tr>\n",
       "      <th>2</th>\n",
       "      <td>0.427299</td>\n",
       "      <td>3.920846</td>\n",
       "    </tr>\n",
       "    <tr>\n",
       "      <th>3</th>\n",
       "      <td>1.726479</td>\n",
       "      <td>7.997781</td>\n",
       "    </tr>\n",
       "    <tr>\n",
       "      <th>4</th>\n",
       "      <td>0.753139</td>\n",
       "      <td>6.558939</td>\n",
       "    </tr>\n",
       "  </tbody>\n",
       "</table>\n",
       "</div>"
      ],
      "text/plain": [
       "          x         y\n",
       "0  1.337552  7.673493\n",
       "1  1.617263  8.340384\n",
       "2  0.427299  3.920846\n",
       "3  1.726479  7.997781\n",
       "4  0.753139  6.558939"
      ]
     },
     "execution_count": 24,
     "metadata": {},
     "output_type": "execute_result"
    }
   ],
   "source": [
    "df = pd.read_csv(\"data1.csv\")\n",
    "df.head()"
   ]
  },
  {
   "cell_type": "code",
   "execution_count": 28,
   "metadata": {},
   "outputs": [
    {
     "data": {
      "image/png": "[encoded data removed]",
      "text/plain": [
       "<Figure size 432x288 with 1 Axes>"
      ]
     },
     "metadata": {},
     "output_type": "display_data"
    }
   ],
   "source": [
    "plt.figure(facecolor=\"white\")\n",
    "plt.scatter(df[\"x\"],df[\"y\"])\n",
    "plt.xlabel(\"x\",fontsize=15)\n",
    "plt.ylabel(\"y\",fontsize=15)\n",
    "plt.show()"
   ]
  },
  {
   "cell_type": "markdown",
   "metadata": {},
   "source": [
    "## scikit-learnによる線形回帰"
   ]
  },
  {
   "cell_type": "markdown",
   "metadata": {},
   "source": [
    "### 線形回帰の実行"
   ]
  },
  {
   "cell_type": "code",
   "execution_count": 33,
   "metadata": {},
   "outputs": [
    {
     "data": {
      "text/plain": [
       "LinearRegression()"
      ]
     },
     "execution_count": 33,
     "metadata": {},
     "output_type": "execute_result"
    }
   ],
   "source": [
    "from sklearn.linear_model import LinearRegression\n",
    "\n",
    "X = df[\"x\"].to_numpy().reshape(-1,1)\n",
    "y = df[\"y\"].to_numpy().reshape(-1,1)\n",
    "model = LinearRegression() # インスタンス化\n",
    "model.fit(X,y) # フィッティング"
   ]
  },
  {
   "cell_type": "markdown",
   "metadata": {},
   "source": [
    "### 回帰直線のプロット "
   ]
  },
  {
   "cell_type": "code",
   "execution_count": 36,
   "metadata": {},
   "outputs": [
    {
     "data": {
      "image/png": "[encoded data removed]",
      "text/plain": [
       "<Figure size 432x288 with 1 Axes>"
      ]
     },
     "metadata": {},
     "output_type": "display_data"
    }
   ],
   "source": [
    "plt.figure(facecolor=\"white\")\n",
    "plt.scatter(df[\"x\"],df[\"y\"])\n",
    "plt.plot(df[\"x\"],model.predict(X),c=\"r\",label=\"regression\")\n",
    "plt.xlabel(\"x\",fontsize=15)\n",
    "plt.ylabel(\"y\",fontsize=15)\n",
    "plt.legend()\n",
    "plt.show()"
   ]
  },
  {
   "cell_type": "markdown",
   "metadata": {},
   "source": [
    "### 結果の出力\n",
    "sklearn.linear_model.LinearRegressionのメソッドを用いることで回帰係数と決定係数を求めることができる."
   ]
  },
  {
   "cell_type": "code",
   "execution_count": 40,
   "metadata": {},
   "outputs": [
    {
     "name": "stdout",
     "output_type": "stream",
     "text": [
      "切片 :  4.301151886243748\n",
      "傾き :  2.6508884751449866\n",
      "決定係数 :  0.7144927280962827\n"
     ]
    }
   ],
   "source": [
    "print(\"切片 : \",model.intercept_[0])\n",
    "print(\"傾き : \",model.coef_[0][0])\n",
    "print(\"決定係数 : \",model.score(X,y)) # 決定係数を計算する説明変数X,目的変数y"
   ]
  },
  {
   "cell_type": "markdown",
   "metadata": {},
   "source": [
    "回帰方程式はy=4.3+2.6xで生成元の式がy=4+3xであるから,おおよそデータの特徴を捉えていることがわかる."
   ]
  },
  {
   "cell_type": "markdown",
   "metadata": {},
   "source": [
    "## 性能評価\n",
    "線形回帰モデルの性能を評価するために,データを訓練用とテスト用に分ける.性能の評価は,残差プロット,平均二乗誤差,決定係数,自由度調整済み決定係数が用いられる."
   ]
  },
  {
   "cell_type": "code",
   "execution_count": 51,
   "metadata": {},
   "outputs": [],
   "source": [
    "# 自由度調整済み決定係数\n",
    "def adj_R_squared(n,k,R_squared):\n",
    "    \"\"\"\n",
    "    Description of adj_R_squared\n",
    "    \n",
    "    This function calculate adjusted R-squared.\n",
    "    \n",
    "    Args : \n",
    "    n(int) : number of the data length\n",
    "    k(int) : number of the parameter of model\n",
    "    R_squared : R_squared values of the model\n",
    "    \n",
    "    Returns :\n",
    "    adj_R_squared value(float)\n",
    "    \"\"\"\n",
    "    return 1-(n-1)/(n-k-1)*(1-R_squared)"
   ]
  },
  {
   "cell_type": "code",
   "execution_count": 42,
   "metadata": {},
   "outputs": [
    {
     "data": {
      "text/plain": [
       "LinearRegression()"
      ]
     },
     "execution_count": 42,
     "metadata": {},
     "output_type": "execute_result"
    }
   ],
   "source": [
    "from sklearn.model_selection import train_test_split\n",
    "X_train,X_test,y_train,y_test = train_test_split(X,y,random_state=0)\n",
    "\n",
    "model = LinearRegression() # インスタンス化\n",
    "model.fit(X_train,y_train) # フィッティング"
   ]
  },
  {
   "cell_type": "code",
   "execution_count": 55,
   "metadata": {},
   "outputs": [
    {
     "name": "stdout",
     "output_type": "stream",
     "text": [
      "切片 :  4.537584753061825\n",
      "傾き :  2.5148037342937726\n",
      "決定係数(train) :  0.5893346603058843\n",
      "自由度調整済み決定係数(train) :  0.5589150055137275\n",
      "MSE(train) :  1.1015354084224593\n",
      "決定係数(test) :  0.9020092985442774\n",
      "自由度調整済み決定係数(test) :  0.8947507280660757\n",
      "MSE(test) :  0.443053824092227\n"
     ]
    }
   ],
   "source": [
    "from sklearn.metrics import mean_squared_error # MSE(平均二乗誤差)\n",
    "print(\"切片 : \",model.intercept_[0])\n",
    "print(\"傾き : \",model.coef_[0][0])\n",
    "print(\"決定係数(train) : \",model.score(X_train,y_train))\n",
    "print(\"自由度調整済み決定係数(train) : \",adj_R_squared(X.shape[0],2,model.score(X_train,y_train)))\n",
    "print(\"MSE(train) : \",mean_squared_error(y_train,model.predict(X_train)))\n",
    "print(\"決定係数(test) : \",model.score(X_test,y_test))\n",
    "print(\"自由度調整済み決定係数(test) : \",adj_R_squared(X.shape[0],2,model.score(X_test,y_test)))\n",
    "print(\"MSE(test) : \",mean_squared_error(y_test,model.predict(X_test)))"
   ]
  },
  {
   "cell_type": "code",
   "execution_count": 71,
   "metadata": {},
   "outputs": [
    {
     "data": {
      "image/png": "[encoded data removed]",
      "text/plain": [
       "<Figure size 432x288 with 1 Axes>"
      ]
     },
     "metadata": {},
     "output_type": "display_data"
    }
   ],
   "source": [
    "y_pred = model.predict(X_test)\n",
    "resid = y_pred-y_test\n",
    "\n",
    "plt.figure(facecolor=\"white\")\n",
    "plt.scatter(y_pred,resid)\n",
    "plt.hlines(y = 0, xmin = 5, xmax = 10, color = 'black') # 要調整\n",
    "plt.xlabel(\"予測値\",fontsize=15) # predicted value\n",
    "plt.ylabel(\"残差\",fontsize=15) # residuals\n",
    "plt.grid()\n",
    "plt.show()"
   ]
  },
  {
   "cell_type": "code",
   "execution_count": 89,
   "metadata": {},
   "outputs": [
    {
     "name": "stderr",
     "output_type": "stream",
     "text": [
      "C:\\Users\\yudai\\anaconda3\\envs\\py38-gpu\\lib\\site-packages\\seaborn\\distributions.py:2551: FutureWarning: `distplot` is a deprecated function and will be removed in a future version. Please adapt your code to use either `displot` (a figure-level function with similar flexibility) or `histplot` (an axes-level function for histograms).\n",
      "  warnings.warn(msg, FutureWarning)\n"
     ]
    },
    {
     "data": {
      "image/png": "[encoded data removed]",
      "text/plain": [
       "<Figure size 432x288 with 1 Axes>"
      ]
     },
     "metadata": {
      "needs_background": "light"
     },
     "output_type": "display_data"
    },
    {
     "data": {
      "image/png": "[encoded data removed]",
      "text/plain": [
       "<Figure size 432x288 with 1 Axes>"
      ]
     },
     "metadata": {},
     "output_type": "display_data"
    }
   ],
   "source": [
    "from scipy import stats\n",
    "\n",
    "# カーネル密度\n",
    "plt.figure()\n",
    "sns.distplot(resid)\n",
    "plt.show()\n",
    "\n",
    "# 正規QQプロット\n",
    "plt.figure(facecolor='white')\n",
    "stats.probplot(resid.reshape(1,-1)[0],dist=stats.norm,plot=plt)\n",
    "plt.xlabel(\"Theoretical quantiles\",fontsize = 15)\n",
    "plt.ylabel(\"Ordered Values\",fontsize = 15)\n",
    "plt.title(\"Probability Plot\",fontsize = 17)\n",
    "plt.show()"
   ]
  },
  {
   "cell_type": "markdown",
   "metadata": {},
   "source": [
    "回帰方程式はy=4.5+2.5xである.データを訓練用とテスト用に分けたことで,データ数が減少し,分割前の回帰方程式よりも値が離れてしまった.しかし,自由度調整済み決定係数からモデルはテストデータを89%説明できていることがわかる.また,MSEがtrainよりもtestのほうが小さいため,過学習を起こしていないことが考えられる.\n",
    "残差は0を中心に分布しているが,線形モデルでとらえきれないパターンがあるように見える."
   ]
  },
  {
   "cell_type": "code",
   "execution_count": null,
   "metadata": {},
   "outputs": [],
   "source": []
  }
 ],
 "metadata": {
  "kernelspec": {
   "display_name": "Python 3",
   "language": "python",
   "name": "python3"
  },
  "language_info": {
   "codemirror_mode": {
    "name": "ipython",
    "version": 3
   },
   "file_extension": ".py",
   "mimetype": "text/x-python",
   "name": "python",
   "nbconvert_exporter": "python",
   "pygments_lexer": "ipython3",
   "version": "3.8.5"
  },
  "toc": {
   "base_numbering": 1,
   "nav_menu": {},
   "number_sections": true,
   "sideBar": true,
   "skip_h1_title": false,
   "title_cell": "Table of Contents",
   "title_sidebar": "Contents",
   "toc_cell": false,
   "toc_position": {},
   "toc_section_display": true,
   "toc_window_display": true
  }
 },
 "nbformat": 4,
 "nbformat_minor": 4
}
