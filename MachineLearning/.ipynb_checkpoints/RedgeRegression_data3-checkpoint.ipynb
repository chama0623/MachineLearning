{
 "cells": [
  {
   "cell_type": "code",
   "execution_count": 1,
   "metadata": {},
   "outputs": [],
   "source": [
    "import numpy as np\n",
    "import pandas as pd\n",
    "import matplotlib.pyplot as plt"
   ]
  },
  {
   "cell_type": "markdown",
   "metadata": {},
   "source": [
    "## Redge回帰\n",
    "過学習を緩和する一つの方法として,モデルの正則化があげられる.リッジ回帰は線形回帰の正則化で,コスト関数に正則化項を加えること.正則化項を加えることで,学習アルゴリズムはモデルに適合することに加えてモデルの重さをできるだけ小さくしなければいけなくなる.ハイパーパラメータ$\\alpha$とすると,リッジ回帰におけるコスト関数$J(\\theta)$は次のように表される.\n",
    "$$J(\\theta) = MSE(\\theta)+\\frac{\\alpha}{2}\\sum_{i=1}^{n}\\theta_i^2$$\n",
    "ハイパーパラメータ$\\alpha$はモデルをどの程度正則化するかを決定する.ハイパーパラメータ$\\alpha$が0のとき,リッジ回帰は線形回帰になる.$\\alpha$が非常に大きいときすべての重みが限りなく0に近づき,データは平均値を通る水平線になる."
   ]
  },
  {
   "cell_type": "code",
   "execution_count": 10,
   "metadata": {},
   "outputs": [
    {
     "data": {
      "text/html": [
       "<div>\n",
       "<style scoped>\n",
       "    .dataframe tbody tr th:only-of-type {\n",
       "        vertical-align: middle;\n",
       "    }\n",
       "\n",
       "    .dataframe tbody tr th {\n",
       "        vertical-align: top;\n",
       "    }\n",
       "\n",
       "    .dataframe thead th {\n",
       "        text-align: right;\n",
       "    }\n",
       "</style>\n",
       "<table border=\"1\" class=\"dataframe\">\n",
       "  <thead>\n",
       "    <tr style=\"text-align: right;\">\n",
       "      <th></th>\n",
       "      <th>x</th>\n",
       "      <th>y</th>\n",
       "    </tr>\n",
       "  </thead>\n",
       "  <tbody>\n",
       "    <tr>\n",
       "      <th>0</th>\n",
       "      <td>4.337520</td>\n",
       "      <td>7.763191</td>\n",
       "    </tr>\n",
       "    <tr>\n",
       "      <th>1</th>\n",
       "      <td>0.201284</td>\n",
       "      <td>7.851685</td>\n",
       "    </tr>\n",
       "    <tr>\n",
       "      <th>2</th>\n",
       "      <td>-0.504076</td>\n",
       "      <td>7.773407</td>\n",
       "    </tr>\n",
       "    <tr>\n",
       "      <th>3</th>\n",
       "      <td>0.812612</td>\n",
       "      <td>9.694481</td>\n",
       "    </tr>\n",
       "    <tr>\n",
       "      <th>4</th>\n",
       "      <td>4.670285</td>\n",
       "      <td>7.922672</td>\n",
       "    </tr>\n",
       "  </tbody>\n",
       "</table>\n",
       "</div>"
      ],
      "text/plain": [
       "          x         y\n",
       "0  4.337520  7.763191\n",
       "1  0.201284  7.851685\n",
       "2 -0.504076  7.773407\n",
       "3  0.812612  9.694481\n",
       "4  4.670285  7.922672"
      ]
     },
     "execution_count": 10,
     "metadata": {},
     "output_type": "execute_result"
    }
   ],
   "source": [
    "df = pd.read_csv(\"data3.csv\")\n",
    "df.head()"
   ]
  },
  {
   "cell_type": "code",
   "execution_count": 11,
   "metadata": {},
   "outputs": [
    {
     "data": {
      "text/plain": [
       "<matplotlib.legend.Legend at 0x214d0b94a00>"
      ]
     },
     "execution_count": 11,
     "metadata": {},
     "output_type": "execute_result"
    },
    {
     "data": {
      "image/png": "[encoded data removed]",
      "text/plain": [
       "<Figure size 432x288 with 1 Axes>"
      ]
     },
     "metadata": {},
     "output_type": "display_data"
    }
   ],
   "source": [
    "plt.figure(facecolor='white')\n",
    "plt.scatter(df[\"x\"],df[\"y\"],label='point')\n",
    "plt.legend()"
   ]
  },
  {
   "cell_type": "markdown",
   "metadata": {},
   "source": [
    "## scikit-learnによるRedge回帰"
   ]
  },
  {
   "cell_type": "code",
   "execution_count": 12,
   "metadata": {},
   "outputs": [],
   "source": [
    "degree = 4\n",
    "from sklearn.preprocessing import PolynomialFeatures \n",
    "\n",
    "X = df[\"x\"].to_numpy().reshape(-1,1)\n",
    "y = df[\"y\"].to_numpy().reshape(-1,1)\n",
    "\n",
    "poly_features = PolynomialFeatures(degree=degree,include_bias=False)\n",
    "X_poly = poly_features.fit_transform(X)"
   ]
  },
  {
   "cell_type": "code",
   "execution_count": 13,
   "metadata": {},
   "outputs": [
    {
     "data": {
      "text/plain": [
       "Ridge(alpha=1, solver='cholesky')"
      ]
     },
     "execution_count": 13,
     "metadata": {},
     "output_type": "execute_result"
    }
   ],
   "source": [
    "from sklearn.linear_model import Ridge\n",
    "model = Ridge(alpha=1,solver=\"cholesky\") # コレスキーの行列分解テクニック\n",
    "model.fit(X_poly,y)"
   ]
  },
  {
   "cell_type": "code",
   "execution_count": 14,
   "metadata": {},
   "outputs": [
    {
     "name": "stdout",
     "output_type": "stream",
     "text": [
      "切片 :  8.57547440359043\n",
      "傾き :  [[ 0.8949188  -0.16031769 -0.07298733  0.01201288]]\n",
      "決定係数 :  0.8077718940368315\n"
     ]
    }
   ],
   "source": [
    "print(\"切片 : \",model.intercept_[0])\n",
    "print(\"傾き : \",model.coef_)\n",
    "print(\"決定係数 : \",model.score(X_poly,y)) # 決定係数を計算する説明変数X,目的変数y"
   ]
  },
  {
   "cell_type": "code",
   "execution_count": 17,
   "metadata": {},
   "outputs": [
    {
     "data": {
      "image/png": "[encoded data removed]",
      "text/plain": [
       "<Figure size 432x288 with 1 Axes>"
      ]
     },
     "metadata": {},
     "output_type": "display_data"
    }
   ],
   "source": [
    "Xpred = np.arange(-2,7,0.1).reshape(-1,1) # プロット用の行列を生成\n",
    "Xpred_poly = poly_features.fit_transform(Xpred) # フォーマット変換\n",
    "ypred = model.predict(Xpred_poly) # 予測\n",
    "\n",
    "plt.figure(facecolor=\"white\")\n",
    "plt.scatter(df[\"x\"],df[\"y\"])\n",
    "plt.plot(Xpred,ypred,c=\"r\",label=\"regression\")\n",
    "plt.xlabel(\"x\",fontsize=15)\n",
    "plt.ylabel(\"y\",fontsize=15)\n",
    "plt.legend()\n",
    "plt.show()"
   ]
  },
  {
   "cell_type": "markdown",
   "metadata": {},
   "source": [
    "## ハイパーパラメータの効果"
   ]
  },
  {
   "cell_type": "code",
   "execution_count": 24,
   "metadata": {},
   "outputs": [
    {
     "name": "stdout",
     "output_type": "stream",
     "text": [
      "alpha :  0\n",
      "切片 :  8.56597887870128\n",
      "傾き :  [[ 0.93901737 -0.17501155 -0.07231767  0.01211205]]\n",
      "決定係数 :  0.8088602907393474\n",
      "\n",
      "alpha :  10\n",
      "切片 :  8.651852001923386\n",
      "傾き :  [[ 0.63017781 -0.08817674 -0.0714023   0.01091736]]\n",
      "決定係数 :  0.7561351283881295\n",
      "\n",
      "alpha :  100\n",
      "切片 :  8.857557100648252\n",
      "傾き :  [[ 0.15850154 -0.01998674 -0.04714361  0.00702413]]\n",
      "決定係数 :  0.4752646292470435\n",
      "\n"
     ]
    },
    {
     "data": {
      "image/png": "[encoded data removed]",
      "text/plain": [
       "<Figure size 432x288 with 1 Axes>"
      ]
     },
     "metadata": {},
     "output_type": "display_data"
    }
   ],
   "source": [
    "degree = 4\n",
    "alphalist = [0,10,100]\n",
    "Xpred = np.arange(-2,7,0.1).reshape(-1,1) # プロット用の行列を生成\n",
    "\n",
    "poly_features = PolynomialFeatures(degree=degree,include_bias=False)\n",
    "X_poly = poly_features.fit_transform(X)\n",
    "\n",
    "plt.figure(facecolor=\"white\")\n",
    "for alpha in alphalist:\n",
    "    model = Ridge(alpha=alpha,solver=\"cholesky\") # コレスキーの行列分解テクニック\n",
    "    model.fit(X_poly,y)\n",
    "    print(\"alpha : \",alpha)\n",
    "    print(\"切片 : \",model.intercept_[0])\n",
    "    print(\"傾き : \",model.coef_)\n",
    "    print(\"決定係数 : \",model.score(X_poly,y)) # 決定係数を計算する説明変数X,目的変数y\n",
    "    print(\"\") # 見た目\n",
    "    Xpred_poly = poly_features.fit_transform(Xpred) # フォーマット変換\n",
    "    ypred = model.predict(Xpred_poly) # 予測\n",
    "    plt.plot(Xpred,ypred,label=\"alpha = \"+str(alpha))\n",
    "\n",
    "plt.scatter(df[\"x\"],df[\"y\"])\n",
    "plt.xlabel(\"x\",fontsize=15)\n",
    "plt.ylabel(\"y\",fontsize=15)\n",
    "plt.legend()\n",
    "plt.show()"
   ]
  },
  {
   "cell_type": "code",
   "execution_count": null,
   "metadata": {},
   "outputs": [],
   "source": []
  }
 ],
 "metadata": {
  "kernelspec": {
   "display_name": "Python 3",
   "language": "python",
   "name": "python3"
  },
  "language_info": {
   "codemirror_mode": {
    "name": "ipython",
    "version": 3
   },
   "file_extension": ".py",
   "mimetype": "text/x-python",
   "name": "python",
   "nbconvert_exporter": "python",
   "pygments_lexer": "ipython3",
   "version": "3.8.5"
  },
  "toc": {
   "base_numbering": 1,
   "nav_menu": {},
   "number_sections": true,
   "sideBar": true,
   "skip_h1_title": false,
   "title_cell": "Table of Contents",
   "title_sidebar": "Contents",
   "toc_cell": false,
   "toc_position": {},
   "toc_section_display": true,
   "toc_window_display": true
  }
 },
 "nbformat": 4,
 "nbformat_minor": 4
}
