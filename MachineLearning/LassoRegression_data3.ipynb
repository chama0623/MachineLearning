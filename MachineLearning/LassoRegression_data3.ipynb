{
 "cells": [
  {
   "cell_type": "code",
   "execution_count": 1,
   "metadata": {},
   "outputs": [],
   "source": [
    "import numpy as np\n",
    "import pandas as pd\n",
    "import matplotlib.pyplot as plt"
   ]
  },
  {
   "cell_type": "markdown",
   "metadata": {},
   "source": [
    "## Lasso回帰\n",
    "Redge回帰と同様に線形回帰の正則化を行う手法.Lasso回帰ではコスト関数に正則化項として重みベクトルのl1ノルムを使う.\n",
    "\n",
    "$$J(\\theta) = MSE(\\theta)+\\alpha \\sum_{i=1}^{n}|\\theta_i|$$\n",
    "Lasso回帰はパラメータ$\\alpha$を大きくすると,重要性の低い特徴量の重みを完全に取り除いてしまう性質がある."
   ]
  },
  {
   "cell_type": "code",
   "execution_count": 2,
   "metadata": {},
   "outputs": [
    {
     "data": {
      "text/html": [
       "<div>\n",
       "<style scoped>\n",
       "    .dataframe tbody tr th:only-of-type {\n",
       "        vertical-align: middle;\n",
       "    }\n",
       "\n",
       "    .dataframe tbody tr th {\n",
       "        vertical-align: top;\n",
       "    }\n",
       "\n",
       "    .dataframe thead th {\n",
       "        text-align: right;\n",
       "    }\n",
       "</style>\n",
       "<table border=\"1\" class=\"dataframe\">\n",
       "  <thead>\n",
       "    <tr style=\"text-align: right;\">\n",
       "      <th></th>\n",
       "      <th>x</th>\n",
       "      <th>y</th>\n",
       "    </tr>\n",
       "  </thead>\n",
       "  <tbody>\n",
       "    <tr>\n",
       "      <th>0</th>\n",
       "      <td>4.337520</td>\n",
       "      <td>7.763191</td>\n",
       "    </tr>\n",
       "    <tr>\n",
       "      <th>1</th>\n",
       "      <td>0.201284</td>\n",
       "      <td>7.851685</td>\n",
       "    </tr>\n",
       "    <tr>\n",
       "      <th>2</th>\n",
       "      <td>-0.504076</td>\n",
       "      <td>7.773407</td>\n",
       "    </tr>\n",
       "    <tr>\n",
       "      <th>3</th>\n",
       "      <td>0.812612</td>\n",
       "      <td>9.694481</td>\n",
       "    </tr>\n",
       "    <tr>\n",
       "      <th>4</th>\n",
       "      <td>4.670285</td>\n",
       "      <td>7.922672</td>\n",
       "    </tr>\n",
       "  </tbody>\n",
       "</table>\n",
       "</div>"
      ],
      "text/plain": [
       "          x         y\n",
       "0  4.337520  7.763191\n",
       "1  0.201284  7.851685\n",
       "2 -0.504076  7.773407\n",
       "3  0.812612  9.694481\n",
       "4  4.670285  7.922672"
      ]
     },
     "execution_count": 2,
     "metadata": {},
     "output_type": "execute_result"
    }
   ],
   "source": [
    "df = pd.read_csv(\"data3.csv\")\n",
    "df.head()"
   ]
  },
  {
   "cell_type": "code",
   "execution_count": 3,
   "metadata": {},
   "outputs": [
    {
     "data": {
      "text/plain": [
       "<matplotlib.legend.Legend at 0x1cf4b255070>"
      ]
     },
     "execution_count": 3,
     "metadata": {},
     "output_type": "execute_result"
    },
    {
     "data": {
      "image/png": "[encoded data removed]",
      "text/plain": [
       "<Figure size 432x288 with 1 Axes>"
      ]
     },
     "metadata": {},
     "output_type": "display_data"
    }
   ],
   "source": [
    "plt.figure(facecolor='white')\n",
    "plt.scatter(df[\"x\"],df[\"y\"],label='point')\n",
    "plt.legend()"
   ]
  },
  {
   "cell_type": "markdown",
   "metadata": {},
   "source": [
    "## scikit-learnによるLasso回帰"
   ]
  },
  {
   "cell_type": "code",
   "execution_count": 4,
   "metadata": {},
   "outputs": [],
   "source": [
    "degree = 4\n",
    "from sklearn.preprocessing import PolynomialFeatures \n",
    "\n",
    "X = df[\"x\"].to_numpy().reshape(-1,1)\n",
    "y = df[\"y\"].to_numpy().reshape(-1,1)\n",
    "\n",
    "poly_features = PolynomialFeatures(degree=degree,include_bias=False)\n",
    "X_poly = poly_features.fit_transform(X)"
   ]
  },
  {
   "cell_type": "code",
   "execution_count": 5,
   "metadata": {},
   "outputs": [
    {
     "name": "stderr",
     "output_type": "stream",
     "text": [
      "C:\\Users\\yudai\\anaconda3\\envs\\py38-gpu\\lib\\site-packages\\sklearn\\linear_model\\_coordinate_descent.py:529: ConvergenceWarning: Objective did not converge. You might want to increase the number of iterations. Duality gap: 4.3969895638884395, tolerance: 0.0038379976513810833\n",
      "  model = cd_fast.enet_coordinate_descent(\n"
     ]
    },
    {
     "data": {
      "text/plain": [
       "Lasso(alpha=0.1)"
      ]
     },
     "execution_count": 5,
     "metadata": {},
     "output_type": "execute_result"
    }
   ],
   "source": [
    "from sklearn.linear_model import Lasso\n",
    "model = Lasso(alpha=0.1)\n",
    "model.fit(X_poly,y)"
   ]
  },
  {
   "cell_type": "code",
   "execution_count": 6,
   "metadata": {},
   "outputs": [
    {
     "name": "stdout",
     "output_type": "stream",
     "text": [
      "切片 :  8.720786758836816\n",
      "傾き :  [ 0.64208423 -0.16620376 -0.04314636  0.00827344]\n",
      "決定係数 :  0.7587326730918746\n"
     ]
    }
   ],
   "source": [
    "print(\"切片 : \",model.intercept_[0])\n",
    "print(\"傾き : \",model.coef_)\n",
    "print(\"決定係数 : \",model.score(X_poly,y)) # 決定係数を計算する説明変数X,目的変数y"
   ]
  },
  {
   "cell_type": "code",
   "execution_count": 7,
   "metadata": {},
   "outputs": [
    {
     "data": {
      "image/png": "[encoded data removed]",
      "text/plain": [
       "<Figure size 432x288 with 1 Axes>"
      ]
     },
     "metadata": {},
     "output_type": "display_data"
    }
   ],
   "source": [
    "Xpred = np.arange(-2,7,0.1).reshape(-1,1) # プロット用の行列を生成\n",
    "Xpred_poly = poly_features.fit_transform(Xpred) # フォーマット変換\n",
    "ypred = model.predict(Xpred_poly) # 予測\n",
    "\n",
    "plt.figure(facecolor=\"white\")\n",
    "plt.scatter(df[\"x\"],df[\"y\"])\n",
    "plt.plot(Xpred,ypred,c=\"r\",label=\"regression\")\n",
    "plt.xlabel(\"x\",fontsize=15)\n",
    "plt.ylabel(\"y\",fontsize=15)\n",
    "plt.legend()\n",
    "plt.show()"
   ]
  },
  {
   "cell_type": "markdown",
   "metadata": {},
   "source": [
    "## ハイパーパラメータの効果"
   ]
  },
  {
   "cell_type": "code",
   "execution_count": 11,
   "metadata": {},
   "outputs": [
    {
     "name": "stdout",
     "output_type": "stream",
     "text": [
      "alpha :  0.001\n",
      "切片 :  8.74979108485643\n",
      "傾き :  [ 0.93150135 -0.3288952  -0.01709938  0.00709959]\n",
      "決定係数 :  0.7964508433943909\n",
      "\n",
      "alpha :  0.01\n",
      "切片 :  8.7450301224439\n",
      "傾き :  [ 0.90524371 -0.31231061 -0.02010743  0.00726427]\n",
      "決定係数 :  0.797624675394495\n",
      "\n",
      "alpha :  0.1\n",
      "切片 :  8.720786758836816\n",
      "傾き :  [ 0.64208423 -0.16620376 -0.04314636  0.00827344]\n",
      "決定係数 :  0.7587326730918746\n",
      "\n",
      "alpha :  1\n",
      "切片 :  8.855642851212858\n",
      "傾き :  [ 0.         -0.         -0.02844317  0.00407046]\n",
      "決定係数 :  0.31005181264220827\n",
      "\n"
     ]
    },
    {
     "data": {
      "image/png": "[encoded data removed]",
      "text/plain": [
       "<Figure size 432x288 with 1 Axes>"
      ]
     },
     "metadata": {},
     "output_type": "display_data"
    }
   ],
   "source": [
    "degree = 4\n",
    "alphalist = [0.001,0.01,0.1,1]\n",
    "Xpred = np.arange(-2,7,0.1).reshape(-1,1) # プロット用の行列を生成\n",
    "\n",
    "poly_features = PolynomialFeatures(degree=degree,include_bias=False)\n",
    "X_poly = poly_features.fit_transform(X)\n",
    "\n",
    "plt.figure(facecolor=\"white\")\n",
    "for alpha in alphalist:\n",
    "    model = Lasso(alpha=alpha) # コレスキーの行列分解テクニック\n",
    "    model.fit(X_poly,y)\n",
    "    print(\"alpha : \",alpha)\n",
    "    print(\"切片 : \",model.intercept_[0])\n",
    "    print(\"傾き : \",model.coef_)\n",
    "    print(\"決定係数 : \",model.score(X_poly,y)) # 決定係数を計算する説明変数X,目的変数y\n",
    "    print(\"\") # 見た目\n",
    "    Xpred_poly = poly_features.fit_transform(Xpred) # フォーマット変換\n",
    "    ypred = model.predict(Xpred_poly) # 予測\n",
    "    plt.plot(Xpred,ypred,label=\"alpha = \"+str(alpha))\n",
    "\n",
    "plt.scatter(df[\"x\"],df[\"y\"])\n",
    "plt.xlabel(\"x\",fontsize=15)\n",
    "plt.ylabel(\"y\",fontsize=15)\n",
    "plt.legend(fontsize=12)\n",
    "plt.title(\"Lasso Regression m=\"+str(degree))\n",
    "plt.show()"
   ]
  },
  {
   "cell_type": "code",
   "execution_count": 9,
   "metadata": {},
   "outputs": [],
   "source": [
    "import warnings\n",
    "warnings.simplefilter('ignore')"
   ]
  },
  {
   "cell_type": "code",
   "execution_count": null,
   "metadata": {},
   "outputs": [],
   "source": []
  }
 ],
 "metadata": {
  "kernelspec": {
   "display_name": "Python 3",
   "language": "python",
   "name": "python3"
  },
  "language_info": {
   "codemirror_mode": {
    "name": "ipython",
    "version": 3
   },
   "file_extension": ".py",
   "mimetype": "text/x-python",
   "name": "python",
   "nbconvert_exporter": "python",
   "pygments_lexer": "ipython3",
   "version": "3.8.5"
  },
  "toc": {
   "base_numbering": 1,
   "nav_menu": {},
   "number_sections": true,
   "sideBar": true,
   "skip_h1_title": false,
   "title_cell": "Table of Contents",
   "title_sidebar": "Contents",
   "toc_cell": false,
   "toc_position": {},
   "toc_section_display": true,
   "toc_window_display": false
  }
 },
 "nbformat": 4,
 "nbformat_minor": 4
}
