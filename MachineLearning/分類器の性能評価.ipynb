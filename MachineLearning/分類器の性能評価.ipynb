{
 "cells": [
  {
   "cell_type": "code",
   "execution_count": 1,
   "metadata": {},
   "outputs": [],
   "source": [
    "import numpy as np\n",
    "import pandas as pd\n",
    "import matplotlib.pyplot as plt\n",
    "import seaborn as sns"
   ]
  },
  {
   "cell_type": "code",
   "execution_count": 2,
   "metadata": {},
   "outputs": [
    {
     "name": "stdout",
     "output_type": "stream",
     "text": [
      "(70000, 784)\n",
      "(70000,)\n"
     ]
    }
   ],
   "source": [
    "# MNISTデータ読み込み\n",
    "from sklearn.datasets import fetch_openml\n",
    "mnist = fetch_openml('mnist_784', version=1,)\n",
    "X,y = mnist[\"data\"],mnist[\"target\"]\n",
    "print(X.shape)\n",
    "print(y.shape)"
   ]
  },
  {
   "cell_type": "code",
   "execution_count": 29,
   "metadata": {},
   "outputs": [],
   "source": [
    "X_train,X_test,y_train,y_test = X[:60000],X[60000:],y[:60000],y[60000:]\n",
    "shuffle_index = np.random.permutation(60000)\n",
    "X_train,y_train = X_train[shuffle_index],y_train[shuffle_index]\n",
    "y_train_5 = (y_train == \"5\")\n",
    "y_test_5 = (y_test == \"5\")"
   ]
  },
  {
   "cell_type": "code",
   "execution_count": 30,
   "metadata": {},
   "outputs": [
    {
     "data": {
      "text/plain": [
       "RandomForestClassifier(n_jobs=-1, random_state=42)"
      ]
     },
     "execution_count": 30,
     "metadata": {},
     "output_type": "execute_result"
    }
   ],
   "source": [
    "# 手書きデータが5かそれ以外かを判別する二項分類器\n",
    "# 確率的勾配降下法(SGD)\n",
    "from sklearn.linear_model import SGDClassifier\n",
    "sgd_clf = SGDClassifier(max_iter=5,tol=-np.infty,random_state=42,n_jobs=-1)\n",
    "sgd_clf.fit(X_train,y_train_5)\n",
    "\n",
    "# ランダムフォレスト\n",
    "from sklearn.ensemble import RandomForestClassifier\n",
    "rfc_clf = RandomForestClassifier(random_state=42,n_jobs=-1)\n",
    "rfc_clf.fit(X_train,y_train_5)"
   ]
  },
  {
   "cell_type": "markdown",
   "metadata": {},
   "source": [
    "## 分類器の性能評価\n",
    "分類器の性能評価指標として,正解率, 混同行列, 適合率, 再現率, F値, ROC曲線とAUCがある. このノートでは各評価指標について実行する."
   ]
  },
  {
   "attachments": {},
   "cell_type": "markdown",
   "metadata": {},
   "source": [
    "### 正解率\n",
    "正解率は正しく予測されているインスタンスの割合である.インスタンスの割合. 直感的にはわかりやすい指標であるが一部のクラスが他のクラスよりも出現頻度の高いデータでは役に立たない.\n",
    "\n",
    "下のセルの実行結果から, SGDよりもランダムフォレストのほうが少し性能が良いと考えられる. しかしすべての予測に\"5ではない\"と返す分類器の正解率が90%程度であるから, 正解率は分類器の性能指標として用いるべきではないことがわかる."
   ]
  },
  {
   "cell_type": "code",
   "execution_count": 31,
   "metadata": {},
   "outputs": [
    {
     "name": "stdout",
     "output_type": "stream",
     "text": [
      "正解率(SGD) [0.96475 0.97    0.96575]\n",
      "正解率(RFC) [0.9873  0.98875 0.9867 ]\n"
     ]
    }
   ],
   "source": [
    "from sklearn.model_selection import cross_val_score\n",
    "scores_sgd = cross_val_score(sgd_clf,X_train,y_train_5, cv=3,scoring=\"accuracy\",n_jobs=-1)\n",
    "scores_rfc = cross_val_score(rfc_clf,X_train,y_train_5, cv=3,scoring=\"accuracy\",n_jobs=-1)\n",
    "print(\"正解率(SGD)\",scores_sgd)\n",
    "print(\"正解率(RFC)\",scores_rfc)"
   ]
  },
  {
   "cell_type": "code",
   "execution_count": 32,
   "metadata": {},
   "outputs": [
    {
     "data": {
      "text/plain": [
       "array([0.90605, 0.91205, 0.91085])"
      ]
     },
     "execution_count": 32,
     "metadata": {},
     "output_type": "execute_result"
    }
   ],
   "source": [
    "# すべての予測に対して\"5ではない\"を返す分類器\n",
    "from sklearn.base import BaseEstimator\n",
    "class Never5Classifier(BaseEstimator):\n",
    "    def fit(self, X, y=None):\n",
    "        pass\n",
    "    def predict(self, X):\n",
    "        return np.zeros((len(X), 1), dtype=bool)\n",
    "    \n",
    "never_5_clf = Never5Classifier()\n",
    "cross_val_score(never_5_clf, X_train, y_train_5, cv=3, scoring=\"accuracy\")"
   ]
  },
  {
   "attachments": {},
   "cell_type": "markdown",
   "metadata": {},
   "source": [
    "### 混同行列\n",
    "混同行列はあるクラスAのインスタンスがクラスBに分類された回数をカウントしたものを行列で表したものである.\n",
    "\n",
    "Documents : https://scikit-learn.org/stable/modules/generated/sklearn.metrics.confusion_matrix.html?highlight=confusion_matrix"
   ]
  },
  {
   "cell_type": "code",
   "execution_count": 43,
   "metadata": {},
   "outputs": [],
   "source": [
    "def disp_confusion_matrix(matrix):\n",
    "    \"\"\"\n",
    "    Description : 混同行列を分かりやすく表示する関数\n",
    "    Args:\n",
    "    matrix(np.array(2,2)) : 混同行列\n",
    "    \n",
    "    Returns:\n",
    "    None\n",
    "    \"\"\"\n",
    "    tn, fp, fn, tp = matrix.ravel()\n",
    "    print(\"真陽性 : \",tp)\n",
    "    print(\"偽陽性 : \",fp)\n",
    "    print(\"真陰性 : \",tn)\n",
    "    print(\"偽陰性 : \",fn)   "
   ]
  },
  {
   "cell_type": "code",
   "execution_count": 45,
   "metadata": {},
   "outputs": [
    {
     "name": "stdout",
     "output_type": "stream",
     "text": [
      "混同行列(SGD)\n",
      " [[53884   695]\n",
      " [ 1295  4126]]\n",
      "真陽性 :  4126\n",
      "偽陽性 :  695\n",
      "真陰性 :  53884\n",
      "偽陰性 :  1295\n",
      "混同行列(RFC)\n",
      " [[54532    47]\n",
      " [  698  4723]]\n",
      "真陽性 :  4723\n",
      "偽陽性 :  47\n",
      "真陰性 :  54532\n",
      "偽陰性 :  698\n"
     ]
    }
   ],
   "source": [
    "from sklearn.model_selection import cross_val_predict\n",
    "\n",
    "y_train_pred_sgd = cross_val_predict(sgd_clf,X_train,y_train_5,cv=3)\n",
    "y_train_pred_rfc = cross_val_predict(rfc_clf,X_train,y_train_5,cv=3)\n",
    "\n",
    "from sklearn.metrics import confusion_matrix\n",
    "confusion_matrix_sgd = confusion_matrix(y_train_5,y_train_pred_sgd)\n",
    "confusion_matrix_rfc = confusion_matrix(y_train_5,y_train_pred_rfc)\n",
    "\n",
    "print(\"混同行列(SGD)\\n\",confusion_matrix_sgd)\n",
    "disp_confusion_matrix(confusion_matrix_sgd)\n",
    "print(\"混同行列(RFC)\\n\",confusion_matrix_rfc)\n",
    "disp_confusion_matrix(confusion_matrix_rfc)"
   ]
  },
  {
   "attachments": {},
   "cell_type": "markdown",
   "metadata": {},
   "source": [
    "### 適合率,再現率\n",
    "適合率は陽性の予測の正解率のことであり,次のように定義される.\n",
    "$$precision = \\frac{TP}{TP+FP}$$\n",
    "\n",
    "再現率は分類器が正しく分類した陽性インスタンスの割合で,次のように定義される.\n",
    "$$recall = \\frac{TP}{TP+FN}$$\n",
    "\n",
    "分類器の評価には適合率と再現率の2つを用いて行われる. SGDではprecision=0.77, recall=0.80である. これは分類器が\"5\"であるといったときの予測が正しいのは77%であり, すべての\"5\"の80%しか検出できていないことを示している. 一方でランダムフォレストはprecision=0.99, recall=0.87であるからSGDよりもランダムフォレストのほうが性能が良いといえる."
   ]
  },
  {
   "cell_type": "code",
   "execution_count": 37,
   "metadata": {},
   "outputs": [
    {
     "name": "stdout",
     "output_type": "stream",
     "text": [
      "SGD\n",
      "適合率 :  0.855839037544078\n",
      "再現率 :  0.7611141855746172\n",
      "RFC\n",
      "適合率 :  0.990146750524109\n",
      "再現率 :  0.8712414683637705\n"
     ]
    }
   ],
   "source": [
    "from sklearn.metrics import precision_score,recall_score\n",
    "\n",
    "print(\"SGD\")\n",
    "print(\"適合率 : \",precision_score(y_train_5,y_train_pred_sgd))\n",
    "print(\"再現率 : \",recall_score(y_train_5,y_train_pred_sgd))\n",
    "print(\"RFC\")\n",
    "print(\"適合率 : \",precision_score(y_train_5,y_train_pred_rfc))\n",
    "print(\"再現率 : \",recall_score(y_train_5,y_train_pred_rfc))"
   ]
  },
  {
   "attachments": {},
   "cell_type": "markdown",
   "metadata": {},
   "source": [
    "### F値\n",
    "F値は適合率と再現率の調和平均をとったもので,次のように定義される. 調和平均は小さい値に大きな重みを置くため, 適合率と再現率の両方が高くなればF値が大きな値にならない.\n",
    "$$F = \\frac{2}{\\frac{1}{precision}+\\frac{1}{recall}}$$\n",
    "\n",
    "下のセルの実行結果からSGDよりもランダムフォレストのほうがF値が大きいから,ランダムフォレストのほうが性能が良いといえる."
   ]
  },
  {
   "cell_type": "code",
   "execution_count": 38,
   "metadata": {},
   "outputs": [
    {
     "name": "stdout",
     "output_type": "stream",
     "text": [
      "SGD\n",
      "F値 :  0.8057020113259129\n",
      "RFC\n",
      "F値 :  0.9268962810322833\n"
     ]
    }
   ],
   "source": [
    "from sklearn.metrics import f1_score\n",
    "\n",
    "print(\"SGD\")\n",
    "print(\"F値 : \",f1_score(y_train_5,y_train_pred_sgd))\n",
    "print(\"RFC\")\n",
    "print(\"F値 : \",f1_score(y_train_5,y_train_pred_rfc))"
   ]
  },
  {
   "attachments": {},
   "cell_type": "markdown",
   "metadata": {},
   "source": [
    "### ROC曲線とAUC\n",
    "ROC曲線は縦軸に真陽性率, 横軸に偽陽性率をプロットしたグラフである. ROC曲線からAUCと呼ばれる値を計算することができる. AUCはROC曲線下の面積で定義される. AUC=1のとき完全な分類器であり, AUC=0.5のとき無作為分類器となる."
   ]
  },
  {
   "cell_type": "code",
   "execution_count": 46,
   "metadata": {},
   "outputs": [],
   "source": [
    "def plot_roc_curve(fpr, tpr, label=None):\n",
    "    plt.plot(fpr, tpr, linewidth=2, label=label)\n",
    "    plt.plot([0, 1], [0, 1], 'k--')\n",
    "    plt.axis([0, 1, 0, 1])\n",
    "    plt.xlabel('False Positive Rate', fontsize=16)\n",
    "    plt.ylabel('True Positive Rate', fontsize=16)"
   ]
  },
  {
   "cell_type": "code",
   "execution_count": 54,
   "metadata": {},
   "outputs": [
    {
     "data": {
      "image/png": "[encoded data removed]",
      "text/plain": [
       "<Figure size 432x288 with 1 Axes>"
      ]
     },
     "metadata": {},
     "output_type": "display_data"
    }
   ],
   "source": [
    "from sklearn.metrics import roc_curve\n",
    "\n",
    "# SGD\n",
    "# method : decision_functionを指定することで確率を返す.\n",
    "scores_sgd = cross_val_predict(sgd_clf,X_train,y_train_5,cv=3,method=\"decision_function\")\n",
    "fpr_sgd,tpr_sgd,thresholds_sgd = roc_curve(y_train_5,scores_sgd)\n",
    "# RFC\n",
    "scores_rfc =  cross_val_predict(rfc_clf,X_train,y_train_5,cv=3,method=\"predict_proba\")\n",
    "fpr_rfc,tpr_rfc,thresholds_rfc = roc_curve(y_train_5,scores_rfc[:,1])\n",
    "\n",
    "plt.figure(facecolor=\"white\")\n",
    "plt.plot(fpr_sgd, tpr_sgd, linewidth=2, label=\"SGD\")\n",
    "plot_roc_curve(fpr_rfc,tpr_rfc,label=\"RFC\")\n",
    "plt.legend()\n",
    "plt.show()"
   ]
  },
  {
   "cell_type": "code",
   "execution_count": 56,
   "metadata": {},
   "outputs": [
    {
     "name": "stdout",
     "output_type": "stream",
     "text": [
      "AUC(SGD) :  0.9688235847356262\n",
      "AUC(RFC) :  0.9984385585156219\n"
     ]
    }
   ],
   "source": [
    "# AUC\n",
    "from sklearn.metrics import roc_auc_score\n",
    "print(\"AUC(SGD) : \",roc_auc_score(y_train_5,scores_sgd))\n",
    "print(\"AUC(RFC) : \",roc_auc_score(y_train_5,scores_rfc[:,1]))"
   ]
  },
  {
   "cell_type": "code",
   "execution_count": null,
   "metadata": {},
   "outputs": [],
   "source": []
  }
 ],
 "metadata": {
  "kernelspec": {
   "display_name": "Python 3",
   "language": "python",
   "name": "python3"
  },
  "language_info": {
   "codemirror_mode": {
    "name": "ipython",
    "version": 3
   },
   "file_extension": ".py",
   "mimetype": "text/x-python",
   "name": "python",
   "nbconvert_exporter": "python",
   "pygments_lexer": "ipython3",
   "version": "3.8.5"
  },
  "toc": {
   "base_numbering": 1,
   "nav_menu": {},
   "number_sections": true,
   "sideBar": true,
   "skip_h1_title": false,
   "title_cell": "Table of Contents",
   "title_sidebar": "Contents",
   "toc_cell": false,
   "toc_position": {},
   "toc_section_display": true,
   "toc_window_display": true
  }
 },
 "nbformat": 4,
 "nbformat_minor": 4
}
