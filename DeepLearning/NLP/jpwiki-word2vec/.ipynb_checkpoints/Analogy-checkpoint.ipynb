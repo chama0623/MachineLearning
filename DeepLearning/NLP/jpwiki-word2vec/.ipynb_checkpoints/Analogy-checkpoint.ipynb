{
 "cells": [
  {
   "cell_type": "markdown",
   "metadata": {},
   "source": [
    "## 学習済みモデルの読み込み\n",
    "学習済みモデルは東北大学 乾・岡崎研究室で作成されたモデルを使用しました. 使用したモデルは20170201.tar.bz2を解凍したものです."
   ]
  },
  {
   "cell_type": "code",
   "execution_count": 1,
   "metadata": {},
   "outputs": [
    {
     "name": "stderr",
     "output_type": "stream",
     "text": [
      "C:\\Users\\yudai\\anaconda3\\envs\\py38-gpu\\lib\\site-packages\\gensim\\similarities\\__init__.py:15: UserWarning: The gensim.similarities.levenshtein submodule is disabled, because the optional Levenshtein package <https://pypi.org/project/python-Levenshtein/> is unavailable. Install Levenhstein (e.g. `pip install python-Levenshtein`) to suppress this warning.\n",
      "  warnings.warn(msg)\n"
     ]
    }
   ],
   "source": [
    "from gensim.models import KeyedVectors\n",
    "model_dir = \"./entity_vector/entity_vector.model.bin\"\n",
    "model = KeyedVectors.load_word2vec_format(model_dir, binary=True)"
   ]
  },
  {
   "cell_type": "markdown",
   "metadata": {},
   "source": [
    "## 類似するベクトルとその類似確率"
   ]
  },
  {
   "cell_type": "code",
   "execution_count": 2,
   "metadata": {},
   "outputs": [
    {
     "name": "stdout",
     "output_type": "stream",
     "text": [
      "('[加藤茶]', 0.8287540674209595)\n",
      "('[伊東四朗]', 0.7729576826095581)\n",
      "('[志村けん]', 0.7660305500030518)\n",
      "('志村', 0.7644826769828796)\n",
      "('[内村光良]', 0.7554307579994202)\n",
      "('[ユースケ・サンタマリア]', 0.7544304728507996)\n",
      "('[堀内健]', 0.7488856315612793)\n",
      "('[片岡鶴太郎]', 0.7460299730300903)\n",
      "('[優香]', 0.7439517974853516)\n",
      "('[島田紳助]', 0.7426091432571411)\n"
     ]
    }
   ],
   "source": [
    "results = model.most_similar(u'[いかりや長介]')\n",
    "for result in results:\n",
    "    print(result)"
   ]
  },
  {
   "cell_type": "markdown",
   "metadata": {},
   "source": [
    "## 単語の引き算"
   ]
  },
  {
   "cell_type": "code",
   "execution_count": 4,
   "metadata": {},
   "outputs": [
    {
     "name": "stdout",
     "output_type": "stream",
     "text": [
      "('[ミッキーマウス]', 0.499137282371521)\n",
      "('ディズニーキャラクター', 0.48958778381347656)\n",
      "('[ディズニーキャラクター]', 0.4716237783432007)\n",
      "('[ミニーマウス]', 0.42842087149620056)\n",
      "('パペット', 0.4260064661502838)\n",
      "('[妖精]', 0.4153488278388977)\n",
      "('[ゴエティア]', 0.4150884747505188)\n",
      "('[海賊_(ONE_PIECE)]', 0.4051779806613922)\n",
      "('[アラジン_(映画)]', 0.40373989939689636)\n",
      "('[道化師]', 0.3985579311847687)\n"
     ]
    }
   ],
   "source": [
    "results = model.most_similar(positive=[u'[悪魔]'],negative=[u'[悪]'])\n",
    "for result in results:\n",
    "    print(result)"
   ]
  },
  {
   "cell_type": "markdown",
   "metadata": {},
   "source": [
    "## 単語の足し算"
   ]
  },
  {
   "cell_type": "code",
   "execution_count": 8,
   "metadata": {},
   "outputs": [
    {
     "name": "stdout",
     "output_type": "stream",
     "text": [
      "('[警察官]', 0.7354341149330139)\n",
      "('[日本の警察官]', 0.7314578294754028)\n",
      "('[刑務官]', 0.7142734527587891)\n",
      "('公務員', 0.6962239146232605)\n",
      "('[司法警察員]', 0.6773452758789062)\n",
      "('[自衛隊員]', 0.6749894618988037)\n",
      "('[警備員]', 0.6693472266197205)\n",
      "('[受刑者]', 0.6685589551925659)\n",
      "('[警棒]', 0.6614667177200317)\n",
      "('[日本の公務員]', 0.6581761240959167)\n"
     ]
    }
   ],
   "source": [
    "results = model.most_similar(positive=[u'[公務員]',u'[手錠]'])\n",
    "for result in results:\n",
    "    print(result)"
   ]
  },
  {
   "cell_type": "markdown",
   "metadata": {},
   "source": [
    "## 単語の加減算"
   ]
  },
  {
   "cell_type": "code",
   "execution_count": 12,
   "metadata": {},
   "outputs": [
    {
     "name": "stdout",
     "output_type": "stream",
     "text": [
      "('[ロナウド]', 0.6781752109527588)\n",
      "('[ジネディーヌ・ジダン]', 0.6686528325080872)\n",
      "('[中田英寿]', 0.6643422245979309)\n",
      "('[ジーコ]', 0.6631736755371094)\n",
      "('[ロベルト・バッジョ]', 0.6589246988296509)\n",
      "('[ロナウジーニョ]', 0.6574504971504211)\n",
      "('[ディエゴ・マラドーナ]', 0.653502881526947)\n",
      "('ジダン', 0.6474759578704834)\n",
      "('[デビッド・ベッカム]', 0.6473382711410522)\n",
      "('[三浦知良]', 0.6451823115348816)\n"
     ]
    }
   ],
   "source": [
    "results = model.most_similar(positive=[u'[イチロー]',u'[サッカー]'],negative=[u'[野球]'])\n",
    "for result in results:\n",
    "    print(result)"
   ]
  },
  {
   "cell_type": "code",
   "execution_count": null,
   "metadata": {},
   "outputs": [],
   "source": []
  }
 ],
 "metadata": {
  "kernelspec": {
   "display_name": "Python 3",
   "language": "python",
   "name": "python3"
  },
  "language_info": {
   "codemirror_mode": {
    "name": "ipython",
    "version": 3
   },
   "file_extension": ".py",
   "mimetype": "text/x-python",
   "name": "python",
   "nbconvert_exporter": "python",
   "pygments_lexer": "ipython3",
   "version": "3.8.5"
  },
  "toc": {
   "base_numbering": 1,
   "nav_menu": {},
   "number_sections": true,
   "sideBar": true,
   "skip_h1_title": false,
   "title_cell": "Table of Contents",
   "title_sidebar": "Contents",
   "toc_cell": false,
   "toc_position": {},
   "toc_section_display": true,
   "toc_window_display": false
  }
 },
 "nbformat": 4,
 "nbformat_minor": 4
}
