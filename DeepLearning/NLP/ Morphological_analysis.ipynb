{
 "cells": [
  {
   "cell_type": "markdown",
   "metadata": {},
   "source": [
    "## 形態素解析"
   ]
  },
  {
   "cell_type": "code",
   "execution_count": 1,
   "metadata": {},
   "outputs": [
    {
     "name": "stdout",
     "output_type": "stream",
     "text": [
      "=============================================\n",
      "[#50人クラフト]50人で露天掘りしてみた.\n",
      "[# 名詞\n",
      "50 名詞\n",
      "人 名詞\n",
      "クラフト 名詞\n",
      "] 名詞\n",
      "50 名詞\n",
      "人 名詞\n",
      "で 助詞\n",
      "露天掘り 名詞\n",
      "し 動詞\n",
      "て 助詞\n",
      "み 動詞\n",
      "た 助動詞\n",
      ". 名詞\n",
      "=============================================\n",
      "This is the sample sentence of English.\n",
      "This 名詞\n",
      "  記号\n",
      "is 名詞\n",
      "  記号\n",
      "the 名詞\n",
      "  記号\n",
      "sample 名詞\n",
      "  記号\n",
      "sentence 名詞\n",
      "  記号\n",
      "of 名詞\n",
      "  記号\n",
      "English 名詞\n",
      ". 名詞\n"
     ]
    }
   ],
   "source": [
    "from janome.tokenizer import Tokenizer\n",
    "\n",
    "tokenizer = Tokenizer() # インスタンス化\n",
    "\n",
    "test_txt = [\"[#50人クラフト]50人で露天掘りしてみた.\",\n",
    "           \"This is the sample sentence of English.\"]\n",
    "\n",
    "for sentence in test_txt:\n",
    "    print(\"=============================================\")\n",
    "    print(sentence)\n",
    "\n",
    "    for token in tokenizer.tokenize(sentence): # 形態素解析の結果を取得\n",
    "        #print(\"    \" + str(token))　\n",
    "        print(token.surface,token.part_of_speech.split(',')[0]) # 表層形, 品詞を取得"
   ]
  },
  {
   "cell_type": "markdown",
   "metadata": {},
   "source": [
    "## 特定の品詞のみを抽出"
   ]
  },
  {
   "cell_type": "code",
   "execution_count": 15,
   "metadata": {},
   "outputs": [
    {
     "name": "stdout",
     "output_type": "stream",
     "text": [
      "[ 名詞\n",
      "this 名詞\n",
      "  記号\n",
      "is 名詞\n",
      "  記号\n",
      "sample 名詞\n",
      "  記号\n",
      "text 名詞\n",
      "] 名詞\n",
      "すもも 名詞\n",
      "も 助詞\n",
      "もも 名詞\n",
      "も 助詞\n",
      "もも 名詞\n",
      "の 助詞\n",
      "うち 名詞\n"
     ]
    },
    {
     "data": {
      "text/plain": [
       "['[', 'this', 'is', 'sample', 'text', ']', 'すもも', 'もも', 'もも', 'うち']"
      ]
     },
     "execution_count": 15,
     "metadata": {},
     "output_type": "execute_result"
    }
   ],
   "source": [
    "tokenizer = Tokenizer() # インスタンス化\n",
    "\n",
    "test_txt = [\"[this is sample text]すもももももももものうち\"]\n",
    "\n",
    "extract_class = [\"名詞\"]\n",
    "result = []\n",
    "for sentence in test_txt:\n",
    "    for token in tokenizer.tokenize(sentence): # 形態素解析の結果を取得\n",
    "        for word_class in extract_class:\n",
    "            print(token.surface,token.part_of_speech.split(',')[0])\n",
    "            if token.part_of_speech.split(',')[0]==word_class:\n",
    "                result.append(token.surface)\n",
    "                \n",
    "result"
   ]
  },
  {
   "cell_type": "markdown",
   "metadata": {},
   "source": [
    "# Macab"
   ]
  },
  {
   "cell_type": "code",
   "execution_count": 13,
   "metadata": {},
   "outputs": [
    {
     "name": "stdout",
     "output_type": "stream",
     "text": [
      "すもも\tスモモ\tスモモ\t李\t名詞-普通名詞-一般\t\t\t0\n",
      "も\tモ\tモ\tも\t助詞-係助詞\t\t\t\n",
      "もも\tモモ\tモモ\t桃\t名詞-普通名詞-一般\t\t\t0\n",
      "も\tモ\tモ\tも\t助詞-係助詞\t\t\t\n",
      "もも\tモモ\tモモ\t桃\t名詞-普通名詞-一般\t\t\t0\n",
      "の\tノ\tノ\tの\t助詞-格助詞\t\t\t\n",
      "うち\tウチ\tウチ\t内\t名詞-普通名詞-副詞可能\t\t\t0\n",
      "EOS\n",
      "\n"
     ]
    }
   ],
   "source": [
    "import MeCab\n",
    "mecab = MeCab.Tagger()\n",
    "sent = \"すもももももももものうち\"\n",
    "print(mecab.parse(sent))"
   ]
  },
  {
   "cell_type": "code",
   "execution_count": null,
   "metadata": {},
   "outputs": [],
   "source": [
    "mecab.parse(sent)"
   ]
  }
 ],
 "metadata": {
  "kernelspec": {
   "display_name": "Python 3",
   "language": "python",
   "name": "python3"
  },
  "language_info": {
   "codemirror_mode": {
    "name": "ipython",
    "version": 3
   },
   "file_extension": ".py",
   "mimetype": "text/x-python",
   "name": "python",
   "nbconvert_exporter": "python",
   "pygments_lexer": "ipython3",
   "version": "3.8.5"
  },
  "toc": {
   "base_numbering": 1,
   "nav_menu": {},
   "number_sections": true,
   "sideBar": true,
   "skip_h1_title": false,
   "title_cell": "Table of Contents",
   "title_sidebar": "Contents",
   "toc_cell": false,
   "toc_position": {},
   "toc_section_display": true,
   "toc_window_display": false
  }
 },
 "nbformat": 4,
 "nbformat_minor": 4
}
