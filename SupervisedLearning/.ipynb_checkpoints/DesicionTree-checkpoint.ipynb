{
 "cells": [
  {
   "cell_type": "markdown",
   "metadata": {},
   "source": [
    "# 決定木のアルゴリズム\n",
    "\n",
    "Reference : Induction of Decision Trees , J.R. QUINLAN  \n",
    "https://hunch.net/~coms-4771/quinlan.pdf"
   ]
  },
  {
   "cell_type": "code",
   "execution_count": 1,
   "metadata": {},
   "outputs": [],
   "source": [
    "import numpy as np\n",
    "import pandas as pd\n",
    "import matplotlib as plt"
   ]
  },
  {
   "cell_type": "markdown",
   "metadata": {},
   "source": [
    "## ID3のアルゴリズム\n",
    "このプログラムでは, ID3のアルゴリズムにおいてrootノードから, 1つ目の枝を作成する特徴量の決定を行う. "
   ]
  },
  {
   "cell_type": "code",
   "execution_count": 200,
   "metadata": {},
   "outputs": [
    {
     "name": "stdout",
     "output_type": "stream",
     "text": [
      "     Outlook Temperature Humidity  Windy Class\n",
      "0      sunny         hot     high  False     N\n",
      "1      sunny         hot     high   True     N\n",
      "2   overcast         hot     high  False     P\n",
      "3       rain        mild     high  False     P\n",
      "4       rain        cool   normal  False     P\n",
      "5       rain        cool   normal   True     N\n",
      "6   overcast        cool   normal   True     P\n",
      "7      sunny        mild     high  False     N\n",
      "8      sunny        cool   normal  False     P\n",
      "9       rain        mild   normal  False     P\n",
      "10     sunny        mild   normal   True     P\n",
      "11  overcast        mild     high   True     P\n",
      "12  overcast         hot   normal  False     P\n",
      "13      rain        mild     high   True     N\n"
     ]
    }
   ],
   "source": [
    "from sklearn.preprocessing import LabelEncoder\n",
    "\n",
    "# load and preprocess data\n",
    "df = pd.read_csv(\"data5.csv\")\n",
    "print(df)\n",
    "\n",
    "for col in df.columns:\n",
    "    le=LabelEncoder()\n",
    "    df[col] = le.fit_transform(df[col].to_numpy())\n",
    "\n",
    "X = df.drop(columns=[\"Class\"])\n",
    "y = df[\"Class\"] # ラベルが0のときN, ラベルが1のときP"
   ]
  },
  {
   "cell_type": "code",
   "execution_count": 201,
   "metadata": {},
   "outputs": [],
   "source": [
    "# entropyの計算\n",
    "def entropy(l):\n",
    "    I=0\n",
    "    sum_l = sum(l)\n",
    "    for x in l:\n",
    "        I=I-x/sum_l*np.log2(x/sum_l)\n",
    "    \n",
    "    return I\n",
    "\n",
    "def id3(X,y,targetname):\n",
    "    n = len(X)\n",
    "    classlen = len(y.unique())\n",
    "    ycounts = []\n",
    "    dataset = pd.concat([X,y],axis=1)\n",
    "    # クラス別のカウントをリストに格納\n",
    "    for y in y.value_counts():\n",
    "        ycounts.append(y)\n",
    "        \n",
    "    Iall = entropy(ycounts) # 全体のentropyを計算\n",
    "    \n",
    "    print(\"result gain\")\n",
    "    # 各属性について反復\n",
    "    for a in X.columns:\n",
    "        clist = X[a].unique()\n",
    "        E = 0\n",
    "        # 各ラベルの数をカウントしてリストに格納する.\n",
    "        for c in clist:\n",
    "            counts = []\n",
    "            for v in dataset.loc[dataset[a]==c,\"Class\"].value_counts():\n",
    "                counts.append(v)\n",
    "            \n",
    "            E += sum(counts)*entropy(counts)/len(X)\n",
    "            \n",
    "        print(a+\" : {}\".format(round(Iall-E,3)))"
   ]
  },
  {
   "cell_type": "code",
   "execution_count": 202,
   "metadata": {},
   "outputs": [
    {
     "name": "stdout",
     "output_type": "stream",
     "text": [
      "result gain\n",
      "Outlook : 0.247\n",
      "Temperature : 0.029\n",
      "Humidity : 0.152\n",
      "Windy : 0.048\n"
     ]
    }
   ],
   "source": [
    "# 1回目の分岐\n",
    "id3(X,y,\"Class\")"
   ]
  },
  {
   "cell_type": "markdown",
   "metadata": {},
   "source": [
    "gainはOutlookが最も高いから最初の分岐はoutlookで行われることがわかる."
   ]
  },
  {
   "cell_type": "code",
   "execution_count": 207,
   "metadata": {},
   "outputs": [
    {
     "name": "stdout",
     "output_type": "stream",
     "text": [
      "    Outlook  Temperature  Humidity  Windy  Class\n",
      "0         2            1         0      0      0\n",
      "1         2            1         0      1      0\n",
      "7         2            2         0      0      0\n",
      "8         2            0         1      0      1\n",
      "10        2            2         1      1      1\n",
      "Outlook =  2\n",
      "result gain\n",
      "Temperature : 0.571\n",
      "Humidity : 0.971\n",
      "Windy : 0.02\n",
      "\n",
      "    Outlook  Temperature  Humidity  Windy  Class\n",
      "2         0            1         0      0      1\n",
      "6         0            0         1      1      1\n",
      "11        0            2         0      1      1\n",
      "12        0            1         1      0      1\n",
      "Outlook =  0\n",
      "result gain\n",
      "Temperature : 0.0\n",
      "Humidity : 0.0\n",
      "Windy : 0.0\n",
      "\n",
      "    Outlook  Temperature  Humidity  Windy  Class\n",
      "3         1            2         0      0      1\n",
      "4         1            0         1      0      1\n",
      "5         1            0         1      1      0\n",
      "9         1            2         1      0      1\n",
      "13        1            2         0      1      0\n",
      "Outlook =  1\n",
      "result gain\n",
      "Temperature : 0.02\n",
      "Humidity : 0.02\n",
      "Windy : 0.971\n",
      "\n"
     ]
    }
   ],
   "source": [
    "# 2回目の分岐\n",
    "for i in df[\"Outlook\"].unique():\n",
    "    df_2 = df[df[\"Outlook\"]==i]\n",
    "    print(df_2)\n",
    "    X = df_2.drop(columns=[\"Outlook\",\"Class\"])\n",
    "    y = df_2[\"Class\"]\n",
    "    \n",
    "    print(\"Outlook = \",i)\n",
    "    id3(X,y,\"Class\")\n",
    "    print()"
   ]
  },
  {
   "cell_type": "markdown",
   "metadata": {},
   "source": [
    "Outlook=0(forecast)のとき, Outlookのみで完全に分類できているから, gainが0であることが読み取れる. Outlook=1(rain)のとき, gain=0.971で最も大きいHumidityで2回目の分岐を行うのがよいことがわかる. Outlook=2(sunny)のとき, gain=0.971で最も大きいWindyで2回目の分岐を行うのが良いことがわかる. さらに, 2階の分類によって, 完全にクラス分類が完了していることが表から読み取れる. 1回目と2回目の分岐をまとめると, 論文と同様の決定木を構成することができる.\n",
    "\n",
    "<img src=\"img/decisiontree_fig2.png\">"
   ]
  },
  {
   "cell_type": "markdown",
   "metadata": {},
   "source": [
    "## noiseが混ざっている場合\n",
    "noiseが混ざっているケースとして, index0のOutlookをforecastに変更して実行してみる. このとき, index0とindex2は同じ特徴量になるが, 分類が異なるため矛盾したインスタンスになる."
   ]
  },
  {
   "cell_type": "code",
   "execution_count": 195,
   "metadata": {},
   "outputs": [
    {
     "data": {
      "text/html": [
       "<div>\n",
       "<style scoped>\n",
       "    .dataframe tbody tr th:only-of-type {\n",
       "        vertical-align: middle;\n",
       "    }\n",
       "\n",
       "    .dataframe tbody tr th {\n",
       "        vertical-align: top;\n",
       "    }\n",
       "\n",
       "    .dataframe thead th {\n",
       "        text-align: right;\n",
       "    }\n",
       "</style>\n",
       "<table border=\"1\" class=\"dataframe\">\n",
       "  <thead>\n",
       "    <tr style=\"text-align: right;\">\n",
       "      <th></th>\n",
       "      <th>Outlook</th>\n",
       "      <th>Temperature</th>\n",
       "      <th>Humidity</th>\n",
       "      <th>Windy</th>\n",
       "      <th>Class</th>\n",
       "    </tr>\n",
       "  </thead>\n",
       "  <tbody>\n",
       "    <tr>\n",
       "      <th>0</th>\n",
       "      <td>0</td>\n",
       "      <td>1</td>\n",
       "      <td>0</td>\n",
       "      <td>0</td>\n",
       "      <td>0</td>\n",
       "    </tr>\n",
       "    <tr>\n",
       "      <th>1</th>\n",
       "      <td>2</td>\n",
       "      <td>1</td>\n",
       "      <td>0</td>\n",
       "      <td>1</td>\n",
       "      <td>0</td>\n",
       "    </tr>\n",
       "    <tr>\n",
       "      <th>2</th>\n",
       "      <td>0</td>\n",
       "      <td>1</td>\n",
       "      <td>0</td>\n",
       "      <td>0</td>\n",
       "      <td>1</td>\n",
       "    </tr>\n",
       "    <tr>\n",
       "      <th>3</th>\n",
       "      <td>1</td>\n",
       "      <td>2</td>\n",
       "      <td>0</td>\n",
       "      <td>0</td>\n",
       "      <td>1</td>\n",
       "    </tr>\n",
       "    <tr>\n",
       "      <th>4</th>\n",
       "      <td>1</td>\n",
       "      <td>0</td>\n",
       "      <td>1</td>\n",
       "      <td>0</td>\n",
       "      <td>1</td>\n",
       "    </tr>\n",
       "    <tr>\n",
       "      <th>5</th>\n",
       "      <td>1</td>\n",
       "      <td>0</td>\n",
       "      <td>1</td>\n",
       "      <td>1</td>\n",
       "      <td>0</td>\n",
       "    </tr>\n",
       "    <tr>\n",
       "      <th>6</th>\n",
       "      <td>0</td>\n",
       "      <td>0</td>\n",
       "      <td>1</td>\n",
       "      <td>1</td>\n",
       "      <td>1</td>\n",
       "    </tr>\n",
       "    <tr>\n",
       "      <th>7</th>\n",
       "      <td>2</td>\n",
       "      <td>2</td>\n",
       "      <td>0</td>\n",
       "      <td>0</td>\n",
       "      <td>0</td>\n",
       "    </tr>\n",
       "    <tr>\n",
       "      <th>8</th>\n",
       "      <td>2</td>\n",
       "      <td>0</td>\n",
       "      <td>1</td>\n",
       "      <td>0</td>\n",
       "      <td>1</td>\n",
       "    </tr>\n",
       "    <tr>\n",
       "      <th>9</th>\n",
       "      <td>1</td>\n",
       "      <td>2</td>\n",
       "      <td>1</td>\n",
       "      <td>0</td>\n",
       "      <td>1</td>\n",
       "    </tr>\n",
       "    <tr>\n",
       "      <th>10</th>\n",
       "      <td>2</td>\n",
       "      <td>2</td>\n",
       "      <td>1</td>\n",
       "      <td>1</td>\n",
       "      <td>1</td>\n",
       "    </tr>\n",
       "    <tr>\n",
       "      <th>11</th>\n",
       "      <td>0</td>\n",
       "      <td>2</td>\n",
       "      <td>0</td>\n",
       "      <td>1</td>\n",
       "      <td>1</td>\n",
       "    </tr>\n",
       "    <tr>\n",
       "      <th>12</th>\n",
       "      <td>0</td>\n",
       "      <td>1</td>\n",
       "      <td>1</td>\n",
       "      <td>0</td>\n",
       "      <td>1</td>\n",
       "    </tr>\n",
       "    <tr>\n",
       "      <th>13</th>\n",
       "      <td>1</td>\n",
       "      <td>2</td>\n",
       "      <td>0</td>\n",
       "      <td>1</td>\n",
       "      <td>0</td>\n",
       "    </tr>\n",
       "  </tbody>\n",
       "</table>\n",
       "</div>"
      ],
      "text/plain": [
       "    Outlook  Temperature  Humidity  Windy  Class\n",
       "0         0            1         0      0      0\n",
       "1         2            1         0      1      0\n",
       "2         0            1         0      0      1\n",
       "3         1            2         0      0      1\n",
       "4         1            0         1      0      1\n",
       "5         1            0         1      1      0\n",
       "6         0            0         1      1      1\n",
       "7         2            2         0      0      0\n",
       "8         2            0         1      0      1\n",
       "9         1            2         1      0      1\n",
       "10        2            2         1      1      1\n",
       "11        0            2         0      1      1\n",
       "12        0            1         1      0      1\n",
       "13        1            2         0      1      0"
      ]
     },
     "execution_count": 195,
     "metadata": {},
     "output_type": "execute_result"
    }
   ],
   "source": [
    "# インスタンスにノイズを混ぜる\n",
    "df.loc[0,\"Outlook\"] = 0\n",
    "\n",
    "X = df.drop(columns=[\"Class\"])\n",
    "y = df[\"Class\"]\n",
    "df"
   ]
  },
  {
   "cell_type": "code",
   "execution_count": 196,
   "metadata": {},
   "outputs": [
    {
     "name": "stdout",
     "output_type": "stream",
     "text": [
      "result gain\n",
      "Outlook : 0.05\n",
      "Temperature : 0.029\n",
      "Humidity : 0.152\n",
      "Windy : 0.048\n"
     ]
    }
   ],
   "source": [
    "# 1回目の分岐\n",
    "id3(X,y,\"Class\")"
   ]
  },
  {
   "cell_type": "markdown",
   "metadata": {},
   "source": [
    "ノイズが混ざっているため, outlookのgainは0.247から0.05に減少していることがわかる. さらにOutlookよりもHumidityのgainのほうが高いことがわかる."
   ]
  },
  {
   "cell_type": "code",
   "execution_count": 198,
   "metadata": {},
   "outputs": [
    {
     "name": "stdout",
     "output_type": "stream",
     "text": [
      "    Outlook  Temperature  Humidity  Windy  Class\n",
      "0         0            1         0      0      0\n",
      "1         2            1         0      1      0\n",
      "2         0            1         0      0      1\n",
      "3         1            2         0      0      1\n",
      "7         2            2         0      0      0\n",
      "11        0            2         0      1      1\n",
      "13        1            2         0      1      0\n",
      "Humidity =  0\n",
      "result gain\n",
      "Outlook : 0.306\n",
      "Temperature : 0.02\n",
      "Windy : 0.02\n",
      "\n",
      "    Outlook  Temperature  Humidity  Windy  Class\n",
      "4         1            0         1      0      1\n",
      "5         1            0         1      1      0\n",
      "6         0            0         1      1      1\n",
      "8         2            0         1      0      1\n",
      "9         1            2         1      0      1\n",
      "10        2            2         1      1      1\n",
      "12        0            1         1      0      1\n",
      "Humidity =  1\n",
      "result gain\n",
      "Outlook : 0.198\n",
      "Temperature : 0.128\n",
      "Windy : 0.198\n",
      "\n"
     ]
    }
   ],
   "source": [
    "# 2回目の分岐\n",
    "for i in df[\"Humidity\"].unique():\n",
    "    df_2 = df[df[\"Humidity\"]==i]\n",
    "    print(df_2)\n",
    "    X = df_2.drop(columns=[\"Humidity\",\"Class\"])\n",
    "    y = df_2[\"Class\"]\n",
    "    \n",
    "    print(\"Humidity = \",i)\n",
    "    id3(X,y,\"Class\")\n",
    "    print()"
   ]
  },
  {
   "cell_type": "code",
   "execution_count": null,
   "metadata": {},
   "outputs": [],
   "source": []
  }
 ],
 "metadata": {
  "kernelspec": {
   "display_name": "Python 3",
   "language": "python",
   "name": "python3"
  },
  "language_info": {
   "codemirror_mode": {
    "name": "ipython",
    "version": 3
   },
   "file_extension": ".py",
   "mimetype": "text/x-python",
   "name": "python",
   "nbconvert_exporter": "python",
   "pygments_lexer": "ipython3",
   "version": "3.8.5"
  },
  "toc": {
   "base_numbering": 1,
   "nav_menu": {},
   "number_sections": true,
   "sideBar": true,
   "skip_h1_title": false,
   "title_cell": "Table of Contents",
   "title_sidebar": "Contents",
   "toc_cell": false,
   "toc_position": {},
   "toc_section_display": true,
   "toc_window_display": true
  }
 },
 "nbformat": 4,
 "nbformat_minor": 4
}
