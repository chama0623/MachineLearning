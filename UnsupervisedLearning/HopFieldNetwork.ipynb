{
 "cells": [
  {
   "cell_type": "code",
   "execution_count": 1,
   "id": "8a6e339e-e245-47db-a651-7cf346776ee1",
   "metadata": {},
   "outputs": [],
   "source": [
    "import numpy as np\n",
    "import matplotlib.pyplot as plt"
   ]
  },
  {
   "cell_type": "markdown",
   "id": "cb1e130d-ca12-45e5-a558-87f823393e59",
   "metadata": {},
   "source": [
    "このノートではホップフィールドネットワーク(Hopfiled Network)の簡単な例と, 画像を記憶・想起させるプログラムの実装について示す.\n",
    "# 1. ホップフィールドネットワークの簡単な例\n",
    "ホップフィールドネットワークはパターンを記憶する教師なし学習の手法である. このネットワークは記憶モードと想起モードの2つから構成される.  \n",
    "(1)記憶モード\n",
    "記憶したいベクトル$a_1,a_2,\\cdots,a_P$として, 重み$W$を用いてベクトルを記憶する. \n",
    "重み$W$は次で計算される. ただし対角成分(自己想起と呼ばれる)は0とする. ${}^ta_p$はベクトル$a_p$の転置を表す.\n",
    "$$W = \\sum_{p=1}^{P} a_p{}^ta_p$$\n",
    "\n",
    "(2)想起モード  \n",
    "想起モードではノイズを含むパターンを与えて最も近いパターンを出力する自己想起を行う. ノイズを含む入力パターン$X_{init}$とする. このとき次の手順で自己想起を行う.\n",
    "ここでは0以上のとき1, 0未満のとき-1で符号化する.\n",
    "1. $X_{pred} ← X_{init}$とする.\n",
    "2. 次の計算をループする.\n",
    "    1. $X ← WX_{pred}$とする.\n",
    "    2. $X$を符号化する.\n",
    "    3. $X$と$X_{pred}$の全ての要素が一致したときループを終了する.\n",
    "    4. $X_{pred} ← X$とする.\n",
    "3. $X$を想起結果として処理を終了する. \n",
    "\n",
    "以上の理論を踏まえてホップフィールドネットワークの計算過程を簡単な例で追ってみる."
   ]
  },
  {
   "cell_type": "markdown",
   "id": "a8b45ec0-3136-4ea6-88e8-13ee0abea8f3",
   "metadata": {},
   "source": [
    "## 1.1 記憶するベクトルの定義"
   ]
  },
  {
   "cell_type": "code",
   "execution_count": 2,
   "id": "9a33e109-4aa9-4a27-9c07-a37404b49a8a",
   "metadata": {},
   "outputs": [
    {
     "name": "stdout",
     "output_type": "stream",
     "text": [
      "(4, 1)\n"
     ]
    }
   ],
   "source": [
    "# 2つのベクトルを記憶する\n",
    "a1 = np.array([[1,1,-1,1]]).T\n",
    "a2 = np.array([[1,-1,1,-1]]).T\n",
    "print(a1.shape)"
   ]
  },
  {
   "cell_type": "markdown",
   "id": "254f1a0d-c9a3-40a6-ad7d-91d3b1157d1c",
   "metadata": {},
   "source": [
    "## 1.2 学習モード"
   ]
  },
  {
   "cell_type": "code",
   "execution_count": 3,
   "id": "009740cb-6c89-42b1-8e0c-c51aeffa373a",
   "metadata": {},
   "outputs": [
    {
     "data": {
      "text/plain": [
       "array([[ 0,  0,  0,  0],\n",
       "       [ 0,  0, -2,  2],\n",
       "       [ 0, -2,  0, -2],\n",
       "       [ 0,  2, -2,  0]])"
      ]
     },
     "execution_count": 3,
     "metadata": {},
     "output_type": "execute_result"
    }
   ],
   "source": [
    "# 重みを計算\n",
    "W = np.dot(a1,a1.T)+np.dot(a2,a2.T)\n",
    "W_shape = W.shape[0]\n",
    "W[range(W_shape),range(W_shape)] = 0 # 対角成分に0を代入\n",
    "W"
   ]
  },
  {
   "cell_type": "markdown",
   "id": "4c1e7ab1-0b9c-4d74-ab5b-60e71d47cce7",
   "metadata": {},
   "source": [
    "## 1.3 想起モード"
   ]
  },
  {
   "cell_type": "code",
   "execution_count": 4,
   "id": "f628cdda-0b19-4c18-b08f-52a2faa1c601",
   "metadata": {},
   "outputs": [
    {
     "name": "stdout",
     "output_type": "stream",
     "text": [
      "[[ 1]\n",
      " [-1]\n",
      " [ 1]\n",
      " [-1]]\n",
      "[[ 1]\n",
      " [-1]\n",
      " [ 1]\n",
      " [-1]]\n"
     ]
    }
   ],
   "source": [
    "# 入力ベクトル\n",
    "X_init = np.array([[-1,-1,1,-1]]).T\n",
    "\n",
    "X_pred = X_init\n",
    "while(True):\n",
    "    X = np.dot(W,X_pred)\n",
    "    X = np.sign(X) # 符号化\n",
    "    X[X==0] = 1 # 0のとき符号を1にする\n",
    "    print(X)\n",
    "    if np.all(X==X_pred):\n",
    "        break\n",
    "    X_pred=X"
   ]
  },
  {
   "cell_type": "markdown",
   "id": "8150c8a0-2ac1-40c5-aa85-3f317e7a9c66",
   "metadata": {},
   "source": [
    "$a_2$にノイズを付加した(-1,-1,1,-1)というベクトルを与えると$a_2$が想起されていることがわかる."
   ]
  },
  {
   "cell_type": "markdown",
   "id": "c1bc9740-c1c4-4cb4-b662-5795ea37f460",
   "metadata": {},
   "source": [
    "# 2. 画像の記憶・想起の実装\n",
    "5x5のランダムに生成した画像を記憶させて, ノイズを付加した画像を想起させてみる. 2次元画像を扱うことはできないから1次元行列に変換する."
   ]
  },
  {
   "cell_type": "code",
   "execution_count": 5,
   "id": "334ee734-e1d5-4091-8edf-33be914a2e37",
   "metadata": {},
   "outputs": [],
   "source": [
    "def gen_img(size=5,num=3):\n",
    "    \"\"\"Generate image \n",
    "    \n",
    "    Args:\n",
    "    size : size of image, default=5\n",
    "    num : number of generating image, default=3\n",
    "    \n",
    "    Returns:\n",
    "    list of images\n",
    "    \"\"\"\n",
    "    img_list = []\n",
    "    for i in range(num):\n",
    "        # 0または1の乱数を生成して, -1または1に変換\n",
    "        img_list.append(np.random.randint(0,2,(size,size))*2-1)\n",
    "    return img_list\n",
    "\n",
    "def show_img(img_list,label_list=[]):\n",
    "    \"\"\"Drawing image\n",
    "    \n",
    "    Args:\n",
    "    img_list : list of images\n",
    "    label_list : list of label name, if none named \"image1\",\"image2\", ...\n",
    "    \n",
    "    Returns:\n",
    "    None\n",
    "    \"\"\"\n",
    "    \n",
    "    list_len = len(img_list)\n",
    "    label_len = len(label_list)\n",
    "    plt.figure(figsize=(8,6),facecolor=\"white\")\n",
    "    for i in range(list_len):\n",
    "        plt.subplot(1,list_len,i+1)\n",
    "        plt.imshow(img_list[i])\n",
    "        if label_len==0:\n",
    "            plt.title(\"image\"+str(i+1))\n",
    "        else:\n",
    "            plt.title(label_list[i])\n",
    "    plt.show()\n",
    "\n",
    "def learn_mode(img_list_1d):\n",
    "    \"\"\"caluculate weight\n",
    "    \n",
    "    Args:\n",
    "    img_list_1d : list of image(1d)\n",
    "    \n",
    "    Returns:\n",
    "    W : weight\n",
    "    \"\"\"\n",
    "    squared_list = list(map(lambda img: np.dot(img,img.T), img_list_1d)) # 各ベクトルの2乗を計算\n",
    "    W = sum(squared_list) # shape=(size,size)\n",
    "    W[range(W_shape),range(W_shape)] = 0 # 対角成分に0を代入\n",
    "    return W\n",
    "\n",
    "def remember_mode(W,remember_vec):\n",
    "    \"\"\"remember vector\n",
    "    \n",
    "    Args:\n",
    "    W : weight\n",
    "    remember_vec : remember pattern(vector)\n",
    "    \n",
    "    Returns:\n",
    "    remember result\n",
    "    \"\"\"\n",
    "    \n",
    "    cnt=0\n",
    "    X_pred = remember_vec.copy()\n",
    "    while(True):\n",
    "        X = np.dot(W,X_pred)\n",
    "        X = np.sign(X) # 符号化\n",
    "        X[X==0] = 1 # 0のとき符号を1にする\n",
    "        cnt+=1\n",
    "        if np.all(X==X_pred):\n",
    "            break\n",
    "        X_pred=X\n",
    "    print(f\"loop times : {cnt}\")\n",
    "    return X"
   ]
  },
  {
   "cell_type": "code",
   "execution_count": 15,
   "id": "86f15dbc-9b42-48c8-86ad-5501ae845644",
   "metadata": {},
   "outputs": [
    {
     "data": {
      "image/png": "[encoded data removed]",
      "text/plain": [
       "<Figure size 576x432 with 5 Axes>"
      ]
     },
     "metadata": {},
     "output_type": "display_data"
    },
    {
     "name": "stdout",
     "output_type": "stream",
     "text": [
      "loop times : 3\n"
     ]
    },
    {
     "data": {
      "image/png": "[encoded data removed]",
      "text/plain": [
       "<Figure size 576x432 with 2 Axes>"
      ]
     },
     "metadata": {},
     "output_type": "display_data"
    }
   ],
   "source": [
    "size = 10 # 画像の大きさ\n",
    "num = 5 # 記憶パターン枚数\n",
    "# 記憶パターン画像生成\n",
    "img_list = gen_img(size,num)\n",
    "show_img(img_list)\n",
    "# 画像を1次元配列に変換\n",
    "img_list_1d = list(map(lambda img: img.reshape(-1,1), img_list))\n",
    "# 記憶モード\n",
    "W = learn_mode(img_list_1d)\n",
    "# 連想モード\n",
    "remember_img = img_list[0] # 連想するimage\n",
    "noise = np.random.randint(-2,3,(size,size)) # ノイズを生成\n",
    "noised_img = np.sign(remember_img+noise) # 画像を符号化\n",
    "noised_img[noised_img==0]=1 # 0のとき符号を1にする\n",
    "noised_vec = noised_img.reshape(-1,1) # 1次元配列に変換\n",
    "result_1d = remember_mode(W,noised_vec) # 想起\n",
    "result_img = result_1d.reshape(size,size) # 1次元配列を画像に戻す\n",
    "show_img([noised_img,result_img],[\"noised image\",\"result\"])"
   ]
  },
  {
   "cell_type": "code",
   "execution_count": null,
   "id": "422ff037-66b2-4217-acaf-7f821ec27346",
   "metadata": {},
   "outputs": [],
   "source": []
  }
 ],
 "metadata": {
  "kernelspec": {
   "display_name": "Python 3 (ipykernel)",
   "language": "python",
   "name": "python3"
  },
  "language_info": {
   "codemirror_mode": {
    "name": "ipython",
    "version": 3
   },
   "file_extension": ".py",
   "mimetype": "text/x-python",
   "name": "python",
   "nbconvert_exporter": "python",
   "pygments_lexer": "ipython3",
   "version": "3.8.10"
  }
 },
 "nbformat": 4,
 "nbformat_minor": 5
}
