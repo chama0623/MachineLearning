{
 "cells": [
  {
   "cell_type": "markdown",
   "metadata": {},
   "source": [
    "## 多項分布\n",
    "確率関数\n",
    "\n",
    "多項分布は二項分布を一般化した分布である. k個の面からなるサイコロをn回投げて1からkの目がでる回数を$X_1, ... ,X_k$,それぞれの目がでる確率$p_1, ... , p_k$とすると$(x_1, ... ,x_k)$は多項分布Multin$(x_1, ... ,x_k)$に従う. ただし,$\\Sigma_{i=1}^{k}p_i=1$,$\\Sigma_{i=1}^{k}x_i = n$とする. また多項分布の確率関数は次のようになる.\n",
    "$$f(x_1, ... ,x_k) = \\frac{n!}{x_1! ... x_k!}p_1^{x_1} ... p_k^{x_k}$$"
   ]
  },
  {
   "cell_type": "markdown",
   "metadata": {},
   "source": [
    "## 多項分布からのランダムサンプル"
   ]
  },
  {
   "cell_type": "code",
   "execution_count": 1,
   "metadata": {},
   "outputs": [],
   "source": [
    "import seaborn as sns\n",
    "import matplotlib.pyplot as plt\n",
    "import numpy as np\n",
    "plt.style.use(\"seaborn-whitegrid\") # seabornの背景色を白に変更"
   ]
  },
  {
   "cell_type": "code",
   "execution_count": 15,
   "metadata": {},
   "outputs": [
    {
     "data": {
      "text/plain": [
       "array([ 48, 191,  61])"
      ]
     },
     "execution_count": 15,
     "metadata": {},
     "output_type": "execute_result"
    }
   ],
   "source": [
    "k=3\n",
    "n=100\n",
    "p = [0.15,0.7,0.15]\n",
    "result = np.random.multinomial(k,p,n) # n回試行\n",
    "freqs = result.sum(axis = 0) # 試行結果のsumを計算\n",
    "freqs"
   ]
  },
  {
   "cell_type": "code",
   "execution_count": null,
   "metadata": {},
   "outputs": [],
   "source": []
  }
 ],
 "metadata": {
  "kernelspec": {
   "display_name": "Python 3",
   "language": "python",
   "name": "python3"
  },
  "language_info": {
   "codemirror_mode": {
    "name": "ipython",
    "version": 3
   },
   "file_extension": ".py",
   "mimetype": "text/x-python",
   "name": "python",
   "nbconvert_exporter": "python",
   "pygments_lexer": "ipython3",
   "version": "3.8.5"
  },
  "toc": {
   "base_numbering": 1,
   "nav_menu": {},
   "number_sections": true,
   "sideBar": true,
   "skip_h1_title": false,
   "title_cell": "Table of Contents",
   "title_sidebar": "Contents",
   "toc_cell": false,
   "toc_position": {},
   "toc_section_display": true,
   "toc_window_display": false
  }
 },
 "nbformat": 4,
 "nbformat_minor": 4
}
