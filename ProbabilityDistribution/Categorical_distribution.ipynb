{
 "cells": [
  {
   "cell_type": "markdown",
   "metadata": {},
   "source": [
    "## カテゴリカル分布\n",
    "確率関数\n",
    "\n",
    "カテゴリカル分布はベルヌーイ分布を一般化した分布である. $s=(s_1, ... ,s_k),s \\in \\{0,1 \\}, \\Sigma_{i=1}^{k}s_i = 1$とする. また$p=(p_1, ... ,p_k),\\Sigma_{i=1}^{k},p_i \\in (0,1)$とする. このときカテゴリカル分布の確率関数は次のようになる.\n",
    "$$f(s) = \\Pi_{i=1}^{s_i} p_i^{s_i}$$\n",
    "\n",
    "期待値\n",
    "$$E[s_i] = p_i$$\n",
    "\n",
    "分散\n",
    "$$V[s_i] = p_i(1-p_i)$$"
   ]
  },
  {
   "cell_type": "markdown",
   "metadata": {},
   "source": [
    "## カテゴリカル分布からのランダムサンプル"
   ]
  },
  {
   "cell_type": "code",
   "execution_count": 1,
   "metadata": {},
   "outputs": [],
   "source": [
    "import seaborn as sns\n",
    "import matplotlib.pyplot as plt\n",
    "import numpy as np\n",
    "plt.style.use(\"seaborn-whitegrid\") # seabornの背景色を白に変更"
   ]
  },
  {
   "cell_type": "code",
   "execution_count": 6,
   "metadata": {},
   "outputs": [
    {
     "data": {
      "text/plain": [
       "Text(0, 0.5, 'count')"
      ]
     },
     "execution_count": 6,
     "metadata": {},
     "output_type": "execute_result"
    },
    {
     "data": {
      "image/png": "[encoded data removed]",
      "text/plain": [
       "<Figure size 432x288 with 1 Axes>"
      ]
     },
     "metadata": {},
     "output_type": "display_data"
    }
   ],
   "source": [
    "# n面サイコロ\n",
    "n = 6\n",
    "samplesize = 100\n",
    "\n",
    "s = list(range(1,n+1))\n",
    "p = [1/n]*n\n",
    "result =np.random.choice(s, p = p, size = samplesize)\n",
    "# histgram\n",
    "g = sns.histplot(data=result,bins=6)\n",
    "g.set_xlabel(\"Dice roll\",fontsize=15)\n",
    "g.set_ylabel(\"count\",fontsize=15)"
   ]
  },
  {
   "cell_type": "code",
   "execution_count": null,
   "metadata": {},
   "outputs": [],
   "source": []
  }
 ],
 "metadata": {
  "kernelspec": {
   "display_name": "Python 3",
   "language": "python",
   "name": "python3"
  },
  "language_info": {
   "codemirror_mode": {
    "name": "ipython",
    "version": 3
   },
   "file_extension": ".py",
   "mimetype": "text/x-python",
   "name": "python",
   "nbconvert_exporter": "python",
   "pygments_lexer": "ipython3",
   "version": "3.8.5"
  },
  "toc": {
   "base_numbering": 1,
   "nav_menu": {},
   "number_sections": true,
   "sideBar": true,
   "skip_h1_title": false,
   "title_cell": "Table of Contents",
   "title_sidebar": "Contents",
   "toc_cell": false,
   "toc_position": {},
   "toc_section_display": true,
   "toc_window_display": false
  }
 },
 "nbformat": 4,
 "nbformat_minor": 4
}
