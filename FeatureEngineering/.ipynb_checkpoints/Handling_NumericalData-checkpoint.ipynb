{
 "cells": [
  {
   "cell_type": "code",
   "execution_count": 1,
   "metadata": {},
   "outputs": [],
   "source": [
    "import numpy as np\n",
    "import pandas as pd\n",
    "import matplotlib.pyplot as plt\n",
    "import seaborn as sns\n",
    "plt.style.use(\"seaborn-whitegrid\") # seabornの背景色を白に変更"
   ]
  },
  {
   "cell_type": "markdown",
   "metadata": {},
   "source": [
    "## 二値化\n",
    "二値化は度数が非常に高い部分がある裾の重い分布に対して有力な変換である. 二値化を行うことで機械学習モデルが裾の重いインスタンスに引っ張られて正確な予測ができなくなることを防ぐ. ここでは曲の再生回数のデータを用いて二値化を行う."
   ]
  },
  {
   "cell_type": "code",
   "execution_count": 2,
   "metadata": {},
   "outputs": [
    {
     "data": {
      "text/html": [
       "<div>\n",
       "<style scoped>\n",
       "    .dataframe tbody tr th:only-of-type {\n",
       "        vertical-align: middle;\n",
       "    }\n",
       "\n",
       "    .dataframe tbody tr th {\n",
       "        vertical-align: top;\n",
       "    }\n",
       "\n",
       "    .dataframe thead th {\n",
       "        text-align: right;\n",
       "    }\n",
       "</style>\n",
       "<table border=\"1\" class=\"dataframe\">\n",
       "  <thead>\n",
       "    <tr style=\"text-align: right;\">\n",
       "      <th></th>\n",
       "      <th>Users</th>\n",
       "      <th>MSD songs</th>\n",
       "      <th>Play counts</th>\n",
       "    </tr>\n",
       "  </thead>\n",
       "  <tbody>\n",
       "    <tr>\n",
       "      <th>0</th>\n",
       "      <td>b80344d063b5ccb3212f76538f3d9e43d87dca9e</td>\n",
       "      <td>SOAKIMP12A8C130995</td>\n",
       "      <td>1</td>\n",
       "    </tr>\n",
       "    <tr>\n",
       "      <th>1</th>\n",
       "      <td>b80344d063b5ccb3212f76538f3d9e43d87dca9e</td>\n",
       "      <td>SOAPDEY12A81C210A9</td>\n",
       "      <td>1</td>\n",
       "    </tr>\n",
       "    <tr>\n",
       "      <th>2</th>\n",
       "      <td>b80344d063b5ccb3212f76538f3d9e43d87dca9e</td>\n",
       "      <td>SOBBMDR12A8C13253B</td>\n",
       "      <td>2</td>\n",
       "    </tr>\n",
       "    <tr>\n",
       "      <th>3</th>\n",
       "      <td>b80344d063b5ccb3212f76538f3d9e43d87dca9e</td>\n",
       "      <td>SOBFNSP12AF72A0E22</td>\n",
       "      <td>1</td>\n",
       "    </tr>\n",
       "    <tr>\n",
       "      <th>4</th>\n",
       "      <td>b80344d063b5ccb3212f76538f3d9e43d87dca9e</td>\n",
       "      <td>SOBFOVM12A58A7D494</td>\n",
       "      <td>1</td>\n",
       "    </tr>\n",
       "  </tbody>\n",
       "</table>\n",
       "</div>"
      ],
      "text/plain": [
       "                                      Users           MSD songs  Play counts\n",
       "0  b80344d063b5ccb3212f76538f3d9e43d87dca9e  SOAKIMP12A8C130995            1\n",
       "1  b80344d063b5ccb3212f76538f3d9e43d87dca9e  SOAPDEY12A81C210A9            1\n",
       "2  b80344d063b5ccb3212f76538f3d9e43d87dca9e  SOBBMDR12A8C13253B            2\n",
       "3  b80344d063b5ccb3212f76538f3d9e43d87dca9e  SOBFNSP12AF72A0E22            1\n",
       "4  b80344d063b5ccb3212f76538f3d9e43d87dca9e  SOBFOVM12A58A7D494            1"
      ]
     },
     "execution_count": 2,
     "metadata": {},
     "output_type": "execute_result"
    }
   ],
   "source": [
    "# read data\n",
    "listen_count = pd.read_csv(\"./Data/train_triplets.txt.zip\",header=None,delimiter=\"\\t\")\n",
    "listen_count = listen_count.rename(columns={0:\"Users\",1:\"MSD songs\",2:\"Play counts\"})\n",
    "listen_count.head()"
   ]
  },
  {
   "cell_type": "code",
   "execution_count": 4,
   "metadata": {},
   "outputs": [
    {
     "data": {
      "text/plain": [
       "(48373586, 3)"
      ]
     },
     "execution_count": 4,
     "metadata": {},
     "output_type": "execute_result"
    }
   ],
   "source": [
    "listen_count.shape"
   ]
  },
  {
   "cell_type": "code",
   "execution_count": 8,
   "metadata": {},
   "outputs": [
    {
     "data": {
      "text/plain": [
       "Text(0, 0.5, 'count')"
      ]
     },
     "execution_count": 8,
     "metadata": {},
     "output_type": "execute_result"
    },
    {
     "data": {
      "image/png": "[encoded data removed]",
      "text/plain": [
       "<Figure size 432x288 with 1 Axes>"
      ]
     },
     "metadata": {},
     "output_type": "display_data"
    }
   ],
   "source": [
    "# メモリ足りないから1000レコードのみ表示\n",
    "g = sns.histplot(data=listen_count[\"Play counts\"][:1000])\n",
    "g.set_xlabel(\"Play counts\",fontsize=15)\n",
    "g.set_ylabel(\"count\",fontsize=15)"
   ]
  },
  {
   "cell_type": "code",
   "execution_count": 9,
   "metadata": {},
   "outputs": [],
   "source": [
    "# 二値化\n",
    "listen_count.loc[listen_count[\"Play counts\"]>0 ,\"Play counts\"] = 1"
   ]
  },
  {
   "cell_type": "code",
   "execution_count": 10,
   "metadata": {},
   "outputs": [
    {
     "data": {
      "text/plain": [
       "Text(0, 0.5, 'count')"
      ]
     },
     "execution_count": 10,
     "metadata": {},
     "output_type": "execute_result"
    },
    {
     "data": {
      "image/png": "[encoded data removed]",
      "text/plain": [
       "<Figure size 432x288 with 1 Axes>"
      ]
     },
     "metadata": {},
     "output_type": "display_data"
    }
   ],
   "source": [
    "# メモリ足りないから1000レコードのみ表示\n",
    "# 個のデータは再生数1以上のデータのみで構成されているため全部1になる(コードは0に対応)\n",
    "g = sns.histplot(data=listen_count[\"Play counts\"][:1000])\n",
    "g.set_xlabel(\"Play counts\",fontsize=15)\n",
    "g.set_ylabel(\"count\",fontsize=15)"
   ]
  },
  {
   "cell_type": "markdown",
   "metadata": {},
   "source": [
    "## 離散化\n",
    "二値化同様に,離散化は度数が非常に高い部分がある重い裾の分布で有力な手法である. 離散化の手法として固定幅による離散化と分位数による離散化の2つがある. 固定幅による離散化ではランダム生成したデータ, 分位数による離散化ではレストランのレビューデータを用いて離散化を行う."
   ]
  },
  {
   "cell_type": "markdown",
   "metadata": {},
   "source": [
    "### 固定幅による離散化"
   ]
  },
  {
   "cell_type": "code",
   "execution_count": 13,
   "metadata": {},
   "outputs": [
    {
     "name": "stdout",
     "output_type": "stream",
     "text": [
      "before : [88 36 15 24 26 69 20 11 60 83 27 98 52 28  3 63 24 42 75 71]\n",
      "after : [8 3 1 2 2 6 2 1 6 8 2 9 5 2 0 6 2 4 7 7]\n"
     ]
    }
   ],
   "source": [
    "# 規則性がある場合\n",
    "# データ生成\n",
    "small_counts = np.random.randint(0,100,20)\n",
    "print(\"before :\",small_counts)\n",
    "\n",
    "# 固定幅による離散化\n",
    "# np.floor_divide(data,階級の割り当て)\n",
    "discreated_counts = np.floor_divide(small_counts,10)\n",
    "print(\"after :\",discreated_counts)"
   ]
  },
  {
   "cell_type": "code",
   "execution_count": 16,
   "metadata": {},
   "outputs": [
    {
     "name": "stdout",
     "output_type": "stream",
     "text": [
      "before : [3749   46 6190 2410 2819  143 3022 8224 8306 4914 3005  908 3666 2403\n",
      " 4938 2003  720 2915 8574 1418]\n",
      "after : [8. 3. 8. 7. 7. 4. 8. 9. 9. 8. 8. 6. 8. 7. 8. 7. 6. 7. 9. 7.]\n"
     ]
    }
   ],
   "source": [
    "# 10の累乗で離散化\n",
    "# データ生成\n",
    "large_counts = np.random.randint(0,10000,20)\n",
    "print(\"before :\",large_counts)\n",
    "\n",
    "# 固定幅による離散化\n",
    "# np.floor_divide(data,階級の割り当て)\n",
    "discreated_counts = np.floor(np.log(large_counts))\n",
    "print(\"after :\",discreated_counts)"
   ]
  },
  {
   "cell_type": "markdown",
   "metadata": {},
   "source": [
    "### 分位数による離散化"
   ]
  },
  {
   "cell_type": "code",
   "execution_count": null,
   "metadata": {},
   "outputs": [],
   "source": []
  }
 ],
 "metadata": {
  "kernelspec": {
   "display_name": "Python 3",
   "language": "python",
   "name": "python3"
  },
  "language_info": {
   "codemirror_mode": {
    "name": "ipython",
    "version": 3
   },
   "file_extension": ".py",
   "mimetype": "text/x-python",
   "name": "python",
   "nbconvert_exporter": "python",
   "pygments_lexer": "ipython3",
   "version": "3.8.5"
  },
  "toc": {
   "base_numbering": 1,
   "nav_menu": {},
   "number_sections": true,
   "sideBar": true,
   "skip_h1_title": false,
   "title_cell": "Table of Contents",
   "title_sidebar": "Contents",
   "toc_cell": false,
   "toc_position": {},
   "toc_section_display": true,
   "toc_window_display": true
  }
 },
 "nbformat": 4,
 "nbformat_minor": 4
}
